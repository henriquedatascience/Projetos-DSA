{
 "cells": [
  {
   "cell_type": "markdown",
   "id": "c6d6f386",
   "metadata": {},
   "source": [
    "# Análise de Risco no Transporte Público"
   ]
  },
  {
   "cell_type": "markdown",
   "id": "23b37916",
   "metadata": {},
   "source": [
    "O principal objetivo desse projeto é responder 10 perguntas sobre os dados, são elas:\n",
    "\n",
    "1. Qual a quantidade de incidentes por gênero?\n",
    "2. Qual faixa etária esteve mais envolvida nos incidentes?\n",
    "3. Qual o percentual de incidentes por tipo de evento (Incident Event \n",
    "Type)?\n",
    "4. Como foi a evolução de incidentes por mês ao longo do tempo?\n",
    "5. Quando o incidente foi “Collision Incident” em qual mês houve o maior \n",
    "número de incidentes envolvendo pessoas do sexo feminino?\n",
    "6. Qual foi a média de incidentes por mês envolvendo crianças (Child)?\n",
    "7. Considerando a descrição de incidente como “Injuries treated on scene” \n",
    "(coluna Injury Result Description), qual o total de incidentes de pessoas \n",
    "do sexo masculino e sexo feminino?\n",
    "8. No ano de 2017 em qual mês houve mais incidentes com idosos \n",
    "(Elderly)?\n",
    "9. Considerando o Operador qual a distribuição de incidentes ao longo do \n",
    "tempo?\n",
    "10. Qual o tipo de incidente mais comum com ciclistas?"
   ]
  },
  {
   "cell_type": "markdown",
   "id": "fe24e78f",
   "metadata": {},
   "source": [
    "## Importando Pacotes"
   ]
  },
  {
   "cell_type": "code",
   "execution_count": 1,
   "id": "8a35c2e4",
   "metadata": {},
   "outputs": [
    {
     "data": {
      "text/plain": [
       "<Figure size 1000x600 with 0 Axes>"
      ]
     },
     "metadata": {},
     "output_type": "display_data"
    }
   ],
   "source": [
    "import pandas as pd\n",
    "import numpy as np\n",
    "import matplotlib\n",
    "import matplotlib.pyplot as plt\n",
    "import seaborn as sns\n",
    "\n",
    "# Formatação dos gráficos\n",
    "plt.figure(figsize = (10, 6))\n",
    "# matplotlib.use('nbAgg')\n",
    "plt.rcParams.update({'figure.max_open_warning': 0})\n",
    "sns.set_style('whitegrid')"
   ]
  },
  {
   "cell_type": "markdown",
   "id": "76b36ba3",
   "metadata": {},
   "source": [
    "Carregando dataset."
   ]
  },
  {
   "cell_type": "code",
   "execution_count": 2,
   "id": "41416c97",
   "metadata": {},
   "outputs": [
    {
     "data": {
      "text/html": [
       "<div>\n",
       "<style scoped>\n",
       "    .dataframe tbody tr th:only-of-type {\n",
       "        vertical-align: middle;\n",
       "    }\n",
       "\n",
       "    .dataframe tbody tr th {\n",
       "        vertical-align: top;\n",
       "    }\n",
       "\n",
       "    .dataframe thead th {\n",
       "        text-align: right;\n",
       "    }\n",
       "</style>\n",
       "<table border=\"1\" class=\"dataframe\">\n",
       "  <thead>\n",
       "    <tr style=\"text-align: right;\">\n",
       "      <th></th>\n",
       "      <th>Year</th>\n",
       "      <th>Date Of Incident</th>\n",
       "      <th>Route</th>\n",
       "      <th>Operator</th>\n",
       "      <th>Group Name</th>\n",
       "      <th>Bus Garage</th>\n",
       "      <th>Borough</th>\n",
       "      <th>Injury Result Description</th>\n",
       "      <th>Incident Event Type</th>\n",
       "      <th>Victim Category</th>\n",
       "      <th>Victims Sex</th>\n",
       "      <th>Victims Age</th>\n",
       "    </tr>\n",
       "  </thead>\n",
       "  <tbody>\n",
       "    <tr>\n",
       "      <th>0</th>\n",
       "      <td>2015</td>\n",
       "      <td>2015-01-01</td>\n",
       "      <td>1</td>\n",
       "      <td>London General</td>\n",
       "      <td>Go-Ahead</td>\n",
       "      <td>Garage Not Available</td>\n",
       "      <td>Southwark</td>\n",
       "      <td>Injuries treated on scene</td>\n",
       "      <td>Onboard Injuries</td>\n",
       "      <td>Passenger</td>\n",
       "      <td>Male</td>\n",
       "      <td>Child</td>\n",
       "    </tr>\n",
       "    <tr>\n",
       "      <th>1</th>\n",
       "      <td>2015</td>\n",
       "      <td>2015-01-01</td>\n",
       "      <td>4</td>\n",
       "      <td>Metroline</td>\n",
       "      <td>Metroline</td>\n",
       "      <td>Garage Not Available</td>\n",
       "      <td>Islington</td>\n",
       "      <td>Injuries treated on scene</td>\n",
       "      <td>Onboard Injuries</td>\n",
       "      <td>Passenger</td>\n",
       "      <td>Male</td>\n",
       "      <td>Unknown</td>\n",
       "    </tr>\n",
       "    <tr>\n",
       "      <th>2</th>\n",
       "      <td>2015</td>\n",
       "      <td>2015-01-01</td>\n",
       "      <td>5</td>\n",
       "      <td>East London</td>\n",
       "      <td>Stagecoach</td>\n",
       "      <td>Garage Not Available</td>\n",
       "      <td>Havering</td>\n",
       "      <td>Taken to Hospital – Reported Serious Injury or...</td>\n",
       "      <td>Onboard Injuries</td>\n",
       "      <td>Passenger</td>\n",
       "      <td>Male</td>\n",
       "      <td>Elderly</td>\n",
       "    </tr>\n",
       "    <tr>\n",
       "      <th>3</th>\n",
       "      <td>2015</td>\n",
       "      <td>2015-01-01</td>\n",
       "      <td>5</td>\n",
       "      <td>East London</td>\n",
       "      <td>Stagecoach</td>\n",
       "      <td>Garage Not Available</td>\n",
       "      <td>None London Borough</td>\n",
       "      <td>Taken to Hospital – Reported Serious Injury or...</td>\n",
       "      <td>Onboard Injuries</td>\n",
       "      <td>Passenger</td>\n",
       "      <td>Male</td>\n",
       "      <td>Elderly</td>\n",
       "    </tr>\n",
       "    <tr>\n",
       "      <th>4</th>\n",
       "      <td>2015</td>\n",
       "      <td>2015-01-01</td>\n",
       "      <td>6</td>\n",
       "      <td>Metroline</td>\n",
       "      <td>Metroline</td>\n",
       "      <td>Garage Not Available</td>\n",
       "      <td>Westminster</td>\n",
       "      <td>Reported Minor Injury - Treated at Hospital</td>\n",
       "      <td>Onboard Injuries</td>\n",
       "      <td>Pedestrian</td>\n",
       "      <td>Female</td>\n",
       "      <td>Elderly</td>\n",
       "    </tr>\n",
       "  </tbody>\n",
       "</table>\n",
       "</div>"
      ],
      "text/plain": [
       "   Year Date Of Incident Route        Operator  Group Name  \\\n",
       "0  2015       2015-01-01     1  London General    Go-Ahead   \n",
       "1  2015       2015-01-01     4       Metroline   Metroline   \n",
       "2  2015       2015-01-01     5     East London  Stagecoach   \n",
       "3  2015       2015-01-01     5     East London  Stagecoach   \n",
       "4  2015       2015-01-01     6       Metroline   Metroline   \n",
       "\n",
       "             Bus Garage              Borough  \\\n",
       "0  Garage Not Available            Southwark   \n",
       "1  Garage Not Available            Islington   \n",
       "2  Garage Not Available             Havering   \n",
       "3  Garage Not Available  None London Borough   \n",
       "4  Garage Not Available          Westminster   \n",
       "\n",
       "                           Injury Result Description Incident Event Type  \\\n",
       "0                          Injuries treated on scene    Onboard Injuries   \n",
       "1                          Injuries treated on scene    Onboard Injuries   \n",
       "2  Taken to Hospital – Reported Serious Injury or...    Onboard Injuries   \n",
       "3  Taken to Hospital – Reported Serious Injury or...    Onboard Injuries   \n",
       "4        Reported Minor Injury - Treated at Hospital    Onboard Injuries   \n",
       "\n",
       "  Victim Category Victims Sex Victims Age  \n",
       "0       Passenger        Male       Child  \n",
       "1       Passenger        Male     Unknown  \n",
       "2       Passenger        Male     Elderly  \n",
       "3       Passenger        Male     Elderly  \n",
       "4      Pedestrian      Female     Elderly  "
      ]
     },
     "execution_count": 2,
     "metadata": {},
     "output_type": "execute_result"
    }
   ],
   "source": [
    "df = pd.read_excel('dados/TFL_Bus_Safety.xlsx')\n",
    "df.head()"
   ]
  },
  {
   "cell_type": "markdown",
   "id": "3312826b",
   "metadata": {},
   "source": [
    "Verificando se os dtypes das colunas estão corretos"
   ]
  },
  {
   "cell_type": "code",
   "execution_count": 3,
   "id": "d3b1ba43",
   "metadata": {},
   "outputs": [
    {
     "name": "stdout",
     "output_type": "stream",
     "text": [
      "<class 'pandas.core.frame.DataFrame'>\n",
      "RangeIndex: 23158 entries, 0 to 23157\n",
      "Data columns (total 12 columns):\n",
      " #   Column                     Non-Null Count  Dtype         \n",
      "---  ------                     --------------  -----         \n",
      " 0   Year                       23158 non-null  int64         \n",
      " 1   Date Of Incident           23158 non-null  datetime64[ns]\n",
      " 2   Route                      23158 non-null  object        \n",
      " 3   Operator                   23158 non-null  object        \n",
      " 4   Group Name                 23158 non-null  object        \n",
      " 5   Bus Garage                 23158 non-null  object        \n",
      " 6   Borough                    23158 non-null  object        \n",
      " 7   Injury Result Description  23158 non-null  object        \n",
      " 8   Incident Event Type        23158 non-null  object        \n",
      " 9   Victim Category            23158 non-null  object        \n",
      " 10  Victims Sex                23158 non-null  object        \n",
      " 11  Victims Age                23158 non-null  object        \n",
      "dtypes: datetime64[ns](1), int64(1), object(10)\n",
      "memory usage: 2.1+ MB\n"
     ]
    }
   ],
   "source": [
    "df.info()"
   ]
  },
  {
   "cell_type": "markdown",
   "id": "69f771ba",
   "metadata": {},
   "source": [
    "## Data Wrangling"
   ]
  },
  {
   "cell_type": "code",
   "execution_count": 4,
   "id": "fe3b07fb",
   "metadata": {},
   "outputs": [],
   "source": [
    "###"
   ]
  },
  {
   "cell_type": "markdown",
   "id": "fff13e3a",
   "metadata": {},
   "source": [
    "## Análise Exploratória"
   ]
  },
  {
   "cell_type": "markdown",
   "id": "5904206a",
   "metadata": {},
   "source": [
    "**Qual a quantidade de incidentes por gênero?**"
   ]
  },
  {
   "cell_type": "code",
   "execution_count": 5,
   "id": "94f34d86",
   "metadata": {},
   "outputs": [
    {
     "data": {
      "image/png": "[encoded data removed]",
      "text/plain": [
       "<Figure size 640x480 with 1 Axes>"
      ]
     },
     "metadata": {},
     "output_type": "display_data"
    }
   ],
   "source": [
    "p1 = df[df['Victims Sex'] != 'Unknown']\n",
    "\n",
    "ax = sns.countplot(x = p1['Victims Sex'].sort_values())\n",
    "plt.title('Number of Victims by Gender', fontsize = 16, y = 1.08, loc = 'left', fontweight = 'bold', alpha = 0.95)\n",
    "\n",
    "# Removendo a legenda dos eixos x e y\n",
    "ax.set(xlabel = None, ylabel = None)\n",
    "\n",
    "# Ajustando o eixo y\n",
    "ax.set_ylim(0, 13000)\n",
    "\n",
    "# Adicione números nas barras\n",
    "for p in plt.gca().patches:\n",
    "    plt.gca().annotate(f'{int(p.get_height())}', (p.get_x() + p.get_width() / 2., p.get_height()), \n",
    "                        ha = 'center', va = 'center', fontsize = 9, color = 'black', xytext=(0, 5),\n",
    "                        alpha = 0.75, textcoords = 'offset points')\n",
    "    \n",
    "ax.text(x = -0.5, \n",
    "        y = 13500,\n",
    "        s = 'Women are the ones who suffer the most accidents in London.',\n",
    "        fontsize = 9.5, \n",
    "        alpha = .90);\n",
    "\n",
    "plt.show()"
   ]
  },
  {
   "cell_type": "markdown",
   "id": "84d9d6de",
   "metadata": {},
   "source": [
    "**Qual faixa etária esteve mais envolvida nos incidentes?**"
   ]
  },
  {
   "cell_type": "code",
   "execution_count": 6,
   "id": "9bae5b05",
   "metadata": {},
   "outputs": [
    {
     "data": {
      "image/png": "[encoded data removed]",
      "text/plain": [
       "<Figure size 640x480 with 1 Axes>"
      ]
     },
     "metadata": {},
     "output_type": "display_data"
    }
   ],
   "source": [
    "p2 = df[df['Victims Age'] != 'Unknown']\n",
    "\n",
    "ax = sns.countplot(x = p2['Victims Age'].sort_values())\n",
    "plt.title('Number of Victims By Age Group', fontsize = 16, y = 1.1, loc = 'left', fontweight = 'bold', alpha = 0.95)\n",
    "\n",
    "# Removendo a legenda dos eixos x e y\n",
    "ax.set(xlabel = None, ylabel = None)\n",
    "\n",
    "# Ajustando o eixo y\n",
    "ax.set_ylim(0, 11500)\n",
    "\n",
    "# Adicione números nas barras\n",
    "for p in plt.gca().patches:\n",
    "    plt.gca().annotate(f'{int(p.get_height())}', (p.get_x() + p.get_width() / 2., p.get_height()), \n",
    "                        ha = 'center', va = 'center', fontsize = 9, color = 'black', xytext=(0, 5),\n",
    "                        alpha = 0.75, textcoords = 'offset points')\n",
    "    \n",
    "ax.text(x = -0.5, \n",
    "        y = 11850,\n",
    "        s = 'Adults are the ones most involved in accidents, around 67% of accidents. \\nNext come the elderly with 17% and children with 14%.',\n",
    "        fontsize = 9.5, \n",
    "        alpha = .90);\n",
    "\n",
    "plt.show()"
   ]
  },
  {
   "cell_type": "code",
   "execution_count": 7,
   "id": "13cda69a",
   "metadata": {},
   "outputs": [
    {
     "data": {
      "text/plain": [
       "Victims Age\n",
       "Adult      0.67\n",
       "Elderly    0.17\n",
       "Child      0.14\n",
       "Youth      0.02\n",
       "Name: proportion, dtype: float64"
      ]
     },
     "execution_count": 7,
     "metadata": {},
     "output_type": "execute_result"
    }
   ],
   "source": [
    "p2['Victims Age'].value_counts(normalize = True).round(2)"
   ]
  },
  {
   "cell_type": "code",
   "execution_count": null,
   "id": "ba16a6a9",
   "metadata": {},
   "outputs": [],
   "source": []
  }
 ],
 "metadata": {
  "kernelspec": {
   "display_name": "Python 3 (ipykernel)",
   "language": "python",
   "name": "python3"
  },
  "language_info": {
   "codemirror_mode": {
    "name": "ipython",
    "version": 3
   },
   "file_extension": ".py",
   "mimetype": "text/x-python",
   "name": "python",
   "nbconvert_exporter": "python",
   "pygments_lexer": "ipython3",
   "version": "3.9.13"
  }
 },
 "nbformat": 4,
 "nbformat_minor": 5
}
