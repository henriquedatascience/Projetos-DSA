{
 "cells": [
  {
   "cell_type": "markdown",
   "id": "c6d6f386",
   "metadata": {},
   "source": [
    "# Análise de Risco no Transporte Público"
   ]
  },
  {
   "cell_type": "markdown",
   "id": "23b37916",
   "metadata": {},
   "source": [
    "O principal objetivo desse projeto é responder 10 perguntas sobre os dados, são elas:\n",
    "\n",
    "1. Qual a quantidade de incidentes por gênero?\n",
    "2. Qual faixa etária esteve mais envolvida nos incidentes?\n",
    "3. Qual o percentual de incidentes por tipo de evento (Incident Event Type)?\n",
    "4. Como foi a evolução de incidentes por mês ao longo do tempo?\n",
    "5. Quando o incidente foi “Collision Incident” em qual mês houve o maior número de incidentes envolvendo pessoas do sexo feminino?\n",
    "6. Qual foi a média de incidentes por mês envolvendo crianças (Child)?\n",
    "7. Considerando a descrição de incidente como “Injuries treated on scene” (coluna Injury Result Description), qual o total de incidentes de pessoas do sexo masculino e sexo feminino?\n",
    "8. No ano de 2017 em qual mês houve mais incidentes com idosos (Elderly)?\n",
    "9. Considerando o Operador qual a distribuição de incidentes ao longo do tempo?\n",
    "10. Qual o tipo de incidente mais comum com ciclistas?"
   ]
  },
  {
   "cell_type": "markdown",
   "id": "fe24e78f",
   "metadata": {},
   "source": [
    "## Importando Pacotes"
   ]
  },
  {
   "cell_type": "code",
   "execution_count": 1,
   "id": "8a35c2e4",
   "metadata": {},
   "outputs": [
    {
     "data": {
      "text/plain": [
       "<Figure size 1000x600 with 0 Axes>"
      ]
     },
     "metadata": {},
     "output_type": "display_data"
    }
   ],
   "source": [
    "import pandas as pd\n",
    "import numpy as np\n",
    "import matplotlib\n",
    "import matplotlib.pyplot as plt\n",
    "import matplotlib.dates as mdates\n",
    "import seaborn as sns\n",
    "import plotly.express as px\n",
    "\n",
    "# Formatação dos gráficos\n",
    "plt.figure(figsize = (10, 6))\n",
    "# matplotlib.use('nbAgg')\n",
    "plt.rcParams.update({'figure.max_open_warning': 0})\n",
    "sns.set_style('whitegrid')"
   ]
  },
  {
   "cell_type": "markdown",
   "id": "76b36ba3",
   "metadata": {},
   "source": [
    "Carregando dataset."
   ]
  },
  {
   "cell_type": "code",
   "execution_count": 2,
   "id": "41416c97",
   "metadata": {},
   "outputs": [
    {
     "data": {
      "text/html": [
       "<div>\n",
       "<style scoped>\n",
       "    .dataframe tbody tr th:only-of-type {\n",
       "        vertical-align: middle;\n",
       "    }\n",
       "\n",
       "    .dataframe tbody tr th {\n",
       "        vertical-align: top;\n",
       "    }\n",
       "\n",
       "    .dataframe thead th {\n",
       "        text-align: right;\n",
       "    }\n",
       "</style>\n",
       "<table border=\"1\" class=\"dataframe\">\n",
       "  <thead>\n",
       "    <tr style=\"text-align: right;\">\n",
       "      <th></th>\n",
       "      <th>Year</th>\n",
       "      <th>Date Of Incident</th>\n",
       "      <th>Route</th>\n",
       "      <th>Operator</th>\n",
       "      <th>Group Name</th>\n",
       "      <th>Bus Garage</th>\n",
       "      <th>Borough</th>\n",
       "      <th>Injury Result Description</th>\n",
       "      <th>Incident Event Type</th>\n",
       "      <th>Victim Category</th>\n",
       "      <th>Victims Sex</th>\n",
       "      <th>Victims Age</th>\n",
       "    </tr>\n",
       "  </thead>\n",
       "  <tbody>\n",
       "    <tr>\n",
       "      <th>0</th>\n",
       "      <td>2015</td>\n",
       "      <td>2015-01-01</td>\n",
       "      <td>1</td>\n",
       "      <td>London General</td>\n",
       "      <td>Go-Ahead</td>\n",
       "      <td>Garage Not Available</td>\n",
       "      <td>Southwark</td>\n",
       "      <td>Injuries treated on scene</td>\n",
       "      <td>Onboard Injuries</td>\n",
       "      <td>Passenger</td>\n",
       "      <td>Male</td>\n",
       "      <td>Child</td>\n",
       "    </tr>\n",
       "    <tr>\n",
       "      <th>1</th>\n",
       "      <td>2015</td>\n",
       "      <td>2015-01-01</td>\n",
       "      <td>4</td>\n",
       "      <td>Metroline</td>\n",
       "      <td>Metroline</td>\n",
       "      <td>Garage Not Available</td>\n",
       "      <td>Islington</td>\n",
       "      <td>Injuries treated on scene</td>\n",
       "      <td>Onboard Injuries</td>\n",
       "      <td>Passenger</td>\n",
       "      <td>Male</td>\n",
       "      <td>Unknown</td>\n",
       "    </tr>\n",
       "    <tr>\n",
       "      <th>2</th>\n",
       "      <td>2015</td>\n",
       "      <td>2015-01-01</td>\n",
       "      <td>5</td>\n",
       "      <td>East London</td>\n",
       "      <td>Stagecoach</td>\n",
       "      <td>Garage Not Available</td>\n",
       "      <td>Havering</td>\n",
       "      <td>Taken to Hospital – Reported Serious Injury or...</td>\n",
       "      <td>Onboard Injuries</td>\n",
       "      <td>Passenger</td>\n",
       "      <td>Male</td>\n",
       "      <td>Elderly</td>\n",
       "    </tr>\n",
       "    <tr>\n",
       "      <th>3</th>\n",
       "      <td>2015</td>\n",
       "      <td>2015-01-01</td>\n",
       "      <td>5</td>\n",
       "      <td>East London</td>\n",
       "      <td>Stagecoach</td>\n",
       "      <td>Garage Not Available</td>\n",
       "      <td>None London Borough</td>\n",
       "      <td>Taken to Hospital – Reported Serious Injury or...</td>\n",
       "      <td>Onboard Injuries</td>\n",
       "      <td>Passenger</td>\n",
       "      <td>Male</td>\n",
       "      <td>Elderly</td>\n",
       "    </tr>\n",
       "    <tr>\n",
       "      <th>4</th>\n",
       "      <td>2015</td>\n",
       "      <td>2015-01-01</td>\n",
       "      <td>6</td>\n",
       "      <td>Metroline</td>\n",
       "      <td>Metroline</td>\n",
       "      <td>Garage Not Available</td>\n",
       "      <td>Westminster</td>\n",
       "      <td>Reported Minor Injury - Treated at Hospital</td>\n",
       "      <td>Onboard Injuries</td>\n",
       "      <td>Pedestrian</td>\n",
       "      <td>Female</td>\n",
       "      <td>Elderly</td>\n",
       "    </tr>\n",
       "  </tbody>\n",
       "</table>\n",
       "</div>"
      ],
      "text/plain": [
       "   Year Date Of Incident Route        Operator  Group Name  \\\n",
       "0  2015       2015-01-01     1  London General    Go-Ahead   \n",
       "1  2015       2015-01-01     4       Metroline   Metroline   \n",
       "2  2015       2015-01-01     5     East London  Stagecoach   \n",
       "3  2015       2015-01-01     5     East London  Stagecoach   \n",
       "4  2015       2015-01-01     6       Metroline   Metroline   \n",
       "\n",
       "             Bus Garage              Borough  \\\n",
       "0  Garage Not Available            Southwark   \n",
       "1  Garage Not Available            Islington   \n",
       "2  Garage Not Available             Havering   \n",
       "3  Garage Not Available  None London Borough   \n",
       "4  Garage Not Available          Westminster   \n",
       "\n",
       "                           Injury Result Description Incident Event Type  \\\n",
       "0                          Injuries treated on scene    Onboard Injuries   \n",
       "1                          Injuries treated on scene    Onboard Injuries   \n",
       "2  Taken to Hospital – Reported Serious Injury or...    Onboard Injuries   \n",
       "3  Taken to Hospital – Reported Serious Injury or...    Onboard Injuries   \n",
       "4        Reported Minor Injury - Treated at Hospital    Onboard Injuries   \n",
       "\n",
       "  Victim Category Victims Sex Victims Age  \n",
       "0       Passenger        Male       Child  \n",
       "1       Passenger        Male     Unknown  \n",
       "2       Passenger        Male     Elderly  \n",
       "3       Passenger        Male     Elderly  \n",
       "4      Pedestrian      Female     Elderly  "
      ]
     },
     "execution_count": 2,
     "metadata": {},
     "output_type": "execute_result"
    }
   ],
   "source": [
    "df = pd.read_excel('dados/TFL_Bus_Safety.xlsx')\n",
    "df.head()"
   ]
  },
  {
   "cell_type": "markdown",
   "id": "3312826b",
   "metadata": {},
   "source": [
    "Verificando se os dtypes das colunas estão corretos"
   ]
  },
  {
   "cell_type": "code",
   "execution_count": 3,
   "id": "d3b1ba43",
   "metadata": {},
   "outputs": [
    {
     "name": "stdout",
     "output_type": "stream",
     "text": [
      "<class 'pandas.core.frame.DataFrame'>\n",
      "RangeIndex: 23158 entries, 0 to 23157\n",
      "Data columns (total 12 columns):\n",
      " #   Column                     Non-Null Count  Dtype         \n",
      "---  ------                     --------------  -----         \n",
      " 0   Year                       23158 non-null  int64         \n",
      " 1   Date Of Incident           23158 non-null  datetime64[ns]\n",
      " 2   Route                      23158 non-null  object        \n",
      " 3   Operator                   23158 non-null  object        \n",
      " 4   Group Name                 23158 non-null  object        \n",
      " 5   Bus Garage                 23158 non-null  object        \n",
      " 6   Borough                    23158 non-null  object        \n",
      " 7   Injury Result Description  23158 non-null  object        \n",
      " 8   Incident Event Type        23158 non-null  object        \n",
      " 9   Victim Category            23158 non-null  object        \n",
      " 10  Victims Sex                23158 non-null  object        \n",
      " 11  Victims Age                23158 non-null  object        \n",
      "dtypes: datetime64[ns](1), int64(1), object(10)\n",
      "memory usage: 2.1+ MB\n"
     ]
    }
   ],
   "source": [
    "df.info()"
   ]
  },
  {
   "cell_type": "markdown",
   "id": "69f771ba",
   "metadata": {},
   "source": [
    "## Data Wrangling"
   ]
  },
  {
   "cell_type": "code",
   "execution_count": 4,
   "id": "fe3b07fb",
   "metadata": {},
   "outputs": [],
   "source": [
    "###"
   ]
  },
  {
   "cell_type": "markdown",
   "id": "fff13e3a",
   "metadata": {},
   "source": [
    "## Análise Exploratória"
   ]
  },
  {
   "cell_type": "markdown",
   "id": "5904206a",
   "metadata": {},
   "source": [
    "**Qual a quantidade de incidentes por gênero?**"
   ]
  },
  {
   "cell_type": "code",
   "execution_count": 5,
   "id": "94f34d86",
   "metadata": {},
   "outputs": [
    {
     "data": {
      "image/png": "[encoded data removed]",
      "text/plain": [
       "<Figure size 640x480 with 1 Axes>"
      ]
     },
     "metadata": {},
     "output_type": "display_data"
    }
   ],
   "source": [
    "p1 = df[df['Victims Sex'] != 'Unknown']\n",
    "\n",
    "ax = sns.countplot(x = p1['Victims Sex'].sort_values())\n",
    "plt.title('Number of Victims by Gender', fontsize = 16, y = 1.08, loc = 'left', fontweight = 'bold', alpha = 0.95)\n",
    "\n",
    "# Removendo a legenda dos eixos x e y\n",
    "ax.set(xlabel = None, ylabel = None)\n",
    "\n",
    "# Ajustando o eixo y\n",
    "ax.set_ylim(0, 13000)\n",
    "\n",
    "# Adicione números nas barras\n",
    "for p in plt.gca().patches:\n",
    "    plt.gca().annotate(f'{int(p.get_height())}', (p.get_x() + p.get_width() / 2., p.get_height()), \n",
    "                        ha = 'center', va = 'center', fontsize = 9, color = 'black', xytext=(0, 5),\n",
    "                        alpha = 0.75, textcoords = 'offset points')\n",
    "    \n",
    "ax.text(x = -0.5, \n",
    "        y = 13500,\n",
    "        s = 'Women are the ones who suffer the most accidents in London.',\n",
    "        fontsize = 9.5, \n",
    "        alpha = .90);\n",
    "\n",
    "plt.show()"
   ]
  },
  {
   "cell_type": "markdown",
   "id": "84d9d6de",
   "metadata": {},
   "source": [
    "**Qual faixa etária esteve mais envolvida nos incidentes?**"
   ]
  },
  {
   "cell_type": "code",
   "execution_count": 6,
   "id": "9bae5b05",
   "metadata": {},
   "outputs": [
    {
     "data": {
      "image/png": "[encoded data removed]",
      "text/plain": [
       "<Figure size 640x480 with 1 Axes>"
      ]
     },
     "metadata": {},
     "output_type": "display_data"
    }
   ],
   "source": [
    "p2 = df[df['Victims Age'] != 'Unknown']\n",
    "\n",
    "ax = sns.countplot(x = p2['Victims Age'].sort_values())\n",
    "plt.title('Number of Victims By Age Group', fontsize = 16, y = 1.11, loc = 'left', fontweight = 'bold', alpha = 0.95)\n",
    "\n",
    "# Removendo a legenda dos eixos x e y\n",
    "ax.set(xlabel = None, ylabel = None)\n",
    "\n",
    "# Ajustando o eixo y\n",
    "ax.set_ylim(0, 11500)\n",
    "\n",
    "# Adicione números nas barras\n",
    "for p in plt.gca().patches:\n",
    "    plt.gca().annotate(f'{int(p.get_height())}', (p.get_x() + p.get_width() / 2., p.get_height()), \n",
    "                        ha = 'center', va = 'center', fontsize = 9, color = 'black', xytext=(0, 5),\n",
    "                        alpha = 0.75, textcoords = 'offset points')\n",
    "    \n",
    "ax.text(x = -0.5, \n",
    "        y = 11900,\n",
    "        s = 'Adults are the ones most involved in accidents, around 67% of accidents. \\nNext come the elderly with 17% and children with 14%.',\n",
    "        fontsize = 9.5, \n",
    "        alpha = .90);\n",
    "\n",
    "plt.show()"
   ]
  },
  {
   "cell_type": "markdown",
   "id": "b3c2364c",
   "metadata": {},
   "source": [
    "**Qual o percentual de incidentes por tipo de evento (Incident Event Type)?**"
   ]
  },
  {
   "cell_type": "code",
   "execution_count": 7,
   "id": "ba16a6a9",
   "metadata": {},
   "outputs": [
    {
     "data": {
      "image/png": "[encoded data removed]",
      "text/plain": [
       "<Figure size 640x480 with 1 Axes>"
      ]
     },
     "metadata": {},
     "output_type": "display_data"
    }
   ],
   "source": [
    "p3 = df['Incident Event Type'].value_counts(normalize = True).round(2) * 100\n",
    "p3 = pd.DataFrame(p3).reset_index()\n",
    "p3 = p3[p3['proportion'] > 0.1]\n",
    "\n",
    "ax = sns.barplot(data = p3, x = 'Incident Event Type', y = 'proportion')\n",
    "plt.title('Most Common Types of Accidents', fontsize = 16, y = 1.1, loc = 'left', fontweight = 'bold', alpha = 0.95)\n",
    "\n",
    "# Removendo a legenda dos eixos X e Y\n",
    "ax.set(xlabel = None, ylabel = None)\n",
    "\n",
    "# Ajustando o eixo Y\n",
    "ax.set_ylim(0, 32)\n",
    "\n",
    "# Rotacionando os valores do eixo X\n",
    "plt.xticks(rotation = 30)\n",
    "\n",
    "# Removendo os valores do eixo Y\n",
    "plt.gca().yaxis.set_major_formatter(plt.NullFormatter())\n",
    "\n",
    "# Adicione números nas barras\n",
    "for p in ax.patches:\n",
    "    value = int(p.get_height())  # Calcula o valor com base na proporção\n",
    "    ax.annotate(f'{value}%', (p.get_x() + p.get_width() / 2., p.get_height()), \n",
    "                ha='center', va='center', fontsize=9, color='black', xytext=(0, 5), alpha=0.75, textcoords='offset points')\n",
    "    \n",
    "# Adicionando subtítulo\n",
    "ax.text(x = -0.5, \n",
    "        y = 33,\n",
    "        s = 'We see that car journeys in autumn and people injured in vehicles cause more than \\nhalf of accidents in London.',\n",
    "        fontsize = 9.5, \n",
    "        alpha = .90);\n",
    "\n",
    "plt.show()"
   ]
  },
  {
   "cell_type": "markdown",
   "id": "b88128fc",
   "metadata": {},
   "source": [
    "**Como foi a evolução de incidentes por mês ao longo do tempo?**"
   ]
  },
  {
   "cell_type": "code",
   "execution_count": 8,
   "id": "c55ce73b",
   "metadata": {},
   "outputs": [
    {
     "data": {
      "image/png": "[encoded data removed]",
      "text/plain": [
       "<Figure size 1600x400 with 1 Axes>"
      ]
     },
     "metadata": {},
     "output_type": "display_data"
    }
   ],
   "source": [
    "fig, ax = plt.subplots(figsize=(16, 4))\n",
    "\n",
    "p4 = df.groupby('Date Of Incident').agg({'Victims Age': 'count'}).reset_index()\n",
    "p4 = p4.rename(columns = {'Victims Age': 'Total Number of Victims'})\n",
    "\n",
    "# Plot\n",
    "ax.plot(p4['Date Of Incident'], p4['Total Number of Victims']);\n",
    "plt.title('Number of Accidents Per Month', fontsize = 16, y = 1.1, loc = 'left', fontweight = 'bold', alpha = 0.95)\n",
    "\n",
    "# Mostrando os valores do eixo X de 3 em 3 meses\n",
    "ax.xaxis.set_major_locator(mdates.MonthLocator(interval = 3))\n",
    "\n",
    "# Ajustando o eixo Y\n",
    "ax.set_ylim(330, 690)\n",
    "\n",
    "# Removendo os valores do eixo Y\n",
    "plt.gca().yaxis.set_major_formatter(plt.NullFormatter())\n",
    "\n",
    "# Ajustando os limites do início e fim do gráfico\n",
    "ax.set_xlim(p4['Date Of Incident'].min(), p4['Date Of Incident'].max())\n",
    "\n",
    "# Rotacionando os valores do eixo X\n",
    "plt.xticks(rotation = 30)\n",
    "\n",
    "# Adicionando os valores no topo da linha\n",
    "for i, (date, value) in enumerate(zip(p4['Date Of Incident'], p4['Total Number of Victims'])):\n",
    "    if i == 0:\n",
    "        offset = 10\n",
    "    elif i == len(p4) - 1:\n",
    "        offset = -20\n",
    "    else:\n",
    "        prev_value = p4['Total Number of Victims'].iloc[i - 1]\n",
    "        next_value = p4['Total Number of Victims'].iloc[i + 1]\n",
    "        if value >= prev_value and value >= next_value:\n",
    "            offset = 10\n",
    "        else:\n",
    "            offset = -20\n",
    "    \n",
    "    ax.annotate(value, (date, value), textcoords = 'offset points', xytext=(0, offset), ha='center')\n",
    "    \n",
    "plt.show()"
   ]
  },
  {
   "cell_type": "markdown",
   "id": "5492a199",
   "metadata": {},
   "source": [
    "**Quando o incidente foi “Collision Incident” em qual mês houve o maior número de incidentes envolvendo pessoas do sexo feminino?**"
   ]
  },
  {
   "cell_type": "code",
   "execution_count": 9,
   "id": "db11576f",
   "metadata": {},
   "outputs": [
    {
     "name": "stderr",
     "output_type": "stream",
     "text": [
      "C:\\Users\\Matheus\\AppData\\Local\\Temp\\ipykernel_13636\\1398031801.py:3: SettingWithCopyWarning: \n",
      "A value is trying to be set on a copy of a slice from a DataFrame.\n",
      "Try using .loc[row_indexer,col_indexer] = value instead\n",
      "\n",
      "See the caveats in the documentation: https://pandas.pydata.org/pandas-docs/stable/user_guide/indexing.html#returning-a-view-versus-a-copy\n",
      "  p5['Mês'] = p5['Date Of Incident'].dt.month\n"
     ]
    }
   ],
   "source": [
    "# Filtrando os dados pelas condições desejadas\n",
    "p5 = df[(df['Incident Event Type'] == 'Collision Incident') & (df['Victims Sex'] == 'Female')]\n",
    "p5['Mês'] = p5['Date Of Incident'].dt.month\n",
    "p5 = p5.groupby('Mês').agg({'Victims Sex': 'count'}).reset_index()\n",
    "p5\n",
    "\n",
    "meses = {\n",
    "    1: 'January',\n",
    "    2: 'February',\n",
    "    3: 'March',\n",
    "    4: 'April',\n",
    "    5: 'May',\n",
    "    6: 'June',\n",
    "    7: 'July',\n",
    "    8: 'August',\n",
    "    9: 'September',\n",
    "    10: 'October',\n",
    "    11: 'November',\n",
    "    12: 'December'\n",
    "}\n",
    "\n",
    "p5['Mês'] = p5['Mês'].map(meses)"
   ]
  },
  {
   "cell_type": "code",
   "execution_count": 10,
   "id": "416b5ad9",
   "metadata": {},
   "outputs": [
    {
     "data": {
      "text/plain": [
       "Text(-0.5, 176, 'September is the month with the highest number of accidents involving women, followed by June, July and April. Highlight is the month of December with the \\nlowest number of accidents recorded.')"
      ]
     },
     "execution_count": 10,
     "metadata": {},
     "output_type": "execute_result"
    },
    {
     "data": {
      "image/png": "[encoded data removed]",
      "text/plain": [
       "<Figure size 1200x600 with 1 Axes>"
      ]
     },
     "metadata": {},
     "output_type": "display_data"
    }
   ],
   "source": [
    "# Configurando tamanho do gráfico\n",
    "plt.figure(figsize = (12, 6))\n",
    "\n",
    "# Plot\n",
    "ax = sns.barplot(data = p5, x = 'Mês', y = 'Victims Sex')\n",
    "plt.title('Number of Accidents Per Month Involving Women', fontsize = 16, y = 1.1, loc = 'left', fontweight = 'bold', alpha = 0.95)\n",
    "\n",
    "# Removendo a legenda dos eixos X e Y\n",
    "ax.set(xlabel = None, ylabel = None)\n",
    "\n",
    "# Ajustando o eixo Y\n",
    "ax.set_ylim(0, 170)\n",
    "\n",
    "# Rotacionando os valores do eixo X\n",
    "plt.xticks(rotation = 30)\n",
    "\n",
    "# Adicione números nas barras\n",
    "for p in plt.gca().patches:\n",
    "    plt.gca().annotate(f'{int(p.get_height())}', (p.get_x() + p.get_width() / 2., p.get_height()), \n",
    "                        ha = 'center', va = 'center', fontsize = 9, color = 'black', xytext=(0, 5),\n",
    "                        alpha = 0.75, textcoords = 'offset points')\n",
    "    \n",
    "# Adicionando subtítulo\n",
    "ax.text(x = -0.5, \n",
    "        y = 176,\n",
    "        s = 'September is the month with the highest number of accidents involving women, followed by June, July and April. Highlight is the month of December with the \\nlowest number of accidents recorded.',\n",
    "        fontsize = 9.5, \n",
    "        alpha = .90)"
   ]
  },
  {
   "cell_type": "markdown",
   "id": "e9ebd627",
   "metadata": {},
   "source": [
    "**Qual foi a média de incidentes por mês envolvendo crianças (Child)?**"
   ]
  },
  {
   "cell_type": "code",
   "execution_count": 11,
   "id": "38d43bb1",
   "metadata": {},
   "outputs": [
    {
     "name": "stderr",
     "output_type": "stream",
     "text": [
      "C:\\Users\\Matheus\\AppData\\Local\\Temp\\ipykernel_13636\\1401003186.py:2: SettingWithCopyWarning: \n",
      "A value is trying to be set on a copy of a slice from a DataFrame.\n",
      "Try using .loc[row_indexer,col_indexer] = value instead\n",
      "\n",
      "See the caveats in the documentation: https://pandas.pydata.org/pandas-docs/stable/user_guide/indexing.html#returning-a-view-versus-a-copy\n",
      "  p6['Ano'] = p6['Date Of Incident'].dt.year\n",
      "C:\\Users\\Matheus\\AppData\\Local\\Temp\\ipykernel_13636\\1401003186.py:3: SettingWithCopyWarning: \n",
      "A value is trying to be set on a copy of a slice from a DataFrame.\n",
      "Try using .loc[row_indexer,col_indexer] = value instead\n",
      "\n",
      "See the caveats in the documentation: https://pandas.pydata.org/pandas-docs/stable/user_guide/indexing.html#returning-a-view-versus-a-copy\n",
      "  p6['Mês'] = p6['Date Of Incident'].dt.month\n"
     ]
    }
   ],
   "source": [
    "p6 = df[df['Victims Age'] == 'Child']\n",
    "p6['Ano'] = p6['Date Of Incident'].dt.year\n",
    "p6['Mês'] = p6['Date Of Incident'].dt.month\n",
    "p6 = p6.groupby(['Ano', 'Mês']).agg({'Victims Age': 'count'}).reset_index()\n",
    "p6 = p6.groupby('Mês')['Victims Age'].mean().round(2).reset_index()\n",
    "\n",
    "p6['Mês'] = p6['Mês'].map(meses)"
   ]
  },
  {
   "cell_type": "code",
   "execution_count": 12,
   "id": "36c8a82e",
   "metadata": {},
   "outputs": [
    {
     "data": {
      "image/png": "[encoded data removed]",
      "text/plain": [
       "<Figure size 1000x400 with 1 Axes>"
      ]
     },
     "metadata": {},
     "output_type": "display_data"
    }
   ],
   "source": [
    "# Configurando tamanho do gráfico\n",
    "plt.figure(figsize = (10, 4))\n",
    "\n",
    "# Plot\n",
    "ax = sns.barplot(data = p6, x = 'Mês', y = 'Victims Age')\n",
    "plt.title('Average Number of Accidents Per Month Involving Children', fontsize = 16, y = 1.09, loc = 'left', fontweight = 'bold', alpha = 0.95)\n",
    "\n",
    "# Removendo a legenda dos eixos X e Y\n",
    "ax.set(xlabel = None, ylabel = None)\n",
    "\n",
    "# Ajustando o eixo Y\n",
    "ax.set_ylim(0, 70)\n",
    "\n",
    "# Rotacionando os valores do eixo X\n",
    "plt.xticks(rotation = 30)\n",
    "\n",
    "# Adicione números nas barras\n",
    "for p in plt.gca().patches:\n",
    "    plt.gca().annotate(f'{int(p.get_height())}', (p.get_x() + p.get_width() / 2., p.get_height()), \n",
    "                        ha = 'center', va = 'center', fontsize = 9, color = 'black', xytext=(0, 5),\n",
    "                        alpha = 0.75, textcoords = 'offset points')\n",
    "    \n",
    "# Adicionando subtítulo\n",
    "ax.text(x = -0.5, \n",
    "        y = 73.5,\n",
    "        s = 'June, July, April and September have the highest averages. Highlight is January, which has the lowest average among the others.',\n",
    "        fontsize = 9.5, \n",
    "        alpha = .90)\n",
    "\n",
    "plt.show()"
   ]
  },
  {
   "cell_type": "markdown",
   "id": "386f2d3d",
   "metadata": {},
   "source": [
    "**Considerando a descrição de incidente como “Injuries treated on scene” (coluna Injury Result Description), qual o total de incidentes de pessoas do sexo masculino e sexo feminino?**"
   ]
  },
  {
   "cell_type": "code",
   "execution_count": 13,
   "id": "aefd367c",
   "metadata": {},
   "outputs": [
    {
     "data": {
      "image/png": "[encoded data removed]",
      "text/plain": [
       "<Figure size 640x480 with 1 Axes>"
      ]
     },
     "metadata": {},
     "output_type": "display_data"
    }
   ],
   "source": [
    "p7 = df[df['Injury Result Description'] == 'Injuries treated on scene']\n",
    "p7 = p7[p7['Victims Sex'] != 'Unknown']\n",
    "\n",
    "\n",
    "ax = sns.countplot(x = p7['Victims Sex'].sort_values())\n",
    "plt.title('Number of Injuries Treated Locally by Gender', fontsize = 16, y = 1.11, loc = 'left', fontweight = 'bold', alpha = 0.95)\n",
    "\n",
    "# Removendo a legenda dos eixos x e y\n",
    "ax.set(xlabel = None, ylabel = None)\n",
    "\n",
    "# Ajustando o eixo y\n",
    "ax.set_ylim(0, 10000)\n",
    "\n",
    "# Adicione números nas barras\n",
    "for p in plt.gca().patches:\n",
    "    plt.gca().annotate(f'{int(p.get_height())}', (p.get_x() + p.get_width() / 2., p.get_height()), \n",
    "                        ha = 'center', va = 'center', fontsize = 9, color = 'black', xytext=(0, 5),\n",
    "                        alpha = 0.75, textcoords = 'offset points')\n",
    "    \n",
    "ax.text(x = -0.5, \n",
    "        y = 10360,\n",
    "        s = 'Women are the gender that has the most injuries treated at the scene of the \\naccident, around 61%, men have the remaining 39%.',\n",
    "        fontsize = 9.5, \n",
    "        alpha = .90);\n",
    "\n",
    "plt.show()"
   ]
  },
  {
   "cell_type": "code",
   "execution_count": 14,
   "id": "08584c92",
   "metadata": {},
   "outputs": [
    {
     "data": {
      "text/plain": [
       "Victims Sex\n",
       "Female    0.61\n",
       "Male      0.39\n",
       "Name: proportion, dtype: float64"
      ]
     },
     "execution_count": 14,
     "metadata": {},
     "output_type": "execute_result"
    }
   ],
   "source": [
    "p7['Victims Sex'].value_counts(normalize=True).round(2)"
   ]
  },
  {
   "cell_type": "markdown",
   "id": "ebc8876c",
   "metadata": {},
   "source": [
    "**No ano de 2017 em qual mês houve mais incidentes com idosos (Elderly)?**"
   ]
  },
  {
   "cell_type": "code",
   "execution_count": 15,
   "id": "6421b831",
   "metadata": {},
   "outputs": [
    {
     "name": "stderr",
     "output_type": "stream",
     "text": [
      "C:\\Users\\Matheus\\AppData\\Local\\Temp\\ipykernel_13636\\3988789314.py:2: SettingWithCopyWarning: \n",
      "A value is trying to be set on a copy of a slice from a DataFrame.\n",
      "Try using .loc[row_indexer,col_indexer] = value instead\n",
      "\n",
      "See the caveats in the documentation: https://pandas.pydata.org/pandas-docs/stable/user_guide/indexing.html#returning-a-view-versus-a-copy\n",
      "  p8['Mês'] = p8['Date Of Incident'].dt.month\n",
      "C:\\Users\\Matheus\\AppData\\Local\\Temp\\ipykernel_13636\\3988789314.py:3: SettingWithCopyWarning: \n",
      "A value is trying to be set on a copy of a slice from a DataFrame.\n",
      "Try using .loc[row_indexer,col_indexer] = value instead\n",
      "\n",
      "See the caveats in the documentation: https://pandas.pydata.org/pandas-docs/stable/user_guide/indexing.html#returning-a-view-versus-a-copy\n",
      "  p8['Mês'] = p8['Mês'].map(meses)\n"
     ]
    }
   ],
   "source": [
    "p8 = df[(df['Year'] == 2017) & (df['Victims Age'] == 'Elderly')]\n",
    "p8['Mês'] = p8['Date Of Incident'].dt.month\n",
    "p8['Mês'] = p8['Mês'].map(meses)"
   ]
  },
  {
   "cell_type": "code",
   "execution_count": 16,
   "id": "990c23a7",
   "metadata": {},
   "outputs": [
    {
     "data": {
      "image/png": "[encoded data removed]",
      "text/plain": [
       "<Figure size 1000x400 with 1 Axes>"
      ]
     },
     "metadata": {},
     "output_type": "display_data"
    }
   ],
   "source": [
    "# Configurando tamanho do gráfico\n",
    "plt.figure(figsize = (10, 4))\n",
    "\n",
    "# Plot\n",
    "ax = sns.countplot(x = p8['Mês'])\n",
    "plt.title('Number of Accidents Per Month in 2017 Involving Elderly People', fontsize = 16, y = 1.13, loc = 'left', fontweight = 'bold', alpha = 0.95)\n",
    "\n",
    "# Removendo a legenda dos eixos x e y\n",
    "ax.set(xlabel = None, ylabel = None)\n",
    "\n",
    "# Ajustando o eixo y\n",
    "ax.set_ylim(0, 90)\n",
    "\n",
    "# Rotacionando os valores do eixo X\n",
    "plt.xticks(rotation = 30)\n",
    "\n",
    "# Adicione números nas barras\n",
    "for p in plt.gca().patches:\n",
    "    plt.gca().annotate(f'{int(p.get_height())}', (p.get_x() + p.get_width() / 2., p.get_height()), \n",
    "                        ha = 'center', va = 'center', fontsize = 9, color = 'black', xytext=(0, 5),\n",
    "                        alpha = 0.75, textcoords = 'offset points')\n",
    "    \n",
    "ax.text(x = -0.5, \n",
    "        y = 94,\n",
    "        s = 'The numbers were very close, around 70 to 80 accidents per month. Highlight is the month of February with the lowest rate of \\naccidents recorded.',\n",
    "        fontsize = 9.5, \n",
    "        alpha = .90);\n",
    "\n",
    "plt.show()"
   ]
  },
  {
   "cell_type": "markdown",
   "id": "f14e36c4",
   "metadata": {},
   "source": [
    "**Considerando o Operador qual a distribuição de incidentes ao longo do tempo?**"
   ]
  },
  {
   "cell_type": "code",
   "execution_count": 28,
   "id": "6bde2ea9",
   "metadata": {},
   "outputs": [],
   "source": [
    "p9 = df.groupby(['Operator', 'Date Of Incident']).agg({'Victims Age': 'count'}).reset_index()\n",
    "p9 = p9.rename(columns = {'Victims Age': 'Total Number of Victims'})"
   ]
  },
  {
   "cell_type": "code",
   "execution_count": 27,
   "id": "4250032a",
   "metadata": {},
   "outputs": [
    {
     "data": {
      "application/vnd.plotly.v1+json": {
       "config": {
        "plotlyServerURL": "https://plot.ly"
       },
       "data": [
        {
         "hovertemplate": "Operator=Abellio London<br>Date Of Incident=%{x}<br>Total Number of Victims=%{y}<extra></extra>",
         "legendgroup": "",
         "line": {
          "color": "#636efa",
          "dash": "solid"
         },
         "marker": {
          "symbol": "circle"
         },
         "mode": "lines",
         "name": "",
         "orientation": "v",
         "showlegend": false,
         "type": "scatter",
         "x": [
          "2015-01-01T00:00:00",
          "2015-02-01T00:00:00",
          "2015-03-01T00:00:00",
          "2015-04-01T00:00:00",
          "2015-05-01T00:00:00",
          "2015-06-01T00:00:00",
          "2015-07-01T00:00:00",
          "2015-08-01T00:00:00",
          "2015-09-01T00:00:00",
          "2015-10-01T00:00:00",
          "2015-11-01T00:00:00",
          "2015-12-01T00:00:00",
          "2016-01-01T00:00:00",
          "2016-02-01T00:00:00",
          "2016-03-01T00:00:00",
          "2016-04-01T00:00:00",
          "2016-05-01T00:00:00",
          "2016-06-01T00:00:00",
          "2016-07-01T00:00:00",
          "2016-08-01T00:00:00",
          "2016-09-01T00:00:00",
          "2016-10-01T00:00:00",
          "2016-11-01T00:00:00",
          "2016-12-01T00:00:00",
          "2017-01-01T00:00:00",
          "2017-02-01T00:00:00",
          "2017-03-01T00:00:00",
          "2017-04-01T00:00:00",
          "2017-05-01T00:00:00",
          "2017-06-01T00:00:00",
          "2017-07-01T00:00:00",
          "2017-08-01T00:00:00",
          "2017-09-01T00:00:00",
          "2017-10-01T00:00:00",
          "2017-11-01T00:00:00",
          "2017-12-01T00:00:00",
          "2018-01-01T00:00:00",
          "2018-02-01T00:00:00",
          "2018-03-01T00:00:00",
          "2018-04-01T00:00:00",
          "2018-05-01T00:00:00",
          "2018-06-01T00:00:00",
          "2018-07-01T00:00:00",
          "2018-08-01T00:00:00",
          "2018-09-01T00:00:00"
         ],
         "xaxis": "x21",
         "y": [
          11,
          6,
          7,
          9,
          11,
          7,
          7,
          12,
          11,
          11,
          14,
          11,
          16,
          17,
          15,
          9,
          8,
          14,
          11,
          9,
          23,
          37,
          49,
          25,
          22,
          19,
          23,
          24,
          23,
          25,
          37,
          30,
          29,
          35,
          26,
          36,
          38,
          26,
          28,
          29,
          37,
          35,
          26,
          38,
          27
         ],
         "yaxis": "y21"
        },
        {
         "hovertemplate": "Operator=Abellio West<br>Date Of Incident=%{x}<br>Total Number of Victims=%{y}<extra></extra>",
         "legendgroup": "",
         "line": {
          "color": "#636efa",
          "dash": "solid"
         },
         "marker": {
          "symbol": "circle"
         },
         "mode": "lines",
         "name": "",
         "orientation": "v",
         "showlegend": false,
         "type": "scatter",
         "x": [
          "2015-01-01T00:00:00",
          "2015-02-01T00:00:00",
          "2015-03-01T00:00:00",
          "2015-04-01T00:00:00",
          "2015-05-01T00:00:00",
          "2015-06-01T00:00:00",
          "2015-07-01T00:00:00",
          "2015-08-01T00:00:00",
          "2015-09-01T00:00:00",
          "2015-10-01T00:00:00",
          "2015-11-01T00:00:00",
          "2015-12-01T00:00:00",
          "2016-01-01T00:00:00",
          "2016-02-01T00:00:00",
          "2016-04-01T00:00:00",
          "2016-05-01T00:00:00",
          "2016-07-01T00:00:00",
          "2016-08-01T00:00:00",
          "2016-09-01T00:00:00",
          "2016-10-01T00:00:00",
          "2016-11-01T00:00:00",
          "2016-12-01T00:00:00",
          "2017-01-01T00:00:00",
          "2017-02-01T00:00:00",
          "2017-03-01T00:00:00",
          "2017-04-01T00:00:00",
          "2017-05-01T00:00:00",
          "2017-06-01T00:00:00",
          "2017-07-01T00:00:00",
          "2017-09-01T00:00:00",
          "2017-10-01T00:00:00",
          "2017-11-01T00:00:00",
          "2017-12-01T00:00:00",
          "2018-02-01T00:00:00",
          "2018-03-01T00:00:00",
          "2018-04-01T00:00:00",
          "2018-05-01T00:00:00",
          "2018-06-01T00:00:00",
          "2018-07-01T00:00:00",
          "2018-09-01T00:00:00"
         ],
         "xaxis": "x22",
         "y": [
          1,
          1,
          3,
          2,
          3,
          2,
          1,
          4,
          3,
          4,
          2,
          1,
          5,
          1,
          1,
          3,
          4,
          1,
          1,
          5,
          5,
          8,
          6,
          1,
          4,
          10,
          10,
          8,
          1,
          2,
          1,
          4,
          3,
          4,
          2,
          1,
          2,
          2,
          1,
          3
         ],
         "yaxis": "y22"
        },
        {
         "hovertemplate": "Operator=Arriva Kent Thameside<br>Date Of Incident=%{x}<br>Total Number of Victims=%{y}<extra></extra>",
         "legendgroup": "",
         "line": {
          "color": "#636efa",
          "dash": "solid"
         },
         "marker": {
          "symbol": "circle"
         },
         "mode": "lines",
         "name": "",
         "orientation": "v",
         "showlegend": false,
         "type": "scatter",
         "x": [
          "2015-01-01T00:00:00",
          "2015-02-01T00:00:00",
          "2015-03-01T00:00:00",
          "2015-04-01T00:00:00",
          "2015-05-01T00:00:00",
          "2015-06-01T00:00:00",
          "2015-07-01T00:00:00",
          "2015-08-01T00:00:00",
          "2015-09-01T00:00:00",
          "2015-10-01T00:00:00",
          "2015-11-01T00:00:00",
          "2015-12-01T00:00:00",
          "2016-01-01T00:00:00",
          "2016-02-01T00:00:00",
          "2016-03-01T00:00:00",
          "2016-04-01T00:00:00",
          "2016-05-01T00:00:00"
         ],
         "xaxis": "x23",
         "y": [
          14,
          3,
          9,
          9,
          4,
          8,
          4,
          10,
          2,
          2,
          2,
          6,
          4,
          10,
          10,
          9,
          1
         ],
         "yaxis": "y23"
        },
        {
         "hovertemplate": "Operator=Arriva London North<br>Date Of Incident=%{x}<br>Total Number of Victims=%{y}<extra></extra>",
         "legendgroup": "",
         "line": {
          "color": "#636efa",
          "dash": "solid"
         },
         "marker": {
          "symbol": "circle"
         },
         "mode": "lines",
         "name": "",
         "orientation": "v",
         "showlegend": false,
         "type": "scatter",
         "x": [
          "2015-01-01T00:00:00",
          "2015-02-01T00:00:00",
          "2015-03-01T00:00:00",
          "2015-04-01T00:00:00",
          "2015-05-01T00:00:00",
          "2015-06-01T00:00:00",
          "2015-07-01T00:00:00",
          "2015-08-01T00:00:00",
          "2015-09-01T00:00:00",
          "2015-10-01T00:00:00",
          "2015-11-01T00:00:00",
          "2015-12-01T00:00:00",
          "2016-01-01T00:00:00",
          "2016-02-01T00:00:00",
          "2016-03-01T00:00:00",
          "2016-04-01T00:00:00",
          "2016-05-01T00:00:00",
          "2016-06-01T00:00:00",
          "2016-07-01T00:00:00",
          "2016-08-01T00:00:00",
          "2016-09-01T00:00:00",
          "2016-10-01T00:00:00",
          "2016-11-01T00:00:00",
          "2016-12-01T00:00:00",
          "2017-01-01T00:00:00",
          "2017-02-01T00:00:00",
          "2017-03-01T00:00:00",
          "2017-04-01T00:00:00",
          "2017-05-01T00:00:00",
          "2017-06-01T00:00:00",
          "2017-07-01T00:00:00",
          "2017-08-01T00:00:00",
          "2017-09-01T00:00:00",
          "2017-10-01T00:00:00",
          "2017-11-01T00:00:00",
          "2017-12-01T00:00:00",
          "2018-01-01T00:00:00",
          "2018-02-01T00:00:00",
          "2018-03-01T00:00:00",
          "2018-04-01T00:00:00",
          "2018-05-01T00:00:00",
          "2018-06-01T00:00:00",
          "2018-07-01T00:00:00",
          "2018-08-01T00:00:00",
          "2018-09-01T00:00:00"
         ],
         "xaxis": "x24",
         "y": [
          57,
          60,
          88,
          53,
          64,
          80,
          77,
          41,
          69,
          70,
          71,
          59,
          49,
          49,
          69,
          53,
          55,
          45,
          56,
          55,
          60,
          62,
          61,
          42,
          15,
          65,
          92,
          118,
          76,
          92,
          89,
          88,
          84,
          125,
          101,
          81,
          74,
          91,
          98,
          61,
          96,
          90,
          95,
          52,
          80
         ],
         "yaxis": "y24"
        },
        {
         "hovertemplate": "Operator=Arriva London South<br>Date Of Incident=%{x}<br>Total Number of Victims=%{y}<extra></extra>",
         "legendgroup": "",
         "line": {
          "color": "#636efa",
          "dash": "solid"
         },
         "marker": {
          "symbol": "circle"
         },
         "mode": "lines",
         "name": "",
         "orientation": "v",
         "showlegend": false,
         "type": "scatter",
         "x": [
          "2015-01-01T00:00:00",
          "2015-02-01T00:00:00",
          "2015-03-01T00:00:00",
          "2015-04-01T00:00:00",
          "2015-05-01T00:00:00",
          "2015-06-01T00:00:00",
          "2015-07-01T00:00:00",
          "2015-08-01T00:00:00",
          "2015-09-01T00:00:00",
          "2015-10-01T00:00:00",
          "2015-11-01T00:00:00",
          "2015-12-01T00:00:00",
          "2016-01-01T00:00:00",
          "2016-02-01T00:00:00",
          "2016-03-01T00:00:00",
          "2016-04-01T00:00:00",
          "2016-05-01T00:00:00",
          "2016-06-01T00:00:00",
          "2016-07-01T00:00:00",
          "2016-08-01T00:00:00",
          "2016-09-01T00:00:00",
          "2016-10-01T00:00:00",
          "2016-11-01T00:00:00",
          "2016-12-01T00:00:00",
          "2017-01-01T00:00:00",
          "2017-02-01T00:00:00",
          "2017-03-01T00:00:00",
          "2017-04-01T00:00:00",
          "2017-05-01T00:00:00",
          "2017-06-01T00:00:00",
          "2017-07-01T00:00:00",
          "2017-08-01T00:00:00",
          "2017-09-01T00:00:00",
          "2017-10-01T00:00:00",
          "2017-11-01T00:00:00",
          "2017-12-01T00:00:00",
          "2018-01-01T00:00:00",
          "2018-02-01T00:00:00",
          "2018-03-01T00:00:00",
          "2018-04-01T00:00:00",
          "2018-05-01T00:00:00",
          "2018-06-01T00:00:00",
          "2018-07-01T00:00:00",
          "2018-08-01T00:00:00",
          "2018-09-01T00:00:00"
         ],
         "xaxis": "x25",
         "y": [
          27,
          28,
          39,
          35,
          46,
          49,
          60,
          32,
          49,
          35,
          33,
          49,
          39,
          36,
          20,
          46,
          40,
          40,
          20,
          42,
          32,
          39,
          41,
          34,
          15,
          31,
          39,
          52,
          48,
          37,
          61,
          43,
          34,
          37,
          38,
          35,
          39,
          34,
          36,
          48,
          38,
          48,
          42,
          37,
          40
         ],
         "yaxis": "y25"
        },
        {
         "hovertemplate": "Operator=Arriva The Shires<br>Date Of Incident=%{x}<br>Total Number of Victims=%{y}<extra></extra>",
         "legendgroup": "",
         "line": {
          "color": "#636efa",
          "dash": "solid"
         },
         "marker": {
          "symbol": "circle"
         },
         "mode": "lines",
         "name": "",
         "orientation": "v",
         "showlegend": false,
         "type": "scatter",
         "x": [
          "2015-01-01T00:00:00",
          "2015-02-01T00:00:00",
          "2015-03-01T00:00:00",
          "2015-04-01T00:00:00",
          "2015-05-01T00:00:00",
          "2015-06-01T00:00:00",
          "2015-07-01T00:00:00",
          "2015-08-01T00:00:00",
          "2015-09-01T00:00:00",
          "2015-10-01T00:00:00",
          "2015-11-01T00:00:00",
          "2015-12-01T00:00:00",
          "2016-01-01T00:00:00",
          "2016-02-01T00:00:00",
          "2016-03-01T00:00:00",
          "2016-04-01T00:00:00",
          "2016-05-01T00:00:00",
          "2016-06-01T00:00:00",
          "2016-07-01T00:00:00",
          "2016-08-01T00:00:00",
          "2016-09-01T00:00:00",
          "2016-10-01T00:00:00",
          "2016-11-01T00:00:00",
          "2016-12-01T00:00:00",
          "2017-01-01T00:00:00",
          "2017-02-01T00:00:00"
         ],
         "xaxis": "x16",
         "y": [
          11,
          7,
          7,
          6,
          15,
          19,
          9,
          7,
          14,
          11,
          10,
          10,
          11,
          15,
          2,
          7,
          16,
          6,
          8,
          13,
          10,
          17,
          1,
          1,
          50,
          22
         ],
         "yaxis": "y16"
        },
        {
         "hovertemplate": "Operator=Blue Triangle Buses<br>Date Of Incident=%{x}<br>Total Number of Victims=%{y}<extra></extra>",
         "legendgroup": "",
         "line": {
          "color": "#636efa",
          "dash": "solid"
         },
         "marker": {
          "symbol": "circle"
         },
         "mode": "lines",
         "name": "",
         "orientation": "v",
         "showlegend": false,
         "type": "scatter",
         "x": [
          "2015-01-01T00:00:00",
          "2015-02-01T00:00:00",
          "2015-03-01T00:00:00",
          "2015-04-01T00:00:00",
          "2015-05-01T00:00:00",
          "2015-06-01T00:00:00",
          "2015-07-01T00:00:00",
          "2015-08-01T00:00:00",
          "2015-09-01T00:00:00",
          "2015-10-01T00:00:00",
          "2015-11-01T00:00:00",
          "2015-12-01T00:00:00",
          "2016-01-01T00:00:00",
          "2016-02-01T00:00:00",
          "2016-03-01T00:00:00",
          "2016-04-01T00:00:00",
          "2016-05-01T00:00:00",
          "2016-06-01T00:00:00",
          "2016-07-01T00:00:00",
          "2016-09-01T00:00:00",
          "2016-10-01T00:00:00",
          "2016-11-01T00:00:00",
          "2016-12-01T00:00:00",
          "2017-01-01T00:00:00",
          "2017-02-01T00:00:00",
          "2017-03-01T00:00:00",
          "2017-04-01T00:00:00",
          "2017-05-01T00:00:00",
          "2017-06-01T00:00:00",
          "2017-07-01T00:00:00",
          "2017-08-01T00:00:00",
          "2017-09-01T00:00:00",
          "2017-10-01T00:00:00",
          "2017-11-01T00:00:00",
          "2017-12-01T00:00:00",
          "2018-01-01T00:00:00",
          "2018-02-01T00:00:00",
          "2018-03-01T00:00:00",
          "2018-04-01T00:00:00",
          "2018-05-01T00:00:00",
          "2018-06-01T00:00:00",
          "2018-07-01T00:00:00",
          "2018-08-01T00:00:00",
          "2018-09-01T00:00:00"
         ],
         "xaxis": "x17",
         "y": [
          2,
          1,
          6,
          2,
          2,
          4,
          1,
          9,
          3,
          2,
          1,
          2,
          1,
          2,
          3,
          1,
          1,
          2,
          1,
          2,
          4,
          9,
          3,
          8,
          14,
          10,
          10,
          8,
          15,
          5,
          10,
          14,
          11,
          8,
          4,
          18,
          10,
          11,
          8,
          24,
          13,
          7,
          5,
          4
         ],
         "yaxis": "y17"
        },
        {
         "hovertemplate": "Operator=C T Plus<br>Date Of Incident=%{x}<br>Total Number of Victims=%{y}<extra></extra>",
         "legendgroup": "",
         "line": {
          "color": "#636efa",
          "dash": "solid"
         },
         "marker": {
          "symbol": "circle"
         },
         "mode": "lines",
         "name": "",
         "orientation": "v",
         "showlegend": false,
         "type": "scatter",
         "x": [
          "2015-02-01T00:00:00",
          "2015-04-01T00:00:00",
          "2015-06-01T00:00:00",
          "2015-07-01T00:00:00",
          "2015-08-01T00:00:00",
          "2015-09-01T00:00:00",
          "2015-10-01T00:00:00",
          "2015-11-01T00:00:00",
          "2016-01-01T00:00:00",
          "2016-02-01T00:00:00",
          "2016-03-01T00:00:00",
          "2016-04-01T00:00:00",
          "2016-06-01T00:00:00",
          "2016-07-01T00:00:00",
          "2016-08-01T00:00:00",
          "2016-09-01T00:00:00",
          "2016-10-01T00:00:00",
          "2017-03-01T00:00:00",
          "2017-04-01T00:00:00",
          "2017-05-01T00:00:00",
          "2017-06-01T00:00:00",
          "2017-07-01T00:00:00",
          "2017-09-01T00:00:00",
          "2017-10-01T00:00:00",
          "2017-11-01T00:00:00",
          "2017-12-01T00:00:00",
          "2018-01-01T00:00:00",
          "2018-02-01T00:00:00",
          "2018-03-01T00:00:00",
          "2018-04-01T00:00:00",
          "2018-05-01T00:00:00",
          "2018-06-01T00:00:00",
          "2018-07-01T00:00:00",
          "2018-08-01T00:00:00",
          "2018-09-01T00:00:00"
         ],
         "xaxis": "x18",
         "y": [
          2,
          3,
          3,
          2,
          2,
          1,
          1,
          1,
          1,
          1,
          3,
          4,
          1,
          1,
          3,
          2,
          2,
          5,
          1,
          1,
          2,
          5,
          1,
          2,
          1,
          1,
          1,
          5,
          3,
          2,
          4,
          3,
          3,
          1,
          3
         ],
         "yaxis": "y18"
        },
        {
         "hovertemplate": "Operator=Docklands Buses<br>Date Of Incident=%{x}<br>Total Number of Victims=%{y}<extra></extra>",
         "legendgroup": "",
         "line": {
          "color": "#636efa",
          "dash": "solid"
         },
         "marker": {
          "symbol": "circle"
         },
         "mode": "lines",
         "name": "",
         "orientation": "v",
         "showlegend": false,
         "type": "scatter",
         "x": [
          "2015-01-01T00:00:00",
          "2015-02-01T00:00:00",
          "2015-03-01T00:00:00",
          "2015-04-01T00:00:00",
          "2015-05-01T00:00:00",
          "2015-06-01T00:00:00",
          "2015-07-01T00:00:00",
          "2015-08-01T00:00:00",
          "2015-09-01T00:00:00",
          "2015-10-01T00:00:00",
          "2015-11-01T00:00:00",
          "2015-12-01T00:00:00",
          "2016-01-01T00:00:00",
          "2016-02-01T00:00:00",
          "2016-04-01T00:00:00",
          "2016-07-01T00:00:00",
          "2016-08-01T00:00:00",
          "2016-09-01T00:00:00",
          "2016-10-01T00:00:00",
          "2016-11-01T00:00:00",
          "2016-12-01T00:00:00",
          "2017-02-01T00:00:00",
          "2017-03-01T00:00:00",
          "2017-04-01T00:00:00",
          "2017-06-01T00:00:00",
          "2017-07-01T00:00:00",
          "2017-08-01T00:00:00",
          "2017-09-01T00:00:00",
          "2017-10-01T00:00:00",
          "2017-11-01T00:00:00",
          "2017-12-01T00:00:00",
          "2018-01-01T00:00:00",
          "2018-02-01T00:00:00",
          "2018-03-01T00:00:00",
          "2018-04-01T00:00:00",
          "2018-05-01T00:00:00",
          "2018-06-01T00:00:00",
          "2018-07-01T00:00:00",
          "2018-08-01T00:00:00",
          "2018-09-01T00:00:00"
         ],
         "xaxis": "x19",
         "y": [
          6,
          1,
          1,
          2,
          2,
          2,
          1,
          3,
          7,
          4,
          2,
          3,
          2,
          4,
          1,
          1,
          1,
          1,
          3,
          5,
          1,
          1,
          1,
          1,
          3,
          1,
          3,
          1,
          1,
          2,
          3,
          1,
          2,
          2,
          11,
          3,
          4,
          2,
          1,
          4
         ],
         "yaxis": "y19"
        },
        {
         "hovertemplate": "Operator=East London<br>Date Of Incident=%{x}<br>Total Number of Victims=%{y}<extra></extra>",
         "legendgroup": "",
         "line": {
          "color": "#636efa",
          "dash": "solid"
         },
         "marker": {
          "symbol": "circle"
         },
         "mode": "lines",
         "name": "",
         "orientation": "v",
         "showlegend": false,
         "type": "scatter",
         "x": [
          "2015-01-01T00:00:00",
          "2015-02-01T00:00:00",
          "2015-03-01T00:00:00",
          "2015-04-01T00:00:00",
          "2015-05-01T00:00:00",
          "2015-06-01T00:00:00",
          "2015-07-01T00:00:00",
          "2015-08-01T00:00:00",
          "2015-09-01T00:00:00",
          "2015-10-01T00:00:00",
          "2015-11-01T00:00:00",
          "2015-12-01T00:00:00",
          "2016-01-01T00:00:00",
          "2016-02-01T00:00:00",
          "2016-03-01T00:00:00",
          "2016-04-01T00:00:00",
          "2016-05-01T00:00:00",
          "2016-06-01T00:00:00",
          "2016-07-01T00:00:00",
          "2016-08-01T00:00:00",
          "2016-09-01T00:00:00",
          "2016-10-01T00:00:00",
          "2016-11-01T00:00:00",
          "2016-12-01T00:00:00",
          "2017-01-01T00:00:00",
          "2017-02-01T00:00:00",
          "2017-03-01T00:00:00",
          "2017-04-01T00:00:00",
          "2017-05-01T00:00:00",
          "2017-06-01T00:00:00",
          "2017-07-01T00:00:00",
          "2017-08-01T00:00:00",
          "2017-09-01T00:00:00",
          "2017-10-01T00:00:00",
          "2017-11-01T00:00:00",
          "2017-12-01T00:00:00",
          "2018-01-01T00:00:00",
          "2018-02-01T00:00:00",
          "2018-03-01T00:00:00",
          "2018-04-01T00:00:00",
          "2018-05-01T00:00:00",
          "2018-06-01T00:00:00",
          "2018-07-01T00:00:00",
          "2018-08-01T00:00:00",
          "2018-09-01T00:00:00"
         ],
         "xaxis": "x20",
         "y": [
          4,
          29,
          50,
          78,
          67,
          101,
          55,
          48,
          45,
          46,
          78,
          80,
          68,
          70,
          66,
          83,
          56,
          68,
          69,
          82,
          61,
          56,
          73,
          60,
          46,
          53,
          58,
          52,
          39,
          55,
          60,
          32,
          42,
          49,
          54,
          38,
          34,
          38,
          36,
          31,
          31,
          35,
          34,
          46,
          46
         ],
         "yaxis": "y20"
        },
        {
         "hovertemplate": "Operator=H R Richmond<br>Date Of Incident=%{x}<br>Total Number of Victims=%{y}<extra></extra>",
         "legendgroup": "",
         "line": {
          "color": "#636efa",
          "dash": "solid"
         },
         "marker": {
          "symbol": "circle"
         },
         "mode": "lines",
         "name": "",
         "orientation": "v",
         "showlegend": false,
         "type": "scatter",
         "x": [
          "2015-01-01T00:00:00",
          "2015-03-01T00:00:00",
          "2015-04-01T00:00:00",
          "2015-05-01T00:00:00",
          "2015-06-01T00:00:00",
          "2015-08-01T00:00:00",
          "2015-09-01T00:00:00",
          "2015-12-01T00:00:00",
          "2016-01-01T00:00:00",
          "2016-02-01T00:00:00",
          "2016-03-01T00:00:00",
          "2016-04-01T00:00:00",
          "2016-06-01T00:00:00",
          "2016-07-01T00:00:00",
          "2016-08-01T00:00:00",
          "2016-09-01T00:00:00",
          "2016-10-01T00:00:00",
          "2016-11-01T00:00:00",
          "2016-12-01T00:00:00",
          "2017-01-01T00:00:00",
          "2017-02-01T00:00:00",
          "2017-03-01T00:00:00",
          "2017-04-01T00:00:00",
          "2017-06-01T00:00:00"
         ],
         "xaxis": "x11",
         "y": [
          4,
          10,
          2,
          4,
          3,
          2,
          1,
          3,
          2,
          1,
          3,
          1,
          1,
          2,
          1,
          1,
          2,
          1,
          2,
          5,
          2,
          3,
          1,
          2
         ],
         "yaxis": "y11"
        },
        {
         "hovertemplate": "Operator=London Central<br>Date Of Incident=%{x}<br>Total Number of Victims=%{y}<extra></extra>",
         "legendgroup": "",
         "line": {
          "color": "#636efa",
          "dash": "solid"
         },
         "marker": {
          "symbol": "circle"
         },
         "mode": "lines",
         "name": "",
         "orientation": "v",
         "showlegend": false,
         "type": "scatter",
         "x": [
          "2015-01-01T00:00:00",
          "2015-02-01T00:00:00",
          "2015-03-01T00:00:00",
          "2015-04-01T00:00:00",
          "2015-05-01T00:00:00",
          "2015-06-01T00:00:00",
          "2015-07-01T00:00:00",
          "2015-08-01T00:00:00",
          "2015-09-01T00:00:00",
          "2015-10-01T00:00:00",
          "2015-11-01T00:00:00",
          "2015-12-01T00:00:00",
          "2016-01-01T00:00:00",
          "2016-02-01T00:00:00",
          "2016-03-01T00:00:00",
          "2016-04-01T00:00:00",
          "2016-05-01T00:00:00",
          "2016-06-01T00:00:00",
          "2016-07-01T00:00:00",
          "2016-08-01T00:00:00",
          "2016-09-01T00:00:00",
          "2016-10-01T00:00:00",
          "2016-11-01T00:00:00",
          "2016-12-01T00:00:00",
          "2017-01-01T00:00:00",
          "2017-02-01T00:00:00",
          "2017-03-01T00:00:00",
          "2017-04-01T00:00:00",
          "2017-05-01T00:00:00",
          "2017-06-01T00:00:00",
          "2017-07-01T00:00:00",
          "2017-08-01T00:00:00",
          "2017-09-01T00:00:00",
          "2017-10-01T00:00:00",
          "2017-11-01T00:00:00",
          "2017-12-01T00:00:00",
          "2018-01-01T00:00:00",
          "2018-02-01T00:00:00",
          "2018-03-01T00:00:00",
          "2018-04-01T00:00:00",
          "2018-05-01T00:00:00",
          "2018-06-01T00:00:00",
          "2018-07-01T00:00:00",
          "2018-08-01T00:00:00",
          "2018-09-01T00:00:00"
         ],
         "xaxis": "x12",
         "y": [
          22,
          17,
          27,
          30,
          23,
          31,
          31,
          22,
          18,
          16,
          22,
          25,
          11,
          22,
          18,
          13,
          41,
          28,
          16,
          30,
          49,
          34,
          31,
          34,
          10,
          27,
          36,
          27,
          34,
          31,
          51,
          42,
          44,
          49,
          48,
          39,
          34,
          16,
          33,
          45,
          57,
          47,
          42,
          25,
          19
         ],
         "yaxis": "y12"
        },
        {
         "hovertemplate": "Operator=London General<br>Date Of Incident=%{x}<br>Total Number of Victims=%{y}<extra></extra>",
         "legendgroup": "",
         "line": {
          "color": "#636efa",
          "dash": "solid"
         },
         "marker": {
          "symbol": "circle"
         },
         "mode": "lines",
         "name": "",
         "orientation": "v",
         "showlegend": false,
         "type": "scatter",
         "x": [
          "2015-01-01T00:00:00",
          "2015-02-01T00:00:00",
          "2015-03-01T00:00:00",
          "2015-04-01T00:00:00",
          "2015-05-01T00:00:00",
          "2015-06-01T00:00:00",
          "2015-07-01T00:00:00",
          "2015-08-01T00:00:00",
          "2015-09-01T00:00:00",
          "2015-10-01T00:00:00",
          "2015-11-01T00:00:00",
          "2015-12-01T00:00:00",
          "2016-01-01T00:00:00",
          "2016-02-01T00:00:00",
          "2016-03-01T00:00:00",
          "2016-04-01T00:00:00",
          "2016-05-01T00:00:00",
          "2016-06-01T00:00:00",
          "2016-07-01T00:00:00",
          "2016-08-01T00:00:00",
          "2016-09-01T00:00:00",
          "2016-10-01T00:00:00",
          "2016-11-01T00:00:00",
          "2016-12-01T00:00:00",
          "2017-01-01T00:00:00",
          "2017-02-01T00:00:00",
          "2017-03-01T00:00:00",
          "2017-04-01T00:00:00",
          "2017-05-01T00:00:00",
          "2017-06-01T00:00:00",
          "2017-07-01T00:00:00",
          "2017-08-01T00:00:00",
          "2017-09-01T00:00:00",
          "2017-10-01T00:00:00",
          "2017-11-01T00:00:00",
          "2017-12-01T00:00:00",
          "2018-01-01T00:00:00",
          "2018-02-01T00:00:00",
          "2018-03-01T00:00:00",
          "2018-04-01T00:00:00",
          "2018-05-01T00:00:00",
          "2018-06-01T00:00:00",
          "2018-07-01T00:00:00",
          "2018-08-01T00:00:00",
          "2018-09-01T00:00:00"
         ],
         "xaxis": "x13",
         "y": [
          43,
          36,
          27,
          42,
          45,
          32,
          32,
          44,
          56,
          29,
          32,
          38,
          50,
          42,
          39,
          45,
          39,
          31,
          35,
          34,
          50,
          48,
          46,
          45,
          34,
          44,
          54,
          36,
          40,
          42,
          50,
          30,
          27,
          45,
          35,
          24,
          38,
          28,
          31,
          24,
          32,
          31,
          50,
          38,
          30
         ],
         "yaxis": "y13"
        },
        {
         "hovertemplate": "Operator=London Sovereign<br>Date Of Incident=%{x}<br>Total Number of Victims=%{y}<extra></extra>",
         "legendgroup": "",
         "line": {
          "color": "#636efa",
          "dash": "solid"
         },
         "marker": {
          "symbol": "circle"
         },
         "mode": "lines",
         "name": "",
         "orientation": "v",
         "showlegend": false,
         "type": "scatter",
         "x": [
          "2015-02-01T00:00:00",
          "2015-03-01T00:00:00",
          "2015-04-01T00:00:00",
          "2015-05-01T00:00:00",
          "2015-06-01T00:00:00",
          "2015-07-01T00:00:00",
          "2015-08-01T00:00:00",
          "2015-09-01T00:00:00",
          "2015-10-01T00:00:00",
          "2015-11-01T00:00:00",
          "2015-12-01T00:00:00",
          "2016-01-01T00:00:00",
          "2016-02-01T00:00:00",
          "2016-03-01T00:00:00",
          "2016-04-01T00:00:00",
          "2016-05-01T00:00:00",
          "2016-06-01T00:00:00",
          "2016-07-01T00:00:00",
          "2016-08-01T00:00:00",
          "2016-09-01T00:00:00",
          "2016-10-01T00:00:00",
          "2016-11-01T00:00:00",
          "2016-12-01T00:00:00",
          "2017-01-01T00:00:00",
          "2017-02-01T00:00:00",
          "2017-03-01T00:00:00",
          "2017-04-01T00:00:00",
          "2017-05-01T00:00:00",
          "2017-06-01T00:00:00",
          "2017-07-01T00:00:00",
          "2017-08-01T00:00:00",
          "2017-09-01T00:00:00",
          "2017-10-01T00:00:00",
          "2017-11-01T00:00:00",
          "2017-12-01T00:00:00",
          "2018-01-01T00:00:00",
          "2018-02-01T00:00:00",
          "2018-03-01T00:00:00",
          "2018-04-01T00:00:00",
          "2018-05-01T00:00:00",
          "2018-06-01T00:00:00",
          "2018-07-01T00:00:00",
          "2018-09-01T00:00:00"
         ],
         "xaxis": "x14",
         "y": [
          1,
          7,
          1,
          6,
          6,
          3,
          2,
          8,
          1,
          5,
          2,
          2,
          6,
          1,
          2,
          3,
          10,
          8,
          6,
          15,
          7,
          5,
          10,
          4,
          4,
          6,
          3,
          6,
          2,
          4,
          9,
          5,
          6,
          4,
          4,
          4,
          2,
          5,
          7,
          4,
          7,
          2,
          1
         ],
         "yaxis": "y14"
        },
        {
         "hovertemplate": "Operator=London United<br>Date Of Incident=%{x}<br>Total Number of Victims=%{y}<extra></extra>",
         "legendgroup": "",
         "line": {
          "color": "#636efa",
          "dash": "solid"
         },
         "marker": {
          "symbol": "circle"
         },
         "mode": "lines",
         "name": "",
         "orientation": "v",
         "showlegend": false,
         "type": "scatter",
         "x": [
          "2015-01-01T00:00:00",
          "2015-02-01T00:00:00",
          "2015-03-01T00:00:00",
          "2015-04-01T00:00:00",
          "2015-05-01T00:00:00",
          "2015-06-01T00:00:00",
          "2015-07-01T00:00:00",
          "2015-08-01T00:00:00",
          "2015-09-01T00:00:00",
          "2015-10-01T00:00:00",
          "2015-11-01T00:00:00",
          "2015-12-01T00:00:00",
          "2016-01-01T00:00:00",
          "2016-02-01T00:00:00",
          "2016-03-01T00:00:00",
          "2016-04-01T00:00:00",
          "2016-05-01T00:00:00",
          "2016-06-01T00:00:00",
          "2016-07-01T00:00:00",
          "2016-08-01T00:00:00",
          "2016-09-01T00:00:00",
          "2016-10-01T00:00:00",
          "2016-11-01T00:00:00",
          "2016-12-01T00:00:00",
          "2017-01-01T00:00:00",
          "2017-02-01T00:00:00",
          "2017-03-01T00:00:00",
          "2017-04-01T00:00:00",
          "2017-05-01T00:00:00",
          "2017-06-01T00:00:00",
          "2017-07-01T00:00:00",
          "2017-08-01T00:00:00",
          "2017-09-01T00:00:00",
          "2017-10-01T00:00:00",
          "2017-11-01T00:00:00",
          "2017-12-01T00:00:00",
          "2018-01-01T00:00:00",
          "2018-02-01T00:00:00",
          "2018-03-01T00:00:00",
          "2018-04-01T00:00:00",
          "2018-05-01T00:00:00",
          "2018-06-01T00:00:00",
          "2018-07-01T00:00:00",
          "2018-08-01T00:00:00",
          "2018-09-01T00:00:00"
         ],
         "xaxis": "x15",
         "y": [
          67,
          53,
          66,
          54,
          60,
          61,
          75,
          61,
          46,
          60,
          47,
          55,
          46,
          36,
          57,
          42,
          40,
          49,
          60,
          47,
          56,
          38,
          59,
          47,
          39,
          34,
          46,
          42,
          44,
          34,
          49,
          64,
          38,
          34,
          53,
          41,
          55,
          53,
          45,
          46,
          47,
          55,
          56,
          56,
          50
         ],
         "yaxis": "y15"
        },
        {
         "hovertemplate": "Operator=Metrobus<br>Date Of Incident=%{x}<br>Total Number of Victims=%{y}<extra></extra>",
         "legendgroup": "",
         "line": {
          "color": "#636efa",
          "dash": "solid"
         },
         "marker": {
          "symbol": "circle"
         },
         "mode": "lines",
         "name": "",
         "orientation": "v",
         "showlegend": false,
         "type": "scatter",
         "x": [
          "2015-01-01T00:00:00",
          "2015-02-01T00:00:00",
          "2015-03-01T00:00:00",
          "2015-04-01T00:00:00",
          "2015-05-01T00:00:00",
          "2015-06-01T00:00:00",
          "2015-07-01T00:00:00",
          "2015-08-01T00:00:00",
          "2015-09-01T00:00:00",
          "2015-10-01T00:00:00",
          "2015-11-01T00:00:00",
          "2015-12-01T00:00:00",
          "2016-01-01T00:00:00",
          "2016-02-01T00:00:00",
          "2016-03-01T00:00:00",
          "2016-04-01T00:00:00",
          "2016-05-01T00:00:00",
          "2016-06-01T00:00:00",
          "2016-07-01T00:00:00",
          "2016-08-01T00:00:00",
          "2016-09-01T00:00:00",
          "2016-10-01T00:00:00",
          "2016-11-01T00:00:00",
          "2016-12-01T00:00:00",
          "2017-01-01T00:00:00",
          "2017-02-01T00:00:00",
          "2017-03-01T00:00:00",
          "2017-04-01T00:00:00",
          "2017-05-01T00:00:00",
          "2017-06-01T00:00:00",
          "2017-07-01T00:00:00",
          "2017-08-01T00:00:00",
          "2017-09-01T00:00:00",
          "2017-10-01T00:00:00",
          "2017-11-01T00:00:00",
          "2017-12-01T00:00:00",
          "2018-01-01T00:00:00",
          "2018-02-01T00:00:00",
          "2018-03-01T00:00:00",
          "2018-04-01T00:00:00",
          "2018-05-01T00:00:00",
          "2018-06-01T00:00:00",
          "2018-07-01T00:00:00",
          "2018-08-01T00:00:00",
          "2018-09-01T00:00:00"
         ],
         "xaxis": "x6",
         "y": [
          12,
          15,
          24,
          30,
          13,
          19,
          20,
          13,
          31,
          25,
          20,
          24,
          19,
          15,
          17,
          18,
          21,
          28,
          27,
          17,
          28,
          18,
          23,
          15,
          16,
          9,
          22,
          19,
          6,
          16,
          10,
          21,
          18,
          13,
          10,
          15,
          10,
          12,
          22,
          22,
          11,
          14,
          9,
          10,
          9
         ],
         "yaxis": "y6"
        },
        {
         "hovertemplate": "Operator=Metroline<br>Date Of Incident=%{x}<br>Total Number of Victims=%{y}<extra></extra>",
         "legendgroup": "",
         "line": {
          "color": "#636efa",
          "dash": "solid"
         },
         "marker": {
          "symbol": "circle"
         },
         "mode": "lines",
         "name": "",
         "orientation": "v",
         "showlegend": false,
         "type": "scatter",
         "x": [
          "2015-01-01T00:00:00",
          "2015-02-01T00:00:00",
          "2015-03-01T00:00:00",
          "2015-04-01T00:00:00",
          "2015-05-01T00:00:00",
          "2015-06-01T00:00:00",
          "2015-07-01T00:00:00",
          "2015-08-01T00:00:00",
          "2015-09-01T00:00:00",
          "2015-10-01T00:00:00",
          "2015-11-01T00:00:00",
          "2015-12-01T00:00:00",
          "2016-01-01T00:00:00",
          "2016-02-01T00:00:00",
          "2016-03-01T00:00:00",
          "2016-04-01T00:00:00",
          "2016-05-01T00:00:00",
          "2016-06-01T00:00:00",
          "2016-07-01T00:00:00",
          "2016-08-01T00:00:00",
          "2016-09-01T00:00:00",
          "2016-10-01T00:00:00",
          "2016-11-01T00:00:00",
          "2016-12-01T00:00:00",
          "2017-01-01T00:00:00",
          "2017-02-01T00:00:00",
          "2017-03-01T00:00:00",
          "2017-04-01T00:00:00",
          "2017-05-01T00:00:00",
          "2017-06-01T00:00:00",
          "2017-07-01T00:00:00",
          "2017-08-01T00:00:00",
          "2017-09-01T00:00:00",
          "2017-10-01T00:00:00",
          "2017-11-01T00:00:00",
          "2017-12-01T00:00:00",
          "2018-01-01T00:00:00",
          "2018-02-01T00:00:00",
          "2018-03-01T00:00:00",
          "2018-04-01T00:00:00",
          "2018-05-01T00:00:00",
          "2018-06-01T00:00:00",
          "2018-07-01T00:00:00",
          "2018-08-01T00:00:00",
          "2018-09-01T00:00:00"
         ],
         "xaxis": "x7",
         "y": [
          59,
          74,
          63,
          73,
          62,
          104,
          92,
          83,
          78,
          80,
          72,
          74,
          72,
          69,
          59,
          80,
          62,
          56,
          71,
          76,
          88,
          81,
          95,
          55,
          67,
          62,
          69,
          77,
          85,
          59,
          90,
          87,
          95,
          87,
          75,
          87,
          103,
          88,
          87,
          73,
          90,
          69,
          84,
          73,
          72
         ],
         "yaxis": "y7"
        },
        {
         "hovertemplate": "Operator=Metroline West<br>Date Of Incident=%{x}<br>Total Number of Victims=%{y}<extra></extra>",
         "legendgroup": "",
         "line": {
          "color": "#636efa",
          "dash": "solid"
         },
         "marker": {
          "symbol": "circle"
         },
         "mode": "lines",
         "name": "",
         "orientation": "v",
         "showlegend": false,
         "type": "scatter",
         "x": [
          "2015-01-01T00:00:00",
          "2015-02-01T00:00:00",
          "2015-03-01T00:00:00",
          "2015-04-01T00:00:00",
          "2015-05-01T00:00:00",
          "2015-06-01T00:00:00",
          "2015-07-01T00:00:00",
          "2015-08-01T00:00:00",
          "2015-09-01T00:00:00",
          "2015-10-01T00:00:00",
          "2015-11-01T00:00:00",
          "2015-12-01T00:00:00",
          "2016-01-01T00:00:00",
          "2016-02-01T00:00:00",
          "2016-03-01T00:00:00",
          "2016-04-01T00:00:00",
          "2016-05-01T00:00:00",
          "2016-06-01T00:00:00",
          "2016-07-01T00:00:00",
          "2016-08-01T00:00:00",
          "2016-09-01T00:00:00",
          "2016-10-01T00:00:00",
          "2016-11-01T00:00:00",
          "2016-12-01T00:00:00",
          "2017-01-01T00:00:00",
          "2017-02-01T00:00:00",
          "2017-03-01T00:00:00",
          "2017-04-01T00:00:00",
          "2017-05-01T00:00:00",
          "2017-06-01T00:00:00",
          "2017-07-01T00:00:00",
          "2017-08-01T00:00:00",
          "2017-09-01T00:00:00",
          "2017-10-01T00:00:00",
          "2017-11-01T00:00:00",
          "2017-12-01T00:00:00",
          "2018-01-01T00:00:00",
          "2018-02-01T00:00:00",
          "2018-03-01T00:00:00",
          "2018-04-01T00:00:00",
          "2018-05-01T00:00:00",
          "2018-06-01T00:00:00",
          "2018-07-01T00:00:00",
          "2018-08-01T00:00:00",
          "2018-09-01T00:00:00"
         ],
         "xaxis": "x8",
         "y": [
          25,
          18,
          21,
          30,
          29,
          29,
          40,
          18,
          14,
          31,
          26,
          25,
          16,
          35,
          19,
          25,
          34,
          29,
          30,
          35,
          25,
          26,
          24,
          41,
          29,
          31,
          35,
          32,
          31,
          25,
          45,
          31,
          27,
          42,
          23,
          22,
          23,
          21,
          19,
          32,
          28,
          17,
          25,
          21,
          28
         ],
         "yaxis": "y8"
        },
        {
         "hovertemplate": "Operator=Quality Line<br>Date Of Incident=%{x}<br>Total Number of Victims=%{y}<extra></extra>",
         "legendgroup": "",
         "line": {
          "color": "#636efa",
          "dash": "solid"
         },
         "marker": {
          "symbol": "circle"
         },
         "mode": "lines",
         "name": "",
         "orientation": "v",
         "showlegend": false,
         "type": "scatter",
         "x": [
          "2017-07-01T00:00:00",
          "2017-08-01T00:00:00",
          "2017-09-01T00:00:00",
          "2017-10-01T00:00:00",
          "2017-11-01T00:00:00",
          "2017-12-01T00:00:00",
          "2018-01-01T00:00:00",
          "2018-02-01T00:00:00",
          "2018-03-01T00:00:00",
          "2018-04-01T00:00:00",
          "2018-05-01T00:00:00",
          "2018-06-01T00:00:00",
          "2018-07-01T00:00:00",
          "2018-08-01T00:00:00",
          "2018-09-01T00:00:00"
         ],
         "xaxis": "x9",
         "y": [
          5,
          1,
          1,
          10,
          16,
          4,
          7,
          16,
          15,
          9,
          15,
          9,
          10,
          17,
          7
         ],
         "yaxis": "y9"
        },
        {
         "hovertemplate": "Operator=Selkent<br>Date Of Incident=%{x}<br>Total Number of Victims=%{y}<extra></extra>",
         "legendgroup": "",
         "line": {
          "color": "#636efa",
          "dash": "solid"
         },
         "marker": {
          "symbol": "circle"
         },
         "mode": "lines",
         "name": "",
         "orientation": "v",
         "showlegend": false,
         "type": "scatter",
         "x": [
          "2015-01-01T00:00:00",
          "2015-02-01T00:00:00",
          "2015-04-01T00:00:00",
          "2015-05-01T00:00:00",
          "2015-07-01T00:00:00",
          "2015-08-01T00:00:00",
          "2015-09-01T00:00:00",
          "2015-10-01T00:00:00",
          "2015-11-01T00:00:00",
          "2015-12-01T00:00:00",
          "2016-01-01T00:00:00",
          "2016-02-01T00:00:00",
          "2016-03-01T00:00:00",
          "2016-04-01T00:00:00",
          "2016-05-01T00:00:00",
          "2016-06-01T00:00:00",
          "2016-07-01T00:00:00",
          "2016-08-01T00:00:00",
          "2016-09-01T00:00:00",
          "2016-10-01T00:00:00",
          "2016-11-01T00:00:00",
          "2016-12-01T00:00:00",
          "2017-01-01T00:00:00",
          "2017-02-01T00:00:00",
          "2017-03-01T00:00:00",
          "2017-04-01T00:00:00",
          "2017-05-01T00:00:00",
          "2017-06-01T00:00:00",
          "2017-07-01T00:00:00",
          "2017-08-01T00:00:00",
          "2017-09-01T00:00:00",
          "2017-10-01T00:00:00",
          "2017-11-01T00:00:00",
          "2017-12-01T00:00:00",
          "2018-01-01T00:00:00",
          "2018-02-01T00:00:00",
          "2018-03-01T00:00:00",
          "2018-04-01T00:00:00",
          "2018-05-01T00:00:00",
          "2018-06-01T00:00:00",
          "2018-07-01T00:00:00",
          "2018-08-01T00:00:00",
          "2018-09-01T00:00:00"
         ],
         "xaxis": "x10",
         "y": [
          27,
          11,
          3,
          2,
          36,
          25,
          25,
          32,
          41,
          44,
          34,
          38,
          40,
          38,
          54,
          31,
          66,
          47,
          46,
          51,
          46,
          22,
          43,
          49,
          44,
          26,
          29,
          46,
          53,
          48,
          52,
          55,
          70,
          58,
          54,
          40,
          47,
          48,
          60,
          59,
          54,
          60,
          54
         ],
         "yaxis": "y10"
        },
        {
         "hovertemplate": "Operator=Sullivan Bus & Coach<br>Date Of Incident=%{x}<br>Total Number of Victims=%{y}<extra></extra>",
         "legendgroup": "",
         "line": {
          "color": "#636efa",
          "dash": "solid"
         },
         "marker": {
          "symbol": "circle"
         },
         "mode": "lines",
         "name": "",
         "orientation": "v",
         "showlegend": false,
         "type": "scatter",
         "x": [
          "2018-01-01T00:00:00"
         ],
         "xaxis": "x",
         "y": [
          1
         ],
         "yaxis": "y"
        },
        {
         "hovertemplate": "Operator=Sullivan Buses<br>Date Of Incident=%{x}<br>Total Number of Victims=%{y}<extra></extra>",
         "legendgroup": "",
         "line": {
          "color": "#636efa",
          "dash": "solid"
         },
         "marker": {
          "symbol": "circle"
         },
         "mode": "lines",
         "name": "",
         "orientation": "v",
         "showlegend": false,
         "type": "scatter",
         "x": [
          "2016-04-01T00:00:00",
          "2016-07-01T00:00:00"
         ],
         "xaxis": "x2",
         "y": [
          1,
          1
         ],
         "yaxis": "y2"
        },
        {
         "hovertemplate": "Operator=TGM GROUP<br>Date Of Incident=%{x}<br>Total Number of Victims=%{y}<extra></extra>",
         "legendgroup": "",
         "line": {
          "color": "#636efa",
          "dash": "solid"
         },
         "marker": {
          "symbol": "circle"
         },
         "mode": "lines",
         "name": "",
         "orientation": "v",
         "showlegend": false,
         "type": "scatter",
         "x": [
          "2016-05-01T00:00:00",
          "2016-06-01T00:00:00",
          "2016-07-01T00:00:00",
          "2016-08-01T00:00:00",
          "2016-09-01T00:00:00",
          "2016-10-01T00:00:00",
          "2016-11-01T00:00:00",
          "2016-12-01T00:00:00",
          "2017-01-01T00:00:00",
          "2017-02-01T00:00:00"
         ],
         "xaxis": "x3",
         "y": [
          3,
          6,
          7,
          2,
          16,
          7,
          8,
          6,
          4,
          2
         ],
         "yaxis": "y3"
        },
        {
         "hovertemplate": "Operator=Tower Transit<br>Date Of Incident=%{x}<br>Total Number of Victims=%{y}<extra></extra>",
         "legendgroup": "",
         "line": {
          "color": "#636efa",
          "dash": "solid"
         },
         "marker": {
          "symbol": "circle"
         },
         "mode": "lines",
         "name": "",
         "orientation": "v",
         "showlegend": false,
         "type": "scatter",
         "x": [
          "2015-01-01T00:00:00",
          "2015-02-01T00:00:00",
          "2015-03-01T00:00:00",
          "2015-04-01T00:00:00",
          "2015-05-01T00:00:00",
          "2015-06-01T00:00:00",
          "2015-07-01T00:00:00",
          "2015-08-01T00:00:00",
          "2015-09-01T00:00:00",
          "2015-10-01T00:00:00",
          "2015-11-01T00:00:00",
          "2015-12-01T00:00:00",
          "2016-01-01T00:00:00",
          "2016-02-01T00:00:00",
          "2016-03-01T00:00:00",
          "2016-04-01T00:00:00",
          "2016-05-01T00:00:00",
          "2016-06-01T00:00:00",
          "2016-07-01T00:00:00",
          "2016-08-01T00:00:00",
          "2016-09-01T00:00:00",
          "2016-10-01T00:00:00",
          "2016-11-01T00:00:00",
          "2016-12-01T00:00:00",
          "2017-01-01T00:00:00",
          "2017-02-01T00:00:00",
          "2017-03-01T00:00:00",
          "2017-04-01T00:00:00",
          "2017-05-01T00:00:00",
          "2017-06-01T00:00:00",
          "2017-07-01T00:00:00",
          "2017-08-01T00:00:00",
          "2017-09-01T00:00:00",
          "2017-10-01T00:00:00",
          "2017-11-01T00:00:00",
          "2017-12-01T00:00:00",
          "2018-01-01T00:00:00",
          "2018-02-01T00:00:00",
          "2018-03-01T00:00:00",
          "2018-04-01T00:00:00",
          "2018-05-01T00:00:00",
          "2018-06-01T00:00:00",
          "2018-07-01T00:00:00",
          "2018-08-01T00:00:00",
          "2018-09-01T00:00:00"
         ],
         "xaxis": "x4",
         "y": [
          7,
          8,
          5,
          6,
          14,
          4,
          12,
          8,
          6,
          10,
          16,
          12,
          18,
          15,
          8,
          25,
          17,
          15,
          13,
          12,
          16,
          14,
          30,
          20,
          22,
          17,
          32,
          32,
          29,
          22,
          34,
          24,
          35,
          19,
          16,
          21,
          13,
          21,
          15,
          10,
          10,
          19,
          11,
          11,
          14
         ],
         "yaxis": "y4"
        },
        {
         "hovertemplate": "Operator=Uno Buses<br>Date Of Incident=%{x}<br>Total Number of Victims=%{y}<extra></extra>",
         "legendgroup": "",
         "line": {
          "color": "#636efa",
          "dash": "solid"
         },
         "marker": {
          "symbol": "circle"
         },
         "mode": "lines",
         "name": "",
         "orientation": "v",
         "showlegend": false,
         "type": "scatter",
         "x": [
          "2017-05-01T00:00:00"
         ],
         "xaxis": "x5",
         "y": [
          1
         ],
         "yaxis": "y5"
        }
       ],
       "layout": {
        "annotations": [
         {
          "font": {},
          "showarrow": false,
          "text": "Sullivan Bus & Coach",
          "x": 0.09200000000000001,
          "xanchor": "center",
          "xref": "paper",
          "y": 0.144,
          "yanchor": "bottom",
          "yref": "paper"
         },
         {
          "font": {},
          "showarrow": false,
          "text": "Sullivan Buses",
          "x": 0.29600000000000004,
          "xanchor": "center",
          "xref": "paper",
          "y": 0.144,
          "yanchor": "bottom",
          "yref": "paper"
         },
         {
          "font": {},
          "showarrow": false,
          "text": "TGM GROUP",
          "x": 0.5,
          "xanchor": "center",
          "xref": "paper",
          "y": 0.144,
          "yanchor": "bottom",
          "yref": "paper"
         },
         {
          "font": {},
          "showarrow": false,
          "text": "Tower Transit",
          "x": 0.7040000000000002,
          "xanchor": "center",
          "xref": "paper",
          "y": 0.144,
          "yanchor": "bottom",
          "yref": "paper"
         },
         {
          "font": {},
          "showarrow": false,
          "text": "Uno Buses",
          "x": 0.908,
          "xanchor": "center",
          "xref": "paper",
          "y": 0.144,
          "yanchor": "bottom",
          "yref": "paper"
         },
         {
          "font": {},
          "showarrow": false,
          "text": "Metrobus",
          "x": 0.09200000000000001,
          "xanchor": "center",
          "xref": "paper",
          "y": 0.358,
          "yanchor": "bottom",
          "yref": "paper"
         },
         {
          "font": {},
          "showarrow": false,
          "text": "Metroline",
          "x": 0.29600000000000004,
          "xanchor": "center",
          "xref": "paper",
          "y": 0.358,
          "yanchor": "bottom",
          "yref": "paper"
         },
         {
          "font": {},
          "showarrow": false,
          "text": "Metroline West",
          "x": 0.5,
          "xanchor": "center",
          "xref": "paper",
          "y": 0.358,
          "yanchor": "bottom",
          "yref": "paper"
         },
         {
          "font": {},
          "showarrow": false,
          "text": "Quality Line",
          "x": 0.7040000000000002,
          "xanchor": "center",
          "xref": "paper",
          "y": 0.358,
          "yanchor": "bottom",
          "yref": "paper"
         },
         {
          "font": {},
          "showarrow": false,
          "text": "Selkent",
          "x": 0.908,
          "xanchor": "center",
          "xref": "paper",
          "y": 0.358,
          "yanchor": "bottom",
          "yref": "paper"
         },
         {
          "font": {},
          "showarrow": false,
          "text": "H R Richmond",
          "x": 0.09200000000000001,
          "xanchor": "center",
          "xref": "paper",
          "y": 0.572,
          "yanchor": "bottom",
          "yref": "paper"
         },
         {
          "font": {},
          "showarrow": false,
          "text": "London Central",
          "x": 0.29600000000000004,
          "xanchor": "center",
          "xref": "paper",
          "y": 0.572,
          "yanchor": "bottom",
          "yref": "paper"
         },
         {
          "font": {},
          "showarrow": false,
          "text": "London General",
          "x": 0.5,
          "xanchor": "center",
          "xref": "paper",
          "y": 0.572,
          "yanchor": "bottom",
          "yref": "paper"
         },
         {
          "font": {},
          "showarrow": false,
          "text": "London Sovereign",
          "x": 0.7040000000000002,
          "xanchor": "center",
          "xref": "paper",
          "y": 0.572,
          "yanchor": "bottom",
          "yref": "paper"
         },
         {
          "font": {},
          "showarrow": false,
          "text": "London United",
          "x": 0.908,
          "xanchor": "center",
          "xref": "paper",
          "y": 0.572,
          "yanchor": "bottom",
          "yref": "paper"
         },
         {
          "font": {},
          "showarrow": false,
          "text": "Arriva The Shires",
          "x": 0.09200000000000001,
          "xanchor": "center",
          "xref": "paper",
          "y": 0.7859999999999999,
          "yanchor": "bottom",
          "yref": "paper"
         },
         {
          "font": {},
          "showarrow": false,
          "text": "Blue Triangle Buses",
          "x": 0.29600000000000004,
          "xanchor": "center",
          "xref": "paper",
          "y": 0.7859999999999999,
          "yanchor": "bottom",
          "yref": "paper"
         },
         {
          "font": {},
          "showarrow": false,
          "text": "C T Plus",
          "x": 0.5,
          "xanchor": "center",
          "xref": "paper",
          "y": 0.7859999999999999,
          "yanchor": "bottom",
          "yref": "paper"
         },
         {
          "font": {},
          "showarrow": false,
          "text": "Docklands Buses",
          "x": 0.7040000000000002,
          "xanchor": "center",
          "xref": "paper",
          "y": 0.7859999999999999,
          "yanchor": "bottom",
          "yref": "paper"
         },
         {
          "font": {},
          "showarrow": false,
          "text": "East London",
          "x": 0.908,
          "xanchor": "center",
          "xref": "paper",
          "y": 0.7859999999999999,
          "yanchor": "bottom",
          "yref": "paper"
         },
         {
          "font": {},
          "showarrow": false,
          "text": "Abellio London",
          "x": 0.09200000000000001,
          "xanchor": "center",
          "xref": "paper",
          "y": 1,
          "yanchor": "bottom",
          "yref": "paper"
         },
         {
          "font": {},
          "showarrow": false,
          "text": "Abellio West",
          "x": 0.29600000000000004,
          "xanchor": "center",
          "xref": "paper",
          "y": 1,
          "yanchor": "bottom",
          "yref": "paper"
         },
         {
          "font": {},
          "showarrow": false,
          "text": "Arriva Kent Thameside",
          "x": 0.5,
          "xanchor": "center",
          "xref": "paper",
          "y": 1,
          "yanchor": "bottom",
          "yref": "paper"
         },
         {
          "font": {},
          "showarrow": false,
          "text": "Arriva London North",
          "x": 0.7040000000000002,
          "xanchor": "center",
          "xref": "paper",
          "y": 1,
          "yanchor": "bottom",
          "yref": "paper"
         },
         {
          "font": {},
          "showarrow": false,
          "text": "Arriva London South",
          "x": 0.908,
          "xanchor": "center",
          "xref": "paper",
          "y": 1,
          "yanchor": "bottom",
          "yref": "paper"
         }
        ],
        "bargap": 0.2,
        "height": 800,
        "legend": {
         "tracegroupgap": 0
        },
        "margin": {
         "t": 60
        },
        "template": {
         "data": {
          "bar": [
           {
            "error_x": {
             "color": "#2a3f5f"
            },
            "error_y": {
             "color": "#2a3f5f"
            },
            "marker": {
             "line": {
              "color": "#E5ECF6",
              "width": 0.5
             },
             "pattern": {
              "fillmode": "overlay",
              "size": 10,
              "solidity": 0.2
             }
            },
            "type": "bar"
           }
          ],
          "barpolar": [
           {
            "marker": {
             "line": {
              "color": "#E5ECF6",
              "width": 0.5
             },
             "pattern": {
              "fillmode": "overlay",
              "size": 10,
              "solidity": 0.2
             }
            },
            "type": "barpolar"
           }
          ],
          "carpet": [
           {
            "aaxis": {
             "endlinecolor": "#2a3f5f",
             "gridcolor": "white",
             "linecolor": "white",
             "minorgridcolor": "white",
             "startlinecolor": "#2a3f5f"
            },
            "baxis": {
             "endlinecolor": "#2a3f5f",
             "gridcolor": "white",
             "linecolor": "white",
             "minorgridcolor": "white",
             "startlinecolor": "#2a3f5f"
            },
            "type": "carpet"
           }
          ],
          "choropleth": [
           {
            "colorbar": {
             "outlinewidth": 0,
             "ticks": ""
            },
            "type": "choropleth"
           }
          ],
          "contour": [
           {
            "colorbar": {
             "outlinewidth": 0,
             "ticks": ""
            },
            "colorscale": [
             [
              0,
              "#0d0887"
             ],
             [
              0.1111111111111111,
              "#46039f"
             ],
             [
              0.2222222222222222,
              "#7201a8"
             ],
             [
              0.3333333333333333,
              "#9c179e"
             ],
             [
              0.4444444444444444,
              "#bd3786"
             ],
             [
              0.5555555555555556,
              "#d8576b"
             ],
             [
              0.6666666666666666,
              "#ed7953"
             ],
             [
              0.7777777777777778,
              "#fb9f3a"
             ],
             [
              0.8888888888888888,
              "#fdca26"
             ],
             [
              1,
              "#f0f921"
             ]
            ],
            "type": "contour"
           }
          ],
          "contourcarpet": [
           {
            "colorbar": {
             "outlinewidth": 0,
             "ticks": ""
            },
            "type": "contourcarpet"
           }
          ],
          "heatmap": [
           {
            "colorbar": {
             "outlinewidth": 0,
             "ticks": ""
            },
            "colorscale": [
             [
              0,
              "#0d0887"
             ],
             [
              0.1111111111111111,
              "#46039f"
             ],
             [
              0.2222222222222222,
              "#7201a8"
             ],
             [
              0.3333333333333333,
              "#9c179e"
             ],
             [
              0.4444444444444444,
              "#bd3786"
             ],
             [
              0.5555555555555556,
              "#d8576b"
             ],
             [
              0.6666666666666666,
              "#ed7953"
             ],
             [
              0.7777777777777778,
              "#fb9f3a"
             ],
             [
              0.8888888888888888,
              "#fdca26"
             ],
             [
              1,
              "#f0f921"
             ]
            ],
            "type": "heatmap"
           }
          ],
          "heatmapgl": [
           {
            "colorbar": {
             "outlinewidth": 0,
             "ticks": ""
            },
            "colorscale": [
             [
              0,
              "#0d0887"
             ],
             [
              0.1111111111111111,
              "#46039f"
             ],
             [
              0.2222222222222222,
              "#7201a8"
             ],
             [
              0.3333333333333333,
              "#9c179e"
             ],
             [
              0.4444444444444444,
              "#bd3786"
             ],
             [
              0.5555555555555556,
              "#d8576b"
             ],
             [
              0.6666666666666666,
              "#ed7953"
             ],
             [
              0.7777777777777778,
              "#fb9f3a"
             ],
             [
              0.8888888888888888,
              "#fdca26"
             ],
             [
              1,
              "#f0f921"
             ]
            ],
            "type": "heatmapgl"
           }
          ],
          "histogram": [
           {
            "marker": {
             "pattern": {
              "fillmode": "overlay",
              "size": 10,
              "solidity": 0.2
             }
            },
            "type": "histogram"
           }
          ],
          "histogram2d": [
           {
            "colorbar": {
             "outlinewidth": 0,
             "ticks": ""
            },
            "colorscale": [
             [
              0,
              "#0d0887"
             ],
             [
              0.1111111111111111,
              "#46039f"
             ],
             [
              0.2222222222222222,
              "#7201a8"
             ],
             [
              0.3333333333333333,
              "#9c179e"
             ],
             [
              0.4444444444444444,
              "#bd3786"
             ],
             [
              0.5555555555555556,
              "#d8576b"
             ],
             [
              0.6666666666666666,
              "#ed7953"
             ],
             [
              0.7777777777777778,
              "#fb9f3a"
             ],
             [
              0.8888888888888888,
              "#fdca26"
             ],
             [
              1,
              "#f0f921"
             ]
            ],
            "type": "histogram2d"
           }
          ],
          "histogram2dcontour": [
           {
            "colorbar": {
             "outlinewidth": 0,
             "ticks": ""
            },
            "colorscale": [
             [
              0,
              "#0d0887"
             ],
             [
              0.1111111111111111,
              "#46039f"
             ],
             [
              0.2222222222222222,
              "#7201a8"
             ],
             [
              0.3333333333333333,
              "#9c179e"
             ],
             [
              0.4444444444444444,
              "#bd3786"
             ],
             [
              0.5555555555555556,
              "#d8576b"
             ],
             [
              0.6666666666666666,
              "#ed7953"
             ],
             [
              0.7777777777777778,
              "#fb9f3a"
             ],
             [
              0.8888888888888888,
              "#fdca26"
             ],
             [
              1,
              "#f0f921"
             ]
            ],
            "type": "histogram2dcontour"
           }
          ],
          "mesh3d": [
           {
            "colorbar": {
             "outlinewidth": 0,
             "ticks": ""
            },
            "type": "mesh3d"
           }
          ],
          "parcoords": [
           {
            "line": {
             "colorbar": {
              "outlinewidth": 0,
              "ticks": ""
             }
            },
            "type": "parcoords"
           }
          ],
          "pie": [
           {
            "automargin": true,
            "type": "pie"
           }
          ],
          "scatter": [
           {
            "fillpattern": {
             "fillmode": "overlay",
             "size": 10,
             "solidity": 0.2
            },
            "type": "scatter"
           }
          ],
          "scatter3d": [
           {
            "line": {
             "colorbar": {
              "outlinewidth": 0,
              "ticks": ""
             }
            },
            "marker": {
             "colorbar": {
              "outlinewidth": 0,
              "ticks": ""
             }
            },
            "type": "scatter3d"
           }
          ],
          "scattercarpet": [
           {
            "marker": {
             "colorbar": {
              "outlinewidth": 0,
              "ticks": ""
             }
            },
            "type": "scattercarpet"
           }
          ],
          "scattergeo": [
           {
            "marker": {
             "colorbar": {
              "outlinewidth": 0,
              "ticks": ""
             }
            },
            "type": "scattergeo"
           }
          ],
          "scattergl": [
           {
            "marker": {
             "colorbar": {
              "outlinewidth": 0,
              "ticks": ""
             }
            },
            "type": "scattergl"
           }
          ],
          "scattermapbox": [
           {
            "marker": {
             "colorbar": {
              "outlinewidth": 0,
              "ticks": ""
             }
            },
            "type": "scattermapbox"
           }
          ],
          "scatterpolar": [
           {
            "marker": {
             "colorbar": {
              "outlinewidth": 0,
              "ticks": ""
             }
            },
            "type": "scatterpolar"
           }
          ],
          "scatterpolargl": [
           {
            "marker": {
             "colorbar": {
              "outlinewidth": 0,
              "ticks": ""
             }
            },
            "type": "scatterpolargl"
           }
          ],
          "scatterternary": [
           {
            "marker": {
             "colorbar": {
              "outlinewidth": 0,
              "ticks": ""
             }
            },
            "type": "scatterternary"
           }
          ],
          "surface": [
           {
            "colorbar": {
             "outlinewidth": 0,
             "ticks": ""
            },
            "colorscale": [
             [
              0,
              "#0d0887"
             ],
             [
              0.1111111111111111,
              "#46039f"
             ],
             [
              0.2222222222222222,
              "#7201a8"
             ],
             [
              0.3333333333333333,
              "#9c179e"
             ],
             [
              0.4444444444444444,
              "#bd3786"
             ],
             [
              0.5555555555555556,
              "#d8576b"
             ],
             [
              0.6666666666666666,
              "#ed7953"
             ],
             [
              0.7777777777777778,
              "#fb9f3a"
             ],
             [
              0.8888888888888888,
              "#fdca26"
             ],
             [
              1,
              "#f0f921"
             ]
            ],
            "type": "surface"
           }
          ],
          "table": [
           {
            "cells": {
             "fill": {
              "color": "#EBF0F8"
             },
             "line": {
              "color": "white"
             }
            },
            "header": {
             "fill": {
              "color": "#C8D4E3"
             },
             "line": {
              "color": "white"
             }
            },
            "type": "table"
           }
          ]
         },
         "layout": {
          "annotationdefaults": {
           "arrowcolor": "#2a3f5f",
           "arrowhead": 0,
           "arrowwidth": 1
          },
          "autotypenumbers": "strict",
          "coloraxis": {
           "colorbar": {
            "outlinewidth": 0,
            "ticks": ""
           }
          },
          "colorscale": {
           "diverging": [
            [
             0,
             "#8e0152"
            ],
            [
             0.1,
             "#c51b7d"
            ],
            [
             0.2,
             "#de77ae"
            ],
            [
             0.3,
             "#f1b6da"
            ],
            [
             0.4,
             "#fde0ef"
            ],
            [
             0.5,
             "#f7f7f7"
            ],
            [
             0.6,
             "#e6f5d0"
            ],
            [
             0.7,
             "#b8e186"
            ],
            [
             0.8,
             "#7fbc41"
            ],
            [
             0.9,
             "#4d9221"
            ],
            [
             1,
             "#276419"
            ]
           ],
           "sequential": [
            [
             0,
             "#0d0887"
            ],
            [
             0.1111111111111111,
             "#46039f"
            ],
            [
             0.2222222222222222,
             "#7201a8"
            ],
            [
             0.3333333333333333,
             "#9c179e"
            ],
            [
             0.4444444444444444,
             "#bd3786"
            ],
            [
             0.5555555555555556,
             "#d8576b"
            ],
            [
             0.6666666666666666,
             "#ed7953"
            ],
            [
             0.7777777777777778,
             "#fb9f3a"
            ],
            [
             0.8888888888888888,
             "#fdca26"
            ],
            [
             1,
             "#f0f921"
            ]
           ],
           "sequentialminus": [
            [
             0,
             "#0d0887"
            ],
            [
             0.1111111111111111,
             "#46039f"
            ],
            [
             0.2222222222222222,
             "#7201a8"
            ],
            [
             0.3333333333333333,
             "#9c179e"
            ],
            [
             0.4444444444444444,
             "#bd3786"
            ],
            [
             0.5555555555555556,
             "#d8576b"
            ],
            [
             0.6666666666666666,
             "#ed7953"
            ],
            [
             0.7777777777777778,
             "#fb9f3a"
            ],
            [
             0.8888888888888888,
             "#fdca26"
            ],
            [
             1,
             "#f0f921"
            ]
           ]
          },
          "colorway": [
           "#636efa",
           "#EF553B",
           "#00cc96",
           "#ab63fa",
           "#FFA15A",
           "#19d3f3",
           "#FF6692",
           "#B6E880",
           "#FF97FF",
           "#FECB52"
          ],
          "font": {
           "color": "#2a3f5f"
          },
          "geo": {
           "bgcolor": "white",
           "lakecolor": "white",
           "landcolor": "#E5ECF6",
           "showlakes": true,
           "showland": true,
           "subunitcolor": "white"
          },
          "hoverlabel": {
           "align": "left"
          },
          "hovermode": "closest",
          "mapbox": {
           "style": "light"
          },
          "paper_bgcolor": "white",
          "plot_bgcolor": "#E5ECF6",
          "polar": {
           "angularaxis": {
            "gridcolor": "white",
            "linecolor": "white",
            "ticks": ""
           },
           "bgcolor": "#E5ECF6",
           "radialaxis": {
            "gridcolor": "white",
            "linecolor": "white",
            "ticks": ""
           }
          },
          "scene": {
           "xaxis": {
            "backgroundcolor": "#E5ECF6",
            "gridcolor": "white",
            "gridwidth": 2,
            "linecolor": "white",
            "showbackground": true,
            "ticks": "",
            "zerolinecolor": "white"
           },
           "yaxis": {
            "backgroundcolor": "#E5ECF6",
            "gridcolor": "white",
            "gridwidth": 2,
            "linecolor": "white",
            "showbackground": true,
            "ticks": "",
            "zerolinecolor": "white"
           },
           "zaxis": {
            "backgroundcolor": "#E5ECF6",
            "gridcolor": "white",
            "gridwidth": 2,
            "linecolor": "white",
            "showbackground": true,
            "ticks": "",
            "zerolinecolor": "white"
           }
          },
          "shapedefaults": {
           "line": {
            "color": "#2a3f5f"
           }
          },
          "ternary": {
           "aaxis": {
            "gridcolor": "white",
            "linecolor": "white",
            "ticks": ""
           },
           "baxis": {
            "gridcolor": "white",
            "linecolor": "white",
            "ticks": ""
           },
           "bgcolor": "#E5ECF6",
           "caxis": {
            "gridcolor": "white",
            "linecolor": "white",
            "ticks": ""
           }
          },
          "title": {
           "x": 0.05
          },
          "xaxis": {
           "automargin": true,
           "gridcolor": "white",
           "linecolor": "white",
           "ticks": "",
           "title": {
            "standoff": 15
           },
           "zerolinecolor": "white",
           "zerolinewidth": 2
          },
          "yaxis": {
           "automargin": true,
           "gridcolor": "white",
           "linecolor": "white",
           "ticks": "",
           "title": {
            "standoff": 15
           },
           "zerolinecolor": "white",
           "zerolinewidth": 2
          }
         }
        },
        "title": {
         "text": "Evolution of Accidents by Operator Over Time",
         "x": 0.5
        },
        "width": 1000,
        "xaxis": {
         "anchor": "y",
         "domain": [
          0,
          0.18400000000000002
         ],
         "title": {}
        },
        "xaxis10": {
         "anchor": "y10",
         "domain": [
          0.8160000000000001,
          1
         ],
         "matches": "x",
         "showticklabels": false
        },
        "xaxis11": {
         "anchor": "y11",
         "domain": [
          0,
          0.18400000000000002
         ],
         "matches": "x",
         "showticklabels": false
        },
        "xaxis12": {
         "anchor": "y12",
         "domain": [
          0.20400000000000001,
          0.388
         ],
         "matches": "x",
         "showticklabels": false
        },
        "xaxis13": {
         "anchor": "y13",
         "domain": [
          0.40800000000000003,
          0.5920000000000001
         ],
         "matches": "x",
         "showticklabels": false
        },
        "xaxis14": {
         "anchor": "y14",
         "domain": [
          0.6120000000000001,
          0.7960000000000002
         ],
         "matches": "x",
         "showticklabels": false
        },
        "xaxis15": {
         "anchor": "y15",
         "domain": [
          0.8160000000000001,
          1
         ],
         "matches": "x",
         "showticklabels": false
        },
        "xaxis16": {
         "anchor": "y16",
         "domain": [
          0,
          0.18400000000000002
         ],
         "matches": "x",
         "showticklabels": false
        },
        "xaxis17": {
         "anchor": "y17",
         "domain": [
          0.20400000000000001,
          0.388
         ],
         "matches": "x",
         "showticklabels": false
        },
        "xaxis18": {
         "anchor": "y18",
         "domain": [
          0.40800000000000003,
          0.5920000000000001
         ],
         "matches": "x",
         "showticklabels": false
        },
        "xaxis19": {
         "anchor": "y19",
         "domain": [
          0.6120000000000001,
          0.7960000000000002
         ],
         "matches": "x",
         "showticklabels": false
        },
        "xaxis2": {
         "anchor": "y2",
         "domain": [
          0.20400000000000001,
          0.388
         ],
         "matches": "x",
         "title": {}
        },
        "xaxis20": {
         "anchor": "y20",
         "domain": [
          0.8160000000000001,
          1
         ],
         "matches": "x",
         "showticklabels": false
        },
        "xaxis21": {
         "anchor": "y21",
         "domain": [
          0,
          0.18400000000000002
         ],
         "matches": "x",
         "showticklabels": false
        },
        "xaxis22": {
         "anchor": "y22",
         "domain": [
          0.20400000000000001,
          0.388
         ],
         "matches": "x",
         "showticklabels": false
        },
        "xaxis23": {
         "anchor": "y23",
         "domain": [
          0.40800000000000003,
          0.5920000000000001
         ],
         "matches": "x",
         "showticklabels": false
        },
        "xaxis24": {
         "anchor": "y24",
         "domain": [
          0.6120000000000001,
          0.7960000000000002
         ],
         "matches": "x",
         "showticklabels": false
        },
        "xaxis25": {
         "anchor": "y25",
         "domain": [
          0.8160000000000001,
          1
         ],
         "matches": "x",
         "showticklabels": false
        },
        "xaxis3": {
         "anchor": "y3",
         "domain": [
          0.40800000000000003,
          0.5920000000000001
         ],
         "matches": "x",
         "title": {}
        },
        "xaxis4": {
         "anchor": "y4",
         "domain": [
          0.6120000000000001,
          0.7960000000000002
         ],
         "matches": "x",
         "title": {}
        },
        "xaxis5": {
         "anchor": "y5",
         "domain": [
          0.8160000000000001,
          1
         ],
         "matches": "x",
         "title": {}
        },
        "xaxis6": {
         "anchor": "y6",
         "domain": [
          0,
          0.18400000000000002
         ],
         "matches": "x",
         "showticklabels": false
        },
        "xaxis7": {
         "anchor": "y7",
         "domain": [
          0.20400000000000001,
          0.388
         ],
         "matches": "x",
         "showticklabels": false
        },
        "xaxis8": {
         "anchor": "y8",
         "domain": [
          0.40800000000000003,
          0.5920000000000001
         ],
         "matches": "x",
         "showticklabels": false
        },
        "xaxis9": {
         "anchor": "y9",
         "domain": [
          0.6120000000000001,
          0.7960000000000002
         ],
         "matches": "x",
         "showticklabels": false
        },
        "yaxis": {
         "anchor": "x",
         "domain": [
          0,
          0.144
         ],
         "title": {}
        },
        "yaxis10": {
         "anchor": "x10",
         "domain": [
          0.214,
          0.358
         ],
         "matches": "y",
         "showticklabels": false
        },
        "yaxis11": {
         "anchor": "x11",
         "domain": [
          0.428,
          0.572
         ],
         "matches": "y",
         "title": {}
        },
        "yaxis12": {
         "anchor": "x12",
         "domain": [
          0.428,
          0.572
         ],
         "matches": "y",
         "showticklabels": false
        },
        "yaxis13": {
         "anchor": "x13",
         "domain": [
          0.428,
          0.572
         ],
         "matches": "y",
         "showticklabels": false
        },
        "yaxis14": {
         "anchor": "x14",
         "domain": [
          0.428,
          0.572
         ],
         "matches": "y",
         "showticklabels": false
        },
        "yaxis15": {
         "anchor": "x15",
         "domain": [
          0.428,
          0.572
         ],
         "matches": "y",
         "showticklabels": false
        },
        "yaxis16": {
         "anchor": "x16",
         "domain": [
          0.6419999999999999,
          0.7859999999999999
         ],
         "matches": "y",
         "title": {}
        },
        "yaxis17": {
         "anchor": "x17",
         "domain": [
          0.6419999999999999,
          0.7859999999999999
         ],
         "matches": "y",
         "showticklabels": false
        },
        "yaxis18": {
         "anchor": "x18",
         "domain": [
          0.6419999999999999,
          0.7859999999999999
         ],
         "matches": "y",
         "showticklabels": false
        },
        "yaxis19": {
         "anchor": "x19",
         "domain": [
          0.6419999999999999,
          0.7859999999999999
         ],
         "matches": "y",
         "showticklabels": false
        },
        "yaxis2": {
         "anchor": "x2",
         "domain": [
          0,
          0.144
         ],
         "matches": "y",
         "showticklabels": false
        },
        "yaxis20": {
         "anchor": "x20",
         "domain": [
          0.6419999999999999,
          0.7859999999999999
         ],
         "matches": "y",
         "showticklabels": false
        },
        "yaxis21": {
         "anchor": "x21",
         "domain": [
          0.856,
          1
         ],
         "matches": "y",
         "title": {}
        },
        "yaxis22": {
         "anchor": "x22",
         "domain": [
          0.856,
          1
         ],
         "matches": "y",
         "showticklabels": false
        },
        "yaxis23": {
         "anchor": "x23",
         "domain": [
          0.856,
          1
         ],
         "matches": "y",
         "showticklabels": false
        },
        "yaxis24": {
         "anchor": "x24",
         "domain": [
          0.856,
          1
         ],
         "matches": "y",
         "showticklabels": false
        },
        "yaxis25": {
         "anchor": "x25",
         "domain": [
          0.856,
          1
         ],
         "matches": "y",
         "showticklabels": false
        },
        "yaxis3": {
         "anchor": "x3",
         "domain": [
          0,
          0.144
         ],
         "matches": "y",
         "showticklabels": false
        },
        "yaxis4": {
         "anchor": "x4",
         "domain": [
          0,
          0.144
         ],
         "matches": "y",
         "showticklabels": false
        },
        "yaxis5": {
         "anchor": "x5",
         "domain": [
          0,
          0.144
         ],
         "matches": "y",
         "showticklabels": false
        },
        "yaxis6": {
         "anchor": "x6",
         "domain": [
          0.214,
          0.358
         ],
         "matches": "y",
         "title": {}
        },
        "yaxis7": {
         "anchor": "x7",
         "domain": [
          0.214,
          0.358
         ],
         "matches": "y",
         "showticklabels": false
        },
        "yaxis8": {
         "anchor": "x8",
         "domain": [
          0.214,
          0.358
         ],
         "matches": "y",
         "showticklabels": false
        },
        "yaxis9": {
         "anchor": "x9",
         "domain": [
          0.214,
          0.358
         ],
         "matches": "y",
         "showticklabels": false
        }
       }
      },
      "text/html": [
       "<div>                            <div id=\"c7a7bd10-2de5-4c9c-afca-56f9baeb9118\" class=\"plotly-graph-div\" style=\"height:800px; width:1000px;\"></div>            <script type=\"text/javascript\">                require([\"plotly\"], function(Plotly) {                    window.PLOTLYENV=window.PLOTLYENV || {};                                    if (document.getElementById(\"c7a7bd10-2de5-4c9c-afca-56f9baeb9118\")) {                    Plotly.newPlot(                        \"c7a7bd10-2de5-4c9c-afca-56f9baeb9118\",                        [{\"hovertemplate\":\"Operator=Abellio London<br>Date Of Incident=%{x}<br>Total Number of Victims=%{y}<extra></extra>\",\"legendgroup\":\"\",\"line\":{\"color\":\"#636efa\",\"dash\":\"solid\"},\"marker\":{\"symbol\":\"circle\"},\"mode\":\"lines\",\"name\":\"\",\"orientation\":\"v\",\"showlegend\":false,\"x\":[\"2015-01-01T00:00:00\",\"2015-02-01T00:00:00\",\"2015-03-01T00:00:00\",\"2015-04-01T00:00:00\",\"2015-05-01T00:00:00\",\"2015-06-01T00:00:00\",\"2015-07-01T00:00:00\",\"2015-08-01T00:00:00\",\"2015-09-01T00:00:00\",\"2015-10-01T00:00:00\",\"2015-11-01T00:00:00\",\"2015-12-01T00:00:00\",\"2016-01-01T00:00:00\",\"2016-02-01T00:00:00\",\"2016-03-01T00:00:00\",\"2016-04-01T00:00:00\",\"2016-05-01T00:00:00\",\"2016-06-01T00:00:00\",\"2016-07-01T00:00:00\",\"2016-08-01T00:00:00\",\"2016-09-01T00:00:00\",\"2016-10-01T00:00:00\",\"2016-11-01T00:00:00\",\"2016-12-01T00:00:00\",\"2017-01-01T00:00:00\",\"2017-02-01T00:00:00\",\"2017-03-01T00:00:00\",\"2017-04-01T00:00:00\",\"2017-05-01T00:00:00\",\"2017-06-01T00:00:00\",\"2017-07-01T00:00:00\",\"2017-08-01T00:00:00\",\"2017-09-01T00:00:00\",\"2017-10-01T00:00:00\",\"2017-11-01T00:00:00\",\"2017-12-01T00:00:00\",\"2018-01-01T00:00:00\",\"2018-02-01T00:00:00\",\"2018-03-01T00:00:00\",\"2018-04-01T00:00:00\",\"2018-05-01T00:00:00\",\"2018-06-01T00:00:00\",\"2018-07-01T00:00:00\",\"2018-08-01T00:00:00\",\"2018-09-01T00:00:00\"],\"xaxis\":\"x21\",\"y\":[11,6,7,9,11,7,7,12,11,11,14,11,16,17,15,9,8,14,11,9,23,37,49,25,22,19,23,24,23,25,37,30,29,35,26,36,38,26,28,29,37,35,26,38,27],\"yaxis\":\"y21\",\"type\":\"scatter\"},{\"hovertemplate\":\"Operator=Abellio West<br>Date Of Incident=%{x}<br>Total Number of Victims=%{y}<extra></extra>\",\"legendgroup\":\"\",\"line\":{\"color\":\"#636efa\",\"dash\":\"solid\"},\"marker\":{\"symbol\":\"circle\"},\"mode\":\"lines\",\"name\":\"\",\"orientation\":\"v\",\"showlegend\":false,\"x\":[\"2015-01-01T00:00:00\",\"2015-02-01T00:00:00\",\"2015-03-01T00:00:00\",\"2015-04-01T00:00:00\",\"2015-05-01T00:00:00\",\"2015-06-01T00:00:00\",\"2015-07-01T00:00:00\",\"2015-08-01T00:00:00\",\"2015-09-01T00:00:00\",\"2015-10-01T00:00:00\",\"2015-11-01T00:00:00\",\"2015-12-01T00:00:00\",\"2016-01-01T00:00:00\",\"2016-02-01T00:00:00\",\"2016-04-01T00:00:00\",\"2016-05-01T00:00:00\",\"2016-07-01T00:00:00\",\"2016-08-01T00:00:00\",\"2016-09-01T00:00:00\",\"2016-10-01T00:00:00\",\"2016-11-01T00:00:00\",\"2016-12-01T00:00:00\",\"2017-01-01T00:00:00\",\"2017-02-01T00:00:00\",\"2017-03-01T00:00:00\",\"2017-04-01T00:00:00\",\"2017-05-01T00:00:00\",\"2017-06-01T00:00:00\",\"2017-07-01T00:00:00\",\"2017-09-01T00:00:00\",\"2017-10-01T00:00:00\",\"2017-11-01T00:00:00\",\"2017-12-01T00:00:00\",\"2018-02-01T00:00:00\",\"2018-03-01T00:00:00\",\"2018-04-01T00:00:00\",\"2018-05-01T00:00:00\",\"2018-06-01T00:00:00\",\"2018-07-01T00:00:00\",\"2018-09-01T00:00:00\"],\"xaxis\":\"x22\",\"y\":[1,1,3,2,3,2,1,4,3,4,2,1,5,1,1,3,4,1,1,5,5,8,6,1,4,10,10,8,1,2,1,4,3,4,2,1,2,2,1,3],\"yaxis\":\"y22\",\"type\":\"scatter\"},{\"hovertemplate\":\"Operator=Arriva Kent Thameside<br>Date Of Incident=%{x}<br>Total Number of Victims=%{y}<extra></extra>\",\"legendgroup\":\"\",\"line\":{\"color\":\"#636efa\",\"dash\":\"solid\"},\"marker\":{\"symbol\":\"circle\"},\"mode\":\"lines\",\"name\":\"\",\"orientation\":\"v\",\"showlegend\":false,\"x\":[\"2015-01-01T00:00:00\",\"2015-02-01T00:00:00\",\"2015-03-01T00:00:00\",\"2015-04-01T00:00:00\",\"2015-05-01T00:00:00\",\"2015-06-01T00:00:00\",\"2015-07-01T00:00:00\",\"2015-08-01T00:00:00\",\"2015-09-01T00:00:00\",\"2015-10-01T00:00:00\",\"2015-11-01T00:00:00\",\"2015-12-01T00:00:00\",\"2016-01-01T00:00:00\",\"2016-02-01T00:00:00\",\"2016-03-01T00:00:00\",\"2016-04-01T00:00:00\",\"2016-05-01T00:00:00\"],\"xaxis\":\"x23\",\"y\":[14,3,9,9,4,8,4,10,2,2,2,6,4,10,10,9,1],\"yaxis\":\"y23\",\"type\":\"scatter\"},{\"hovertemplate\":\"Operator=Arriva London North<br>Date Of Incident=%{x}<br>Total Number of Victims=%{y}<extra></extra>\",\"legendgroup\":\"\",\"line\":{\"color\":\"#636efa\",\"dash\":\"solid\"},\"marker\":{\"symbol\":\"circle\"},\"mode\":\"lines\",\"name\":\"\",\"orientation\":\"v\",\"showlegend\":false,\"x\":[\"2015-01-01T00:00:00\",\"2015-02-01T00:00:00\",\"2015-03-01T00:00:00\",\"2015-04-01T00:00:00\",\"2015-05-01T00:00:00\",\"2015-06-01T00:00:00\",\"2015-07-01T00:00:00\",\"2015-08-01T00:00:00\",\"2015-09-01T00:00:00\",\"2015-10-01T00:00:00\",\"2015-11-01T00:00:00\",\"2015-12-01T00:00:00\",\"2016-01-01T00:00:00\",\"2016-02-01T00:00:00\",\"2016-03-01T00:00:00\",\"2016-04-01T00:00:00\",\"2016-05-01T00:00:00\",\"2016-06-01T00:00:00\",\"2016-07-01T00:00:00\",\"2016-08-01T00:00:00\",\"2016-09-01T00:00:00\",\"2016-10-01T00:00:00\",\"2016-11-01T00:00:00\",\"2016-12-01T00:00:00\",\"2017-01-01T00:00:00\",\"2017-02-01T00:00:00\",\"2017-03-01T00:00:00\",\"2017-04-01T00:00:00\",\"2017-05-01T00:00:00\",\"2017-06-01T00:00:00\",\"2017-07-01T00:00:00\",\"2017-08-01T00:00:00\",\"2017-09-01T00:00:00\",\"2017-10-01T00:00:00\",\"2017-11-01T00:00:00\",\"2017-12-01T00:00:00\",\"2018-01-01T00:00:00\",\"2018-02-01T00:00:00\",\"2018-03-01T00:00:00\",\"2018-04-01T00:00:00\",\"2018-05-01T00:00:00\",\"2018-06-01T00:00:00\",\"2018-07-01T00:00:00\",\"2018-08-01T00:00:00\",\"2018-09-01T00:00:00\"],\"xaxis\":\"x24\",\"y\":[57,60,88,53,64,80,77,41,69,70,71,59,49,49,69,53,55,45,56,55,60,62,61,42,15,65,92,118,76,92,89,88,84,125,101,81,74,91,98,61,96,90,95,52,80],\"yaxis\":\"y24\",\"type\":\"scatter\"},{\"hovertemplate\":\"Operator=Arriva London South<br>Date Of Incident=%{x}<br>Total Number of Victims=%{y}<extra></extra>\",\"legendgroup\":\"\",\"line\":{\"color\":\"#636efa\",\"dash\":\"solid\"},\"marker\":{\"symbol\":\"circle\"},\"mode\":\"lines\",\"name\":\"\",\"orientation\":\"v\",\"showlegend\":false,\"x\":[\"2015-01-01T00:00:00\",\"2015-02-01T00:00:00\",\"2015-03-01T00:00:00\",\"2015-04-01T00:00:00\",\"2015-05-01T00:00:00\",\"2015-06-01T00:00:00\",\"2015-07-01T00:00:00\",\"2015-08-01T00:00:00\",\"2015-09-01T00:00:00\",\"2015-10-01T00:00:00\",\"2015-11-01T00:00:00\",\"2015-12-01T00:00:00\",\"2016-01-01T00:00:00\",\"2016-02-01T00:00:00\",\"2016-03-01T00:00:00\",\"2016-04-01T00:00:00\",\"2016-05-01T00:00:00\",\"2016-06-01T00:00:00\",\"2016-07-01T00:00:00\",\"2016-08-01T00:00:00\",\"2016-09-01T00:00:00\",\"2016-10-01T00:00:00\",\"2016-11-01T00:00:00\",\"2016-12-01T00:00:00\",\"2017-01-01T00:00:00\",\"2017-02-01T00:00:00\",\"2017-03-01T00:00:00\",\"2017-04-01T00:00:00\",\"2017-05-01T00:00:00\",\"2017-06-01T00:00:00\",\"2017-07-01T00:00:00\",\"2017-08-01T00:00:00\",\"2017-09-01T00:00:00\",\"2017-10-01T00:00:00\",\"2017-11-01T00:00:00\",\"2017-12-01T00:00:00\",\"2018-01-01T00:00:00\",\"2018-02-01T00:00:00\",\"2018-03-01T00:00:00\",\"2018-04-01T00:00:00\",\"2018-05-01T00:00:00\",\"2018-06-01T00:00:00\",\"2018-07-01T00:00:00\",\"2018-08-01T00:00:00\",\"2018-09-01T00:00:00\"],\"xaxis\":\"x25\",\"y\":[27,28,39,35,46,49,60,32,49,35,33,49,39,36,20,46,40,40,20,42,32,39,41,34,15,31,39,52,48,37,61,43,34,37,38,35,39,34,36,48,38,48,42,37,40],\"yaxis\":\"y25\",\"type\":\"scatter\"},{\"hovertemplate\":\"Operator=Arriva The Shires<br>Date Of Incident=%{x}<br>Total Number of Victims=%{y}<extra></extra>\",\"legendgroup\":\"\",\"line\":{\"color\":\"#636efa\",\"dash\":\"solid\"},\"marker\":{\"symbol\":\"circle\"},\"mode\":\"lines\",\"name\":\"\",\"orientation\":\"v\",\"showlegend\":false,\"x\":[\"2015-01-01T00:00:00\",\"2015-02-01T00:00:00\",\"2015-03-01T00:00:00\",\"2015-04-01T00:00:00\",\"2015-05-01T00:00:00\",\"2015-06-01T00:00:00\",\"2015-07-01T00:00:00\",\"2015-08-01T00:00:00\",\"2015-09-01T00:00:00\",\"2015-10-01T00:00:00\",\"2015-11-01T00:00:00\",\"2015-12-01T00:00:00\",\"2016-01-01T00:00:00\",\"2016-02-01T00:00:00\",\"2016-03-01T00:00:00\",\"2016-04-01T00:00:00\",\"2016-05-01T00:00:00\",\"2016-06-01T00:00:00\",\"2016-07-01T00:00:00\",\"2016-08-01T00:00:00\",\"2016-09-01T00:00:00\",\"2016-10-01T00:00:00\",\"2016-11-01T00:00:00\",\"2016-12-01T00:00:00\",\"2017-01-01T00:00:00\",\"2017-02-01T00:00:00\"],\"xaxis\":\"x16\",\"y\":[11,7,7,6,15,19,9,7,14,11,10,10,11,15,2,7,16,6,8,13,10,17,1,1,50,22],\"yaxis\":\"y16\",\"type\":\"scatter\"},{\"hovertemplate\":\"Operator=Blue Triangle Buses<br>Date Of Incident=%{x}<br>Total Number of Victims=%{y}<extra></extra>\",\"legendgroup\":\"\",\"line\":{\"color\":\"#636efa\",\"dash\":\"solid\"},\"marker\":{\"symbol\":\"circle\"},\"mode\":\"lines\",\"name\":\"\",\"orientation\":\"v\",\"showlegend\":false,\"x\":[\"2015-01-01T00:00:00\",\"2015-02-01T00:00:00\",\"2015-03-01T00:00:00\",\"2015-04-01T00:00:00\",\"2015-05-01T00:00:00\",\"2015-06-01T00:00:00\",\"2015-07-01T00:00:00\",\"2015-08-01T00:00:00\",\"2015-09-01T00:00:00\",\"2015-10-01T00:00:00\",\"2015-11-01T00:00:00\",\"2015-12-01T00:00:00\",\"2016-01-01T00:00:00\",\"2016-02-01T00:00:00\",\"2016-03-01T00:00:00\",\"2016-04-01T00:00:00\",\"2016-05-01T00:00:00\",\"2016-06-01T00:00:00\",\"2016-07-01T00:00:00\",\"2016-09-01T00:00:00\",\"2016-10-01T00:00:00\",\"2016-11-01T00:00:00\",\"2016-12-01T00:00:00\",\"2017-01-01T00:00:00\",\"2017-02-01T00:00:00\",\"2017-03-01T00:00:00\",\"2017-04-01T00:00:00\",\"2017-05-01T00:00:00\",\"2017-06-01T00:00:00\",\"2017-07-01T00:00:00\",\"2017-08-01T00:00:00\",\"2017-09-01T00:00:00\",\"2017-10-01T00:00:00\",\"2017-11-01T00:00:00\",\"2017-12-01T00:00:00\",\"2018-01-01T00:00:00\",\"2018-02-01T00:00:00\",\"2018-03-01T00:00:00\",\"2018-04-01T00:00:00\",\"2018-05-01T00:00:00\",\"2018-06-01T00:00:00\",\"2018-07-01T00:00:00\",\"2018-08-01T00:00:00\",\"2018-09-01T00:00:00\"],\"xaxis\":\"x17\",\"y\":[2,1,6,2,2,4,1,9,3,2,1,2,1,2,3,1,1,2,1,2,4,9,3,8,14,10,10,8,15,5,10,14,11,8,4,18,10,11,8,24,13,7,5,4],\"yaxis\":\"y17\",\"type\":\"scatter\"},{\"hovertemplate\":\"Operator=C T Plus<br>Date Of Incident=%{x}<br>Total Number of Victims=%{y}<extra></extra>\",\"legendgroup\":\"\",\"line\":{\"color\":\"#636efa\",\"dash\":\"solid\"},\"marker\":{\"symbol\":\"circle\"},\"mode\":\"lines\",\"name\":\"\",\"orientation\":\"v\",\"showlegend\":false,\"x\":[\"2015-02-01T00:00:00\",\"2015-04-01T00:00:00\",\"2015-06-01T00:00:00\",\"2015-07-01T00:00:00\",\"2015-08-01T00:00:00\",\"2015-09-01T00:00:00\",\"2015-10-01T00:00:00\",\"2015-11-01T00:00:00\",\"2016-01-01T00:00:00\",\"2016-02-01T00:00:00\",\"2016-03-01T00:00:00\",\"2016-04-01T00:00:00\",\"2016-06-01T00:00:00\",\"2016-07-01T00:00:00\",\"2016-08-01T00:00:00\",\"2016-09-01T00:00:00\",\"2016-10-01T00:00:00\",\"2017-03-01T00:00:00\",\"2017-04-01T00:00:00\",\"2017-05-01T00:00:00\",\"2017-06-01T00:00:00\",\"2017-07-01T00:00:00\",\"2017-09-01T00:00:00\",\"2017-10-01T00:00:00\",\"2017-11-01T00:00:00\",\"2017-12-01T00:00:00\",\"2018-01-01T00:00:00\",\"2018-02-01T00:00:00\",\"2018-03-01T00:00:00\",\"2018-04-01T00:00:00\",\"2018-05-01T00:00:00\",\"2018-06-01T00:00:00\",\"2018-07-01T00:00:00\",\"2018-08-01T00:00:00\",\"2018-09-01T00:00:00\"],\"xaxis\":\"x18\",\"y\":[2,3,3,2,2,1,1,1,1,1,3,4,1,1,3,2,2,5,1,1,2,5,1,2,1,1,1,5,3,2,4,3,3,1,3],\"yaxis\":\"y18\",\"type\":\"scatter\"},{\"hovertemplate\":\"Operator=Docklands Buses<br>Date Of Incident=%{x}<br>Total Number of Victims=%{y}<extra></extra>\",\"legendgroup\":\"\",\"line\":{\"color\":\"#636efa\",\"dash\":\"solid\"},\"marker\":{\"symbol\":\"circle\"},\"mode\":\"lines\",\"name\":\"\",\"orientation\":\"v\",\"showlegend\":false,\"x\":[\"2015-01-01T00:00:00\",\"2015-02-01T00:00:00\",\"2015-03-01T00:00:00\",\"2015-04-01T00:00:00\",\"2015-05-01T00:00:00\",\"2015-06-01T00:00:00\",\"2015-07-01T00:00:00\",\"2015-08-01T00:00:00\",\"2015-09-01T00:00:00\",\"2015-10-01T00:00:00\",\"2015-11-01T00:00:00\",\"2015-12-01T00:00:00\",\"2016-01-01T00:00:00\",\"2016-02-01T00:00:00\",\"2016-04-01T00:00:00\",\"2016-07-01T00:00:00\",\"2016-08-01T00:00:00\",\"2016-09-01T00:00:00\",\"2016-10-01T00:00:00\",\"2016-11-01T00:00:00\",\"2016-12-01T00:00:00\",\"2017-02-01T00:00:00\",\"2017-03-01T00:00:00\",\"2017-04-01T00:00:00\",\"2017-06-01T00:00:00\",\"2017-07-01T00:00:00\",\"2017-08-01T00:00:00\",\"2017-09-01T00:00:00\",\"2017-10-01T00:00:00\",\"2017-11-01T00:00:00\",\"2017-12-01T00:00:00\",\"2018-01-01T00:00:00\",\"2018-02-01T00:00:00\",\"2018-03-01T00:00:00\",\"2018-04-01T00:00:00\",\"2018-05-01T00:00:00\",\"2018-06-01T00:00:00\",\"2018-07-01T00:00:00\",\"2018-08-01T00:00:00\",\"2018-09-01T00:00:00\"],\"xaxis\":\"x19\",\"y\":[6,1,1,2,2,2,1,3,7,4,2,3,2,4,1,1,1,1,3,5,1,1,1,1,3,1,3,1,1,2,3,1,2,2,11,3,4,2,1,4],\"yaxis\":\"y19\",\"type\":\"scatter\"},{\"hovertemplate\":\"Operator=East London<br>Date Of Incident=%{x}<br>Total Number of Victims=%{y}<extra></extra>\",\"legendgroup\":\"\",\"line\":{\"color\":\"#636efa\",\"dash\":\"solid\"},\"marker\":{\"symbol\":\"circle\"},\"mode\":\"lines\",\"name\":\"\",\"orientation\":\"v\",\"showlegend\":false,\"x\":[\"2015-01-01T00:00:00\",\"2015-02-01T00:00:00\",\"2015-03-01T00:00:00\",\"2015-04-01T00:00:00\",\"2015-05-01T00:00:00\",\"2015-06-01T00:00:00\",\"2015-07-01T00:00:00\",\"2015-08-01T00:00:00\",\"2015-09-01T00:00:00\",\"2015-10-01T00:00:00\",\"2015-11-01T00:00:00\",\"2015-12-01T00:00:00\",\"2016-01-01T00:00:00\",\"2016-02-01T00:00:00\",\"2016-03-01T00:00:00\",\"2016-04-01T00:00:00\",\"2016-05-01T00:00:00\",\"2016-06-01T00:00:00\",\"2016-07-01T00:00:00\",\"2016-08-01T00:00:00\",\"2016-09-01T00:00:00\",\"2016-10-01T00:00:00\",\"2016-11-01T00:00:00\",\"2016-12-01T00:00:00\",\"2017-01-01T00:00:00\",\"2017-02-01T00:00:00\",\"2017-03-01T00:00:00\",\"2017-04-01T00:00:00\",\"2017-05-01T00:00:00\",\"2017-06-01T00:00:00\",\"2017-07-01T00:00:00\",\"2017-08-01T00:00:00\",\"2017-09-01T00:00:00\",\"2017-10-01T00:00:00\",\"2017-11-01T00:00:00\",\"2017-12-01T00:00:00\",\"2018-01-01T00:00:00\",\"2018-02-01T00:00:00\",\"2018-03-01T00:00:00\",\"2018-04-01T00:00:00\",\"2018-05-01T00:00:00\",\"2018-06-01T00:00:00\",\"2018-07-01T00:00:00\",\"2018-08-01T00:00:00\",\"2018-09-01T00:00:00\"],\"xaxis\":\"x20\",\"y\":[4,29,50,78,67,101,55,48,45,46,78,80,68,70,66,83,56,68,69,82,61,56,73,60,46,53,58,52,39,55,60,32,42,49,54,38,34,38,36,31,31,35,34,46,46],\"yaxis\":\"y20\",\"type\":\"scatter\"},{\"hovertemplate\":\"Operator=H R Richmond<br>Date Of Incident=%{x}<br>Total Number of Victims=%{y}<extra></extra>\",\"legendgroup\":\"\",\"line\":{\"color\":\"#636efa\",\"dash\":\"solid\"},\"marker\":{\"symbol\":\"circle\"},\"mode\":\"lines\",\"name\":\"\",\"orientation\":\"v\",\"showlegend\":false,\"x\":[\"2015-01-01T00:00:00\",\"2015-03-01T00:00:00\",\"2015-04-01T00:00:00\",\"2015-05-01T00:00:00\",\"2015-06-01T00:00:00\",\"2015-08-01T00:00:00\",\"2015-09-01T00:00:00\",\"2015-12-01T00:00:00\",\"2016-01-01T00:00:00\",\"2016-02-01T00:00:00\",\"2016-03-01T00:00:00\",\"2016-04-01T00:00:00\",\"2016-06-01T00:00:00\",\"2016-07-01T00:00:00\",\"2016-08-01T00:00:00\",\"2016-09-01T00:00:00\",\"2016-10-01T00:00:00\",\"2016-11-01T00:00:00\",\"2016-12-01T00:00:00\",\"2017-01-01T00:00:00\",\"2017-02-01T00:00:00\",\"2017-03-01T00:00:00\",\"2017-04-01T00:00:00\",\"2017-06-01T00:00:00\"],\"xaxis\":\"x11\",\"y\":[4,10,2,4,3,2,1,3,2,1,3,1,1,2,1,1,2,1,2,5,2,3,1,2],\"yaxis\":\"y11\",\"type\":\"scatter\"},{\"hovertemplate\":\"Operator=London Central<br>Date Of Incident=%{x}<br>Total Number of Victims=%{y}<extra></extra>\",\"legendgroup\":\"\",\"line\":{\"color\":\"#636efa\",\"dash\":\"solid\"},\"marker\":{\"symbol\":\"circle\"},\"mode\":\"lines\",\"name\":\"\",\"orientation\":\"v\",\"showlegend\":false,\"x\":[\"2015-01-01T00:00:00\",\"2015-02-01T00:00:00\",\"2015-03-01T00:00:00\",\"2015-04-01T00:00:00\",\"2015-05-01T00:00:00\",\"2015-06-01T00:00:00\",\"2015-07-01T00:00:00\",\"2015-08-01T00:00:00\",\"2015-09-01T00:00:00\",\"2015-10-01T00:00:00\",\"2015-11-01T00:00:00\",\"2015-12-01T00:00:00\",\"2016-01-01T00:00:00\",\"2016-02-01T00:00:00\",\"2016-03-01T00:00:00\",\"2016-04-01T00:00:00\",\"2016-05-01T00:00:00\",\"2016-06-01T00:00:00\",\"2016-07-01T00:00:00\",\"2016-08-01T00:00:00\",\"2016-09-01T00:00:00\",\"2016-10-01T00:00:00\",\"2016-11-01T00:00:00\",\"2016-12-01T00:00:00\",\"2017-01-01T00:00:00\",\"2017-02-01T00:00:00\",\"2017-03-01T00:00:00\",\"2017-04-01T00:00:00\",\"2017-05-01T00:00:00\",\"2017-06-01T00:00:00\",\"2017-07-01T00:00:00\",\"2017-08-01T00:00:00\",\"2017-09-01T00:00:00\",\"2017-10-01T00:00:00\",\"2017-11-01T00:00:00\",\"2017-12-01T00:00:00\",\"2018-01-01T00:00:00\",\"2018-02-01T00:00:00\",\"2018-03-01T00:00:00\",\"2018-04-01T00:00:00\",\"2018-05-01T00:00:00\",\"2018-06-01T00:00:00\",\"2018-07-01T00:00:00\",\"2018-08-01T00:00:00\",\"2018-09-01T00:00:00\"],\"xaxis\":\"x12\",\"y\":[22,17,27,30,23,31,31,22,18,16,22,25,11,22,18,13,41,28,16,30,49,34,31,34,10,27,36,27,34,31,51,42,44,49,48,39,34,16,33,45,57,47,42,25,19],\"yaxis\":\"y12\",\"type\":\"scatter\"},{\"hovertemplate\":\"Operator=London General<br>Date Of Incident=%{x}<br>Total Number of Victims=%{y}<extra></extra>\",\"legendgroup\":\"\",\"line\":{\"color\":\"#636efa\",\"dash\":\"solid\"},\"marker\":{\"symbol\":\"circle\"},\"mode\":\"lines\",\"name\":\"\",\"orientation\":\"v\",\"showlegend\":false,\"x\":[\"2015-01-01T00:00:00\",\"2015-02-01T00:00:00\",\"2015-03-01T00:00:00\",\"2015-04-01T00:00:00\",\"2015-05-01T00:00:00\",\"2015-06-01T00:00:00\",\"2015-07-01T00:00:00\",\"2015-08-01T00:00:00\",\"2015-09-01T00:00:00\",\"2015-10-01T00:00:00\",\"2015-11-01T00:00:00\",\"2015-12-01T00:00:00\",\"2016-01-01T00:00:00\",\"2016-02-01T00:00:00\",\"2016-03-01T00:00:00\",\"2016-04-01T00:00:00\",\"2016-05-01T00:00:00\",\"2016-06-01T00:00:00\",\"2016-07-01T00:00:00\",\"2016-08-01T00:00:00\",\"2016-09-01T00:00:00\",\"2016-10-01T00:00:00\",\"2016-11-01T00:00:00\",\"2016-12-01T00:00:00\",\"2017-01-01T00:00:00\",\"2017-02-01T00:00:00\",\"2017-03-01T00:00:00\",\"2017-04-01T00:00:00\",\"2017-05-01T00:00:00\",\"2017-06-01T00:00:00\",\"2017-07-01T00:00:00\",\"2017-08-01T00:00:00\",\"2017-09-01T00:00:00\",\"2017-10-01T00:00:00\",\"2017-11-01T00:00:00\",\"2017-12-01T00:00:00\",\"2018-01-01T00:00:00\",\"2018-02-01T00:00:00\",\"2018-03-01T00:00:00\",\"2018-04-01T00:00:00\",\"2018-05-01T00:00:00\",\"2018-06-01T00:00:00\",\"2018-07-01T00:00:00\",\"2018-08-01T00:00:00\",\"2018-09-01T00:00:00\"],\"xaxis\":\"x13\",\"y\":[43,36,27,42,45,32,32,44,56,29,32,38,50,42,39,45,39,31,35,34,50,48,46,45,34,44,54,36,40,42,50,30,27,45,35,24,38,28,31,24,32,31,50,38,30],\"yaxis\":\"y13\",\"type\":\"scatter\"},{\"hovertemplate\":\"Operator=London Sovereign<br>Date Of Incident=%{x}<br>Total Number of Victims=%{y}<extra></extra>\",\"legendgroup\":\"\",\"line\":{\"color\":\"#636efa\",\"dash\":\"solid\"},\"marker\":{\"symbol\":\"circle\"},\"mode\":\"lines\",\"name\":\"\",\"orientation\":\"v\",\"showlegend\":false,\"x\":[\"2015-02-01T00:00:00\",\"2015-03-01T00:00:00\",\"2015-04-01T00:00:00\",\"2015-05-01T00:00:00\",\"2015-06-01T00:00:00\",\"2015-07-01T00:00:00\",\"2015-08-01T00:00:00\",\"2015-09-01T00:00:00\",\"2015-10-01T00:00:00\",\"2015-11-01T00:00:00\",\"2015-12-01T00:00:00\",\"2016-01-01T00:00:00\",\"2016-02-01T00:00:00\",\"2016-03-01T00:00:00\",\"2016-04-01T00:00:00\",\"2016-05-01T00:00:00\",\"2016-06-01T00:00:00\",\"2016-07-01T00:00:00\",\"2016-08-01T00:00:00\",\"2016-09-01T00:00:00\",\"2016-10-01T00:00:00\",\"2016-11-01T00:00:00\",\"2016-12-01T00:00:00\",\"2017-01-01T00:00:00\",\"2017-02-01T00:00:00\",\"2017-03-01T00:00:00\",\"2017-04-01T00:00:00\",\"2017-05-01T00:00:00\",\"2017-06-01T00:00:00\",\"2017-07-01T00:00:00\",\"2017-08-01T00:00:00\",\"2017-09-01T00:00:00\",\"2017-10-01T00:00:00\",\"2017-11-01T00:00:00\",\"2017-12-01T00:00:00\",\"2018-01-01T00:00:00\",\"2018-02-01T00:00:00\",\"2018-03-01T00:00:00\",\"2018-04-01T00:00:00\",\"2018-05-01T00:00:00\",\"2018-06-01T00:00:00\",\"2018-07-01T00:00:00\",\"2018-09-01T00:00:00\"],\"xaxis\":\"x14\",\"y\":[1,7,1,6,6,3,2,8,1,5,2,2,6,1,2,3,10,8,6,15,7,5,10,4,4,6,3,6,2,4,9,5,6,4,4,4,2,5,7,4,7,2,1],\"yaxis\":\"y14\",\"type\":\"scatter\"},{\"hovertemplate\":\"Operator=London United<br>Date Of Incident=%{x}<br>Total Number of Victims=%{y}<extra></extra>\",\"legendgroup\":\"\",\"line\":{\"color\":\"#636efa\",\"dash\":\"solid\"},\"marker\":{\"symbol\":\"circle\"},\"mode\":\"lines\",\"name\":\"\",\"orientation\":\"v\",\"showlegend\":false,\"x\":[\"2015-01-01T00:00:00\",\"2015-02-01T00:00:00\",\"2015-03-01T00:00:00\",\"2015-04-01T00:00:00\",\"2015-05-01T00:00:00\",\"2015-06-01T00:00:00\",\"2015-07-01T00:00:00\",\"2015-08-01T00:00:00\",\"2015-09-01T00:00:00\",\"2015-10-01T00:00:00\",\"2015-11-01T00:00:00\",\"2015-12-01T00:00:00\",\"2016-01-01T00:00:00\",\"2016-02-01T00:00:00\",\"2016-03-01T00:00:00\",\"2016-04-01T00:00:00\",\"2016-05-01T00:00:00\",\"2016-06-01T00:00:00\",\"2016-07-01T00:00:00\",\"2016-08-01T00:00:00\",\"2016-09-01T00:00:00\",\"2016-10-01T00:00:00\",\"2016-11-01T00:00:00\",\"2016-12-01T00:00:00\",\"2017-01-01T00:00:00\",\"2017-02-01T00:00:00\",\"2017-03-01T00:00:00\",\"2017-04-01T00:00:00\",\"2017-05-01T00:00:00\",\"2017-06-01T00:00:00\",\"2017-07-01T00:00:00\",\"2017-08-01T00:00:00\",\"2017-09-01T00:00:00\",\"2017-10-01T00:00:00\",\"2017-11-01T00:00:00\",\"2017-12-01T00:00:00\",\"2018-01-01T00:00:00\",\"2018-02-01T00:00:00\",\"2018-03-01T00:00:00\",\"2018-04-01T00:00:00\",\"2018-05-01T00:00:00\",\"2018-06-01T00:00:00\",\"2018-07-01T00:00:00\",\"2018-08-01T00:00:00\",\"2018-09-01T00:00:00\"],\"xaxis\":\"x15\",\"y\":[67,53,66,54,60,61,75,61,46,60,47,55,46,36,57,42,40,49,60,47,56,38,59,47,39,34,46,42,44,34,49,64,38,34,53,41,55,53,45,46,47,55,56,56,50],\"yaxis\":\"y15\",\"type\":\"scatter\"},{\"hovertemplate\":\"Operator=Metrobus<br>Date Of Incident=%{x}<br>Total Number of Victims=%{y}<extra></extra>\",\"legendgroup\":\"\",\"line\":{\"color\":\"#636efa\",\"dash\":\"solid\"},\"marker\":{\"symbol\":\"circle\"},\"mode\":\"lines\",\"name\":\"\",\"orientation\":\"v\",\"showlegend\":false,\"x\":[\"2015-01-01T00:00:00\",\"2015-02-01T00:00:00\",\"2015-03-01T00:00:00\",\"2015-04-01T00:00:00\",\"2015-05-01T00:00:00\",\"2015-06-01T00:00:00\",\"2015-07-01T00:00:00\",\"2015-08-01T00:00:00\",\"2015-09-01T00:00:00\",\"2015-10-01T00:00:00\",\"2015-11-01T00:00:00\",\"2015-12-01T00:00:00\",\"2016-01-01T00:00:00\",\"2016-02-01T00:00:00\",\"2016-03-01T00:00:00\",\"2016-04-01T00:00:00\",\"2016-05-01T00:00:00\",\"2016-06-01T00:00:00\",\"2016-07-01T00:00:00\",\"2016-08-01T00:00:00\",\"2016-09-01T00:00:00\",\"2016-10-01T00:00:00\",\"2016-11-01T00:00:00\",\"2016-12-01T00:00:00\",\"2017-01-01T00:00:00\",\"2017-02-01T00:00:00\",\"2017-03-01T00:00:00\",\"2017-04-01T00:00:00\",\"2017-05-01T00:00:00\",\"2017-06-01T00:00:00\",\"2017-07-01T00:00:00\",\"2017-08-01T00:00:00\",\"2017-09-01T00:00:00\",\"2017-10-01T00:00:00\",\"2017-11-01T00:00:00\",\"2017-12-01T00:00:00\",\"2018-01-01T00:00:00\",\"2018-02-01T00:00:00\",\"2018-03-01T00:00:00\",\"2018-04-01T00:00:00\",\"2018-05-01T00:00:00\",\"2018-06-01T00:00:00\",\"2018-07-01T00:00:00\",\"2018-08-01T00:00:00\",\"2018-09-01T00:00:00\"],\"xaxis\":\"x6\",\"y\":[12,15,24,30,13,19,20,13,31,25,20,24,19,15,17,18,21,28,27,17,28,18,23,15,16,9,22,19,6,16,10,21,18,13,10,15,10,12,22,22,11,14,9,10,9],\"yaxis\":\"y6\",\"type\":\"scatter\"},{\"hovertemplate\":\"Operator=Metroline<br>Date Of Incident=%{x}<br>Total Number of Victims=%{y}<extra></extra>\",\"legendgroup\":\"\",\"line\":{\"color\":\"#636efa\",\"dash\":\"solid\"},\"marker\":{\"symbol\":\"circle\"},\"mode\":\"lines\",\"name\":\"\",\"orientation\":\"v\",\"showlegend\":false,\"x\":[\"2015-01-01T00:00:00\",\"2015-02-01T00:00:00\",\"2015-03-01T00:00:00\",\"2015-04-01T00:00:00\",\"2015-05-01T00:00:00\",\"2015-06-01T00:00:00\",\"2015-07-01T00:00:00\",\"2015-08-01T00:00:00\",\"2015-09-01T00:00:00\",\"2015-10-01T00:00:00\",\"2015-11-01T00:00:00\",\"2015-12-01T00:00:00\",\"2016-01-01T00:00:00\",\"2016-02-01T00:00:00\",\"2016-03-01T00:00:00\",\"2016-04-01T00:00:00\",\"2016-05-01T00:00:00\",\"2016-06-01T00:00:00\",\"2016-07-01T00:00:00\",\"2016-08-01T00:00:00\",\"2016-09-01T00:00:00\",\"2016-10-01T00:00:00\",\"2016-11-01T00:00:00\",\"2016-12-01T00:00:00\",\"2017-01-01T00:00:00\",\"2017-02-01T00:00:00\",\"2017-03-01T00:00:00\",\"2017-04-01T00:00:00\",\"2017-05-01T00:00:00\",\"2017-06-01T00:00:00\",\"2017-07-01T00:00:00\",\"2017-08-01T00:00:00\",\"2017-09-01T00:00:00\",\"2017-10-01T00:00:00\",\"2017-11-01T00:00:00\",\"2017-12-01T00:00:00\",\"2018-01-01T00:00:00\",\"2018-02-01T00:00:00\",\"2018-03-01T00:00:00\",\"2018-04-01T00:00:00\",\"2018-05-01T00:00:00\",\"2018-06-01T00:00:00\",\"2018-07-01T00:00:00\",\"2018-08-01T00:00:00\",\"2018-09-01T00:00:00\"],\"xaxis\":\"x7\",\"y\":[59,74,63,73,62,104,92,83,78,80,72,74,72,69,59,80,62,56,71,76,88,81,95,55,67,62,69,77,85,59,90,87,95,87,75,87,103,88,87,73,90,69,84,73,72],\"yaxis\":\"y7\",\"type\":\"scatter\"},{\"hovertemplate\":\"Operator=Metroline West<br>Date Of Incident=%{x}<br>Total Number of Victims=%{y}<extra></extra>\",\"legendgroup\":\"\",\"line\":{\"color\":\"#636efa\",\"dash\":\"solid\"},\"marker\":{\"symbol\":\"circle\"},\"mode\":\"lines\",\"name\":\"\",\"orientation\":\"v\",\"showlegend\":false,\"x\":[\"2015-01-01T00:00:00\",\"2015-02-01T00:00:00\",\"2015-03-01T00:00:00\",\"2015-04-01T00:00:00\",\"2015-05-01T00:00:00\",\"2015-06-01T00:00:00\",\"2015-07-01T00:00:00\",\"2015-08-01T00:00:00\",\"2015-09-01T00:00:00\",\"2015-10-01T00:00:00\",\"2015-11-01T00:00:00\",\"2015-12-01T00:00:00\",\"2016-01-01T00:00:00\",\"2016-02-01T00:00:00\",\"2016-03-01T00:00:00\",\"2016-04-01T00:00:00\",\"2016-05-01T00:00:00\",\"2016-06-01T00:00:00\",\"2016-07-01T00:00:00\",\"2016-08-01T00:00:00\",\"2016-09-01T00:00:00\",\"2016-10-01T00:00:00\",\"2016-11-01T00:00:00\",\"2016-12-01T00:00:00\",\"2017-01-01T00:00:00\",\"2017-02-01T00:00:00\",\"2017-03-01T00:00:00\",\"2017-04-01T00:00:00\",\"2017-05-01T00:00:00\",\"2017-06-01T00:00:00\",\"2017-07-01T00:00:00\",\"2017-08-01T00:00:00\",\"2017-09-01T00:00:00\",\"2017-10-01T00:00:00\",\"2017-11-01T00:00:00\",\"2017-12-01T00:00:00\",\"2018-01-01T00:00:00\",\"2018-02-01T00:00:00\",\"2018-03-01T00:00:00\",\"2018-04-01T00:00:00\",\"2018-05-01T00:00:00\",\"2018-06-01T00:00:00\",\"2018-07-01T00:00:00\",\"2018-08-01T00:00:00\",\"2018-09-01T00:00:00\"],\"xaxis\":\"x8\",\"y\":[25,18,21,30,29,29,40,18,14,31,26,25,16,35,19,25,34,29,30,35,25,26,24,41,29,31,35,32,31,25,45,31,27,42,23,22,23,21,19,32,28,17,25,21,28],\"yaxis\":\"y8\",\"type\":\"scatter\"},{\"hovertemplate\":\"Operator=Quality Line<br>Date Of Incident=%{x}<br>Total Number of Victims=%{y}<extra></extra>\",\"legendgroup\":\"\",\"line\":{\"color\":\"#636efa\",\"dash\":\"solid\"},\"marker\":{\"symbol\":\"circle\"},\"mode\":\"lines\",\"name\":\"\",\"orientation\":\"v\",\"showlegend\":false,\"x\":[\"2017-07-01T00:00:00\",\"2017-08-01T00:00:00\",\"2017-09-01T00:00:00\",\"2017-10-01T00:00:00\",\"2017-11-01T00:00:00\",\"2017-12-01T00:00:00\",\"2018-01-01T00:00:00\",\"2018-02-01T00:00:00\",\"2018-03-01T00:00:00\",\"2018-04-01T00:00:00\",\"2018-05-01T00:00:00\",\"2018-06-01T00:00:00\",\"2018-07-01T00:00:00\",\"2018-08-01T00:00:00\",\"2018-09-01T00:00:00\"],\"xaxis\":\"x9\",\"y\":[5,1,1,10,16,4,7,16,15,9,15,9,10,17,7],\"yaxis\":\"y9\",\"type\":\"scatter\"},{\"hovertemplate\":\"Operator=Selkent<br>Date Of Incident=%{x}<br>Total Number of Victims=%{y}<extra></extra>\",\"legendgroup\":\"\",\"line\":{\"color\":\"#636efa\",\"dash\":\"solid\"},\"marker\":{\"symbol\":\"circle\"},\"mode\":\"lines\",\"name\":\"\",\"orientation\":\"v\",\"showlegend\":false,\"x\":[\"2015-01-01T00:00:00\",\"2015-02-01T00:00:00\",\"2015-04-01T00:00:00\",\"2015-05-01T00:00:00\",\"2015-07-01T00:00:00\",\"2015-08-01T00:00:00\",\"2015-09-01T00:00:00\",\"2015-10-01T00:00:00\",\"2015-11-01T00:00:00\",\"2015-12-01T00:00:00\",\"2016-01-01T00:00:00\",\"2016-02-01T00:00:00\",\"2016-03-01T00:00:00\",\"2016-04-01T00:00:00\",\"2016-05-01T00:00:00\",\"2016-06-01T00:00:00\",\"2016-07-01T00:00:00\",\"2016-08-01T00:00:00\",\"2016-09-01T00:00:00\",\"2016-10-01T00:00:00\",\"2016-11-01T00:00:00\",\"2016-12-01T00:00:00\",\"2017-01-01T00:00:00\",\"2017-02-01T00:00:00\",\"2017-03-01T00:00:00\",\"2017-04-01T00:00:00\",\"2017-05-01T00:00:00\",\"2017-06-01T00:00:00\",\"2017-07-01T00:00:00\",\"2017-08-01T00:00:00\",\"2017-09-01T00:00:00\",\"2017-10-01T00:00:00\",\"2017-11-01T00:00:00\",\"2017-12-01T00:00:00\",\"2018-01-01T00:00:00\",\"2018-02-01T00:00:00\",\"2018-03-01T00:00:00\",\"2018-04-01T00:00:00\",\"2018-05-01T00:00:00\",\"2018-06-01T00:00:00\",\"2018-07-01T00:00:00\",\"2018-08-01T00:00:00\",\"2018-09-01T00:00:00\"],\"xaxis\":\"x10\",\"y\":[27,11,3,2,36,25,25,32,41,44,34,38,40,38,54,31,66,47,46,51,46,22,43,49,44,26,29,46,53,48,52,55,70,58,54,40,47,48,60,59,54,60,54],\"yaxis\":\"y10\",\"type\":\"scatter\"},{\"hovertemplate\":\"Operator=Sullivan Bus & Coach<br>Date Of Incident=%{x}<br>Total Number of Victims=%{y}<extra></extra>\",\"legendgroup\":\"\",\"line\":{\"color\":\"#636efa\",\"dash\":\"solid\"},\"marker\":{\"symbol\":\"circle\"},\"mode\":\"lines\",\"name\":\"\",\"orientation\":\"v\",\"showlegend\":false,\"x\":[\"2018-01-01T00:00:00\"],\"xaxis\":\"x\",\"y\":[1],\"yaxis\":\"y\",\"type\":\"scatter\"},{\"hovertemplate\":\"Operator=Sullivan Buses<br>Date Of Incident=%{x}<br>Total Number of Victims=%{y}<extra></extra>\",\"legendgroup\":\"\",\"line\":{\"color\":\"#636efa\",\"dash\":\"solid\"},\"marker\":{\"symbol\":\"circle\"},\"mode\":\"lines\",\"name\":\"\",\"orientation\":\"v\",\"showlegend\":false,\"x\":[\"2016-04-01T00:00:00\",\"2016-07-01T00:00:00\"],\"xaxis\":\"x2\",\"y\":[1,1],\"yaxis\":\"y2\",\"type\":\"scatter\"},{\"hovertemplate\":\"Operator=TGM GROUP<br>Date Of Incident=%{x}<br>Total Number of Victims=%{y}<extra></extra>\",\"legendgroup\":\"\",\"line\":{\"color\":\"#636efa\",\"dash\":\"solid\"},\"marker\":{\"symbol\":\"circle\"},\"mode\":\"lines\",\"name\":\"\",\"orientation\":\"v\",\"showlegend\":false,\"x\":[\"2016-05-01T00:00:00\",\"2016-06-01T00:00:00\",\"2016-07-01T00:00:00\",\"2016-08-01T00:00:00\",\"2016-09-01T00:00:00\",\"2016-10-01T00:00:00\",\"2016-11-01T00:00:00\",\"2016-12-01T00:00:00\",\"2017-01-01T00:00:00\",\"2017-02-01T00:00:00\"],\"xaxis\":\"x3\",\"y\":[3,6,7,2,16,7,8,6,4,2],\"yaxis\":\"y3\",\"type\":\"scatter\"},{\"hovertemplate\":\"Operator=Tower Transit<br>Date Of Incident=%{x}<br>Total Number of Victims=%{y}<extra></extra>\",\"legendgroup\":\"\",\"line\":{\"color\":\"#636efa\",\"dash\":\"solid\"},\"marker\":{\"symbol\":\"circle\"},\"mode\":\"lines\",\"name\":\"\",\"orientation\":\"v\",\"showlegend\":false,\"x\":[\"2015-01-01T00:00:00\",\"2015-02-01T00:00:00\",\"2015-03-01T00:00:00\",\"2015-04-01T00:00:00\",\"2015-05-01T00:00:00\",\"2015-06-01T00:00:00\",\"2015-07-01T00:00:00\",\"2015-08-01T00:00:00\",\"2015-09-01T00:00:00\",\"2015-10-01T00:00:00\",\"2015-11-01T00:00:00\",\"2015-12-01T00:00:00\",\"2016-01-01T00:00:00\",\"2016-02-01T00:00:00\",\"2016-03-01T00:00:00\",\"2016-04-01T00:00:00\",\"2016-05-01T00:00:00\",\"2016-06-01T00:00:00\",\"2016-07-01T00:00:00\",\"2016-08-01T00:00:00\",\"2016-09-01T00:00:00\",\"2016-10-01T00:00:00\",\"2016-11-01T00:00:00\",\"2016-12-01T00:00:00\",\"2017-01-01T00:00:00\",\"2017-02-01T00:00:00\",\"2017-03-01T00:00:00\",\"2017-04-01T00:00:00\",\"2017-05-01T00:00:00\",\"2017-06-01T00:00:00\",\"2017-07-01T00:00:00\",\"2017-08-01T00:00:00\",\"2017-09-01T00:00:00\",\"2017-10-01T00:00:00\",\"2017-11-01T00:00:00\",\"2017-12-01T00:00:00\",\"2018-01-01T00:00:00\",\"2018-02-01T00:00:00\",\"2018-03-01T00:00:00\",\"2018-04-01T00:00:00\",\"2018-05-01T00:00:00\",\"2018-06-01T00:00:00\",\"2018-07-01T00:00:00\",\"2018-08-01T00:00:00\",\"2018-09-01T00:00:00\"],\"xaxis\":\"x4\",\"y\":[7,8,5,6,14,4,12,8,6,10,16,12,18,15,8,25,17,15,13,12,16,14,30,20,22,17,32,32,29,22,34,24,35,19,16,21,13,21,15,10,10,19,11,11,14],\"yaxis\":\"y4\",\"type\":\"scatter\"},{\"hovertemplate\":\"Operator=Uno Buses<br>Date Of Incident=%{x}<br>Total Number of Victims=%{y}<extra></extra>\",\"legendgroup\":\"\",\"line\":{\"color\":\"#636efa\",\"dash\":\"solid\"},\"marker\":{\"symbol\":\"circle\"},\"mode\":\"lines\",\"name\":\"\",\"orientation\":\"v\",\"showlegend\":false,\"x\":[\"2017-05-01T00:00:00\"],\"xaxis\":\"x5\",\"y\":[1],\"yaxis\":\"y5\",\"type\":\"scatter\"}],                        {\"template\":{\"data\":{\"histogram2dcontour\":[{\"type\":\"histogram2dcontour\",\"colorbar\":{\"outlinewidth\":0,\"ticks\":\"\"},\"colorscale\":[[0.0,\"#0d0887\"],[0.1111111111111111,\"#46039f\"],[0.2222222222222222,\"#7201a8\"],[0.3333333333333333,\"#9c179e\"],[0.4444444444444444,\"#bd3786\"],[0.5555555555555556,\"#d8576b\"],[0.6666666666666666,\"#ed7953\"],[0.7777777777777778,\"#fb9f3a\"],[0.8888888888888888,\"#fdca26\"],[1.0,\"#f0f921\"]]}],\"choropleth\":[{\"type\":\"choropleth\",\"colorbar\":{\"outlinewidth\":0,\"ticks\":\"\"}}],\"histogram2d\":[{\"type\":\"histogram2d\",\"colorbar\":{\"outlinewidth\":0,\"ticks\":\"\"},\"colorscale\":[[0.0,\"#0d0887\"],[0.1111111111111111,\"#46039f\"],[0.2222222222222222,\"#7201a8\"],[0.3333333333333333,\"#9c179e\"],[0.4444444444444444,\"#bd3786\"],[0.5555555555555556,\"#d8576b\"],[0.6666666666666666,\"#ed7953\"],[0.7777777777777778,\"#fb9f3a\"],[0.8888888888888888,\"#fdca26\"],[1.0,\"#f0f921\"]]}],\"heatmap\":[{\"type\":\"heatmap\",\"colorbar\":{\"outlinewidth\":0,\"ticks\":\"\"},\"colorscale\":[[0.0,\"#0d0887\"],[0.1111111111111111,\"#46039f\"],[0.2222222222222222,\"#7201a8\"],[0.3333333333333333,\"#9c179e\"],[0.4444444444444444,\"#bd3786\"],[0.5555555555555556,\"#d8576b\"],[0.6666666666666666,\"#ed7953\"],[0.7777777777777778,\"#fb9f3a\"],[0.8888888888888888,\"#fdca26\"],[1.0,\"#f0f921\"]]}],\"heatmapgl\":[{\"type\":\"heatmapgl\",\"colorbar\":{\"outlinewidth\":0,\"ticks\":\"\"},\"colorscale\":[[0.0,\"#0d0887\"],[0.1111111111111111,\"#46039f\"],[0.2222222222222222,\"#7201a8\"],[0.3333333333333333,\"#9c179e\"],[0.4444444444444444,\"#bd3786\"],[0.5555555555555556,\"#d8576b\"],[0.6666666666666666,\"#ed7953\"],[0.7777777777777778,\"#fb9f3a\"],[0.8888888888888888,\"#fdca26\"],[1.0,\"#f0f921\"]]}],\"contourcarpet\":[{\"type\":\"contourcarpet\",\"colorbar\":{\"outlinewidth\":0,\"ticks\":\"\"}}],\"contour\":[{\"type\":\"contour\",\"colorbar\":{\"outlinewidth\":0,\"ticks\":\"\"},\"colorscale\":[[0.0,\"#0d0887\"],[0.1111111111111111,\"#46039f\"],[0.2222222222222222,\"#7201a8\"],[0.3333333333333333,\"#9c179e\"],[0.4444444444444444,\"#bd3786\"],[0.5555555555555556,\"#d8576b\"],[0.6666666666666666,\"#ed7953\"],[0.7777777777777778,\"#fb9f3a\"],[0.8888888888888888,\"#fdca26\"],[1.0,\"#f0f921\"]]}],\"surface\":[{\"type\":\"surface\",\"colorbar\":{\"outlinewidth\":0,\"ticks\":\"\"},\"colorscale\":[[0.0,\"#0d0887\"],[0.1111111111111111,\"#46039f\"],[0.2222222222222222,\"#7201a8\"],[0.3333333333333333,\"#9c179e\"],[0.4444444444444444,\"#bd3786\"],[0.5555555555555556,\"#d8576b\"],[0.6666666666666666,\"#ed7953\"],[0.7777777777777778,\"#fb9f3a\"],[0.8888888888888888,\"#fdca26\"],[1.0,\"#f0f921\"]]}],\"mesh3d\":[{\"type\":\"mesh3d\",\"colorbar\":{\"outlinewidth\":0,\"ticks\":\"\"}}],\"scatter\":[{\"fillpattern\":{\"fillmode\":\"overlay\",\"size\":10,\"solidity\":0.2},\"type\":\"scatter\"}],\"parcoords\":[{\"type\":\"parcoords\",\"line\":{\"colorbar\":{\"outlinewidth\":0,\"ticks\":\"\"}}}],\"scatterpolargl\":[{\"type\":\"scatterpolargl\",\"marker\":{\"colorbar\":{\"outlinewidth\":0,\"ticks\":\"\"}}}],\"bar\":[{\"error_x\":{\"color\":\"#2a3f5f\"},\"error_y\":{\"color\":\"#2a3f5f\"},\"marker\":{\"line\":{\"color\":\"#E5ECF6\",\"width\":0.5},\"pattern\":{\"fillmode\":\"overlay\",\"size\":10,\"solidity\":0.2}},\"type\":\"bar\"}],\"scattergeo\":[{\"type\":\"scattergeo\",\"marker\":{\"colorbar\":{\"outlinewidth\":0,\"ticks\":\"\"}}}],\"scatterpolar\":[{\"type\":\"scatterpolar\",\"marker\":{\"colorbar\":{\"outlinewidth\":0,\"ticks\":\"\"}}}],\"histogram\":[{\"marker\":{\"pattern\":{\"fillmode\":\"overlay\",\"size\":10,\"solidity\":0.2}},\"type\":\"histogram\"}],\"scattergl\":[{\"type\":\"scattergl\",\"marker\":{\"colorbar\":{\"outlinewidth\":0,\"ticks\":\"\"}}}],\"scatter3d\":[{\"type\":\"scatter3d\",\"line\":{\"colorbar\":{\"outlinewidth\":0,\"ticks\":\"\"}},\"marker\":{\"colorbar\":{\"outlinewidth\":0,\"ticks\":\"\"}}}],\"scattermapbox\":[{\"type\":\"scattermapbox\",\"marker\":{\"colorbar\":{\"outlinewidth\":0,\"ticks\":\"\"}}}],\"scatterternary\":[{\"type\":\"scatterternary\",\"marker\":{\"colorbar\":{\"outlinewidth\":0,\"ticks\":\"\"}}}],\"scattercarpet\":[{\"type\":\"scattercarpet\",\"marker\":{\"colorbar\":{\"outlinewidth\":0,\"ticks\":\"\"}}}],\"carpet\":[{\"aaxis\":{\"endlinecolor\":\"#2a3f5f\",\"gridcolor\":\"white\",\"linecolor\":\"white\",\"minorgridcolor\":\"white\",\"startlinecolor\":\"#2a3f5f\"},\"baxis\":{\"endlinecolor\":\"#2a3f5f\",\"gridcolor\":\"white\",\"linecolor\":\"white\",\"minorgridcolor\":\"white\",\"startlinecolor\":\"#2a3f5f\"},\"type\":\"carpet\"}],\"table\":[{\"cells\":{\"fill\":{\"color\":\"#EBF0F8\"},\"line\":{\"color\":\"white\"}},\"header\":{\"fill\":{\"color\":\"#C8D4E3\"},\"line\":{\"color\":\"white\"}},\"type\":\"table\"}],\"barpolar\":[{\"marker\":{\"line\":{\"color\":\"#E5ECF6\",\"width\":0.5},\"pattern\":{\"fillmode\":\"overlay\",\"size\":10,\"solidity\":0.2}},\"type\":\"barpolar\"}],\"pie\":[{\"automargin\":true,\"type\":\"pie\"}]},\"layout\":{\"autotypenumbers\":\"strict\",\"colorway\":[\"#636efa\",\"#EF553B\",\"#00cc96\",\"#ab63fa\",\"#FFA15A\",\"#19d3f3\",\"#FF6692\",\"#B6E880\",\"#FF97FF\",\"#FECB52\"],\"font\":{\"color\":\"#2a3f5f\"},\"hovermode\":\"closest\",\"hoverlabel\":{\"align\":\"left\"},\"paper_bgcolor\":\"white\",\"plot_bgcolor\":\"#E5ECF6\",\"polar\":{\"bgcolor\":\"#E5ECF6\",\"angularaxis\":{\"gridcolor\":\"white\",\"linecolor\":\"white\",\"ticks\":\"\"},\"radialaxis\":{\"gridcolor\":\"white\",\"linecolor\":\"white\",\"ticks\":\"\"}},\"ternary\":{\"bgcolor\":\"#E5ECF6\",\"aaxis\":{\"gridcolor\":\"white\",\"linecolor\":\"white\",\"ticks\":\"\"},\"baxis\":{\"gridcolor\":\"white\",\"linecolor\":\"white\",\"ticks\":\"\"},\"caxis\":{\"gridcolor\":\"white\",\"linecolor\":\"white\",\"ticks\":\"\"}},\"coloraxis\":{\"colorbar\":{\"outlinewidth\":0,\"ticks\":\"\"}},\"colorscale\":{\"sequential\":[[0.0,\"#0d0887\"],[0.1111111111111111,\"#46039f\"],[0.2222222222222222,\"#7201a8\"],[0.3333333333333333,\"#9c179e\"],[0.4444444444444444,\"#bd3786\"],[0.5555555555555556,\"#d8576b\"],[0.6666666666666666,\"#ed7953\"],[0.7777777777777778,\"#fb9f3a\"],[0.8888888888888888,\"#fdca26\"],[1.0,\"#f0f921\"]],\"sequentialminus\":[[0.0,\"#0d0887\"],[0.1111111111111111,\"#46039f\"],[0.2222222222222222,\"#7201a8\"],[0.3333333333333333,\"#9c179e\"],[0.4444444444444444,\"#bd3786\"],[0.5555555555555556,\"#d8576b\"],[0.6666666666666666,\"#ed7953\"],[0.7777777777777778,\"#fb9f3a\"],[0.8888888888888888,\"#fdca26\"],[1.0,\"#f0f921\"]],\"diverging\":[[0,\"#8e0152\"],[0.1,\"#c51b7d\"],[0.2,\"#de77ae\"],[0.3,\"#f1b6da\"],[0.4,\"#fde0ef\"],[0.5,\"#f7f7f7\"],[0.6,\"#e6f5d0\"],[0.7,\"#b8e186\"],[0.8,\"#7fbc41\"],[0.9,\"#4d9221\"],[1,\"#276419\"]]},\"xaxis\":{\"gridcolor\":\"white\",\"linecolor\":\"white\",\"ticks\":\"\",\"title\":{\"standoff\":15},\"zerolinecolor\":\"white\",\"automargin\":true,\"zerolinewidth\":2},\"yaxis\":{\"gridcolor\":\"white\",\"linecolor\":\"white\",\"ticks\":\"\",\"title\":{\"standoff\":15},\"zerolinecolor\":\"white\",\"automargin\":true,\"zerolinewidth\":2},\"scene\":{\"xaxis\":{\"backgroundcolor\":\"#E5ECF6\",\"gridcolor\":\"white\",\"linecolor\":\"white\",\"showbackground\":true,\"ticks\":\"\",\"zerolinecolor\":\"white\",\"gridwidth\":2},\"yaxis\":{\"backgroundcolor\":\"#E5ECF6\",\"gridcolor\":\"white\",\"linecolor\":\"white\",\"showbackground\":true,\"ticks\":\"\",\"zerolinecolor\":\"white\",\"gridwidth\":2},\"zaxis\":{\"backgroundcolor\":\"#E5ECF6\",\"gridcolor\":\"white\",\"linecolor\":\"white\",\"showbackground\":true,\"ticks\":\"\",\"zerolinecolor\":\"white\",\"gridwidth\":2}},\"shapedefaults\":{\"line\":{\"color\":\"#2a3f5f\"}},\"annotationdefaults\":{\"arrowcolor\":\"#2a3f5f\",\"arrowhead\":0,\"arrowwidth\":1},\"geo\":{\"bgcolor\":\"white\",\"landcolor\":\"#E5ECF6\",\"subunitcolor\":\"white\",\"showland\":true,\"showlakes\":true,\"lakecolor\":\"white\"},\"title\":{\"x\":0.05},\"mapbox\":{\"style\":\"light\"}}},\"xaxis\":{\"anchor\":\"y\",\"domain\":[0.0,0.18400000000000002],\"title\":{}},\"yaxis\":{\"anchor\":\"x\",\"domain\":[0.0,0.144],\"title\":{}},\"xaxis2\":{\"anchor\":\"y2\",\"domain\":[0.20400000000000001,0.388],\"matches\":\"x\",\"title\":{}},\"yaxis2\":{\"anchor\":\"x2\",\"domain\":[0.0,0.144],\"matches\":\"y\",\"showticklabels\":false},\"xaxis3\":{\"anchor\":\"y3\",\"domain\":[0.40800000000000003,0.5920000000000001],\"matches\":\"x\",\"title\":{}},\"yaxis3\":{\"anchor\":\"x3\",\"domain\":[0.0,0.144],\"matches\":\"y\",\"showticklabels\":false},\"xaxis4\":{\"anchor\":\"y4\",\"domain\":[0.6120000000000001,0.7960000000000002],\"matches\":\"x\",\"title\":{}},\"yaxis4\":{\"anchor\":\"x4\",\"domain\":[0.0,0.144],\"matches\":\"y\",\"showticklabels\":false},\"xaxis5\":{\"anchor\":\"y5\",\"domain\":[0.8160000000000001,1.0],\"matches\":\"x\",\"title\":{}},\"yaxis5\":{\"anchor\":\"x5\",\"domain\":[0.0,0.144],\"matches\":\"y\",\"showticklabels\":false},\"xaxis6\":{\"anchor\":\"y6\",\"domain\":[0.0,0.18400000000000002],\"matches\":\"x\",\"showticklabels\":false},\"yaxis6\":{\"anchor\":\"x6\",\"domain\":[0.214,0.358],\"matches\":\"y\",\"title\":{}},\"xaxis7\":{\"anchor\":\"y7\",\"domain\":[0.20400000000000001,0.388],\"matches\":\"x\",\"showticklabels\":false},\"yaxis7\":{\"anchor\":\"x7\",\"domain\":[0.214,0.358],\"matches\":\"y\",\"showticklabels\":false},\"xaxis8\":{\"anchor\":\"y8\",\"domain\":[0.40800000000000003,0.5920000000000001],\"matches\":\"x\",\"showticklabels\":false},\"yaxis8\":{\"anchor\":\"x8\",\"domain\":[0.214,0.358],\"matches\":\"y\",\"showticklabels\":false},\"xaxis9\":{\"anchor\":\"y9\",\"domain\":[0.6120000000000001,0.7960000000000002],\"matches\":\"x\",\"showticklabels\":false},\"yaxis9\":{\"anchor\":\"x9\",\"domain\":[0.214,0.358],\"matches\":\"y\",\"showticklabels\":false},\"xaxis10\":{\"anchor\":\"y10\",\"domain\":[0.8160000000000001,1.0],\"matches\":\"x\",\"showticklabels\":false},\"yaxis10\":{\"anchor\":\"x10\",\"domain\":[0.214,0.358],\"matches\":\"y\",\"showticklabels\":false},\"xaxis11\":{\"anchor\":\"y11\",\"domain\":[0.0,0.18400000000000002],\"matches\":\"x\",\"showticklabels\":false},\"yaxis11\":{\"anchor\":\"x11\",\"domain\":[0.428,0.572],\"matches\":\"y\",\"title\":{}},\"xaxis12\":{\"anchor\":\"y12\",\"domain\":[0.20400000000000001,0.388],\"matches\":\"x\",\"showticklabels\":false},\"yaxis12\":{\"anchor\":\"x12\",\"domain\":[0.428,0.572],\"matches\":\"y\",\"showticklabels\":false},\"xaxis13\":{\"anchor\":\"y13\",\"domain\":[0.40800000000000003,0.5920000000000001],\"matches\":\"x\",\"showticklabels\":false},\"yaxis13\":{\"anchor\":\"x13\",\"domain\":[0.428,0.572],\"matches\":\"y\",\"showticklabels\":false},\"xaxis14\":{\"anchor\":\"y14\",\"domain\":[0.6120000000000001,0.7960000000000002],\"matches\":\"x\",\"showticklabels\":false},\"yaxis14\":{\"anchor\":\"x14\",\"domain\":[0.428,0.572],\"matches\":\"y\",\"showticklabels\":false},\"xaxis15\":{\"anchor\":\"y15\",\"domain\":[0.8160000000000001,1.0],\"matches\":\"x\",\"showticklabels\":false},\"yaxis15\":{\"anchor\":\"x15\",\"domain\":[0.428,0.572],\"matches\":\"y\",\"showticklabels\":false},\"xaxis16\":{\"anchor\":\"y16\",\"domain\":[0.0,0.18400000000000002],\"matches\":\"x\",\"showticklabels\":false},\"yaxis16\":{\"anchor\":\"x16\",\"domain\":[0.6419999999999999,0.7859999999999999],\"matches\":\"y\",\"title\":{}},\"xaxis17\":{\"anchor\":\"y17\",\"domain\":[0.20400000000000001,0.388],\"matches\":\"x\",\"showticklabels\":false},\"yaxis17\":{\"anchor\":\"x17\",\"domain\":[0.6419999999999999,0.7859999999999999],\"matches\":\"y\",\"showticklabels\":false},\"xaxis18\":{\"anchor\":\"y18\",\"domain\":[0.40800000000000003,0.5920000000000001],\"matches\":\"x\",\"showticklabels\":false},\"yaxis18\":{\"anchor\":\"x18\",\"domain\":[0.6419999999999999,0.7859999999999999],\"matches\":\"y\",\"showticklabels\":false},\"xaxis19\":{\"anchor\":\"y19\",\"domain\":[0.6120000000000001,0.7960000000000002],\"matches\":\"x\",\"showticklabels\":false},\"yaxis19\":{\"anchor\":\"x19\",\"domain\":[0.6419999999999999,0.7859999999999999],\"matches\":\"y\",\"showticklabels\":false},\"xaxis20\":{\"anchor\":\"y20\",\"domain\":[0.8160000000000001,1.0],\"matches\":\"x\",\"showticklabels\":false},\"yaxis20\":{\"anchor\":\"x20\",\"domain\":[0.6419999999999999,0.7859999999999999],\"matches\":\"y\",\"showticklabels\":false},\"xaxis21\":{\"anchor\":\"y21\",\"domain\":[0.0,0.18400000000000002],\"matches\":\"x\",\"showticklabels\":false},\"yaxis21\":{\"anchor\":\"x21\",\"domain\":[0.856,1.0],\"matches\":\"y\",\"title\":{}},\"xaxis22\":{\"anchor\":\"y22\",\"domain\":[0.20400000000000001,0.388],\"matches\":\"x\",\"showticklabels\":false},\"yaxis22\":{\"anchor\":\"x22\",\"domain\":[0.856,1.0],\"matches\":\"y\",\"showticklabels\":false},\"xaxis23\":{\"anchor\":\"y23\",\"domain\":[0.40800000000000003,0.5920000000000001],\"matches\":\"x\",\"showticklabels\":false},\"yaxis23\":{\"anchor\":\"x23\",\"domain\":[0.856,1.0],\"matches\":\"y\",\"showticklabels\":false},\"xaxis24\":{\"anchor\":\"y24\",\"domain\":[0.6120000000000001,0.7960000000000002],\"matches\":\"x\",\"showticklabels\":false},\"yaxis24\":{\"anchor\":\"x24\",\"domain\":[0.856,1.0],\"matches\":\"y\",\"showticklabels\":false},\"xaxis25\":{\"anchor\":\"y25\",\"domain\":[0.8160000000000001,1.0],\"matches\":\"x\",\"showticklabels\":false},\"yaxis25\":{\"anchor\":\"x25\",\"domain\":[0.856,1.0],\"matches\":\"y\",\"showticklabels\":false},\"annotations\":[{\"font\":{},\"showarrow\":false,\"text\":\"Sullivan Bus & Coach\",\"x\":0.09200000000000001,\"xanchor\":\"center\",\"xref\":\"paper\",\"y\":0.144,\"yanchor\":\"bottom\",\"yref\":\"paper\"},{\"font\":{},\"showarrow\":false,\"text\":\"Sullivan Buses\",\"x\":0.29600000000000004,\"xanchor\":\"center\",\"xref\":\"paper\",\"y\":0.144,\"yanchor\":\"bottom\",\"yref\":\"paper\"},{\"font\":{},\"showarrow\":false,\"text\":\"TGM GROUP\",\"x\":0.5,\"xanchor\":\"center\",\"xref\":\"paper\",\"y\":0.144,\"yanchor\":\"bottom\",\"yref\":\"paper\"},{\"font\":{},\"showarrow\":false,\"text\":\"Tower Transit\",\"x\":0.7040000000000002,\"xanchor\":\"center\",\"xref\":\"paper\",\"y\":0.144,\"yanchor\":\"bottom\",\"yref\":\"paper\"},{\"font\":{},\"showarrow\":false,\"text\":\"Uno Buses\",\"x\":0.908,\"xanchor\":\"center\",\"xref\":\"paper\",\"y\":0.144,\"yanchor\":\"bottom\",\"yref\":\"paper\"},{\"font\":{},\"showarrow\":false,\"text\":\"Metrobus\",\"x\":0.09200000000000001,\"xanchor\":\"center\",\"xref\":\"paper\",\"y\":0.358,\"yanchor\":\"bottom\",\"yref\":\"paper\"},{\"font\":{},\"showarrow\":false,\"text\":\"Metroline\",\"x\":0.29600000000000004,\"xanchor\":\"center\",\"xref\":\"paper\",\"y\":0.358,\"yanchor\":\"bottom\",\"yref\":\"paper\"},{\"font\":{},\"showarrow\":false,\"text\":\"Metroline West\",\"x\":0.5,\"xanchor\":\"center\",\"xref\":\"paper\",\"y\":0.358,\"yanchor\":\"bottom\",\"yref\":\"paper\"},{\"font\":{},\"showarrow\":false,\"text\":\"Quality Line\",\"x\":0.7040000000000002,\"xanchor\":\"center\",\"xref\":\"paper\",\"y\":0.358,\"yanchor\":\"bottom\",\"yref\":\"paper\"},{\"font\":{},\"showarrow\":false,\"text\":\"Selkent\",\"x\":0.908,\"xanchor\":\"center\",\"xref\":\"paper\",\"y\":0.358,\"yanchor\":\"bottom\",\"yref\":\"paper\"},{\"font\":{},\"showarrow\":false,\"text\":\"H R Richmond\",\"x\":0.09200000000000001,\"xanchor\":\"center\",\"xref\":\"paper\",\"y\":0.572,\"yanchor\":\"bottom\",\"yref\":\"paper\"},{\"font\":{},\"showarrow\":false,\"text\":\"London Central\",\"x\":0.29600000000000004,\"xanchor\":\"center\",\"xref\":\"paper\",\"y\":0.572,\"yanchor\":\"bottom\",\"yref\":\"paper\"},{\"font\":{},\"showarrow\":false,\"text\":\"London General\",\"x\":0.5,\"xanchor\":\"center\",\"xref\":\"paper\",\"y\":0.572,\"yanchor\":\"bottom\",\"yref\":\"paper\"},{\"font\":{},\"showarrow\":false,\"text\":\"London Sovereign\",\"x\":0.7040000000000002,\"xanchor\":\"center\",\"xref\":\"paper\",\"y\":0.572,\"yanchor\":\"bottom\",\"yref\":\"paper\"},{\"font\":{},\"showarrow\":false,\"text\":\"London United\",\"x\":0.908,\"xanchor\":\"center\",\"xref\":\"paper\",\"y\":0.572,\"yanchor\":\"bottom\",\"yref\":\"paper\"},{\"font\":{},\"showarrow\":false,\"text\":\"Arriva The Shires\",\"x\":0.09200000000000001,\"xanchor\":\"center\",\"xref\":\"paper\",\"y\":0.7859999999999999,\"yanchor\":\"bottom\",\"yref\":\"paper\"},{\"font\":{},\"showarrow\":false,\"text\":\"Blue Triangle Buses\",\"x\":0.29600000000000004,\"xanchor\":\"center\",\"xref\":\"paper\",\"y\":0.7859999999999999,\"yanchor\":\"bottom\",\"yref\":\"paper\"},{\"font\":{},\"showarrow\":false,\"text\":\"C T Plus\",\"x\":0.5,\"xanchor\":\"center\",\"xref\":\"paper\",\"y\":0.7859999999999999,\"yanchor\":\"bottom\",\"yref\":\"paper\"},{\"font\":{},\"showarrow\":false,\"text\":\"Docklands Buses\",\"x\":0.7040000000000002,\"xanchor\":\"center\",\"xref\":\"paper\",\"y\":0.7859999999999999,\"yanchor\":\"bottom\",\"yref\":\"paper\"},{\"font\":{},\"showarrow\":false,\"text\":\"East London\",\"x\":0.908,\"xanchor\":\"center\",\"xref\":\"paper\",\"y\":0.7859999999999999,\"yanchor\":\"bottom\",\"yref\":\"paper\"},{\"font\":{},\"showarrow\":false,\"text\":\"Abellio London\",\"x\":0.09200000000000001,\"xanchor\":\"center\",\"xref\":\"paper\",\"y\":1.0,\"yanchor\":\"bottom\",\"yref\":\"paper\"},{\"font\":{},\"showarrow\":false,\"text\":\"Abellio West\",\"x\":0.29600000000000004,\"xanchor\":\"center\",\"xref\":\"paper\",\"y\":1.0,\"yanchor\":\"bottom\",\"yref\":\"paper\"},{\"font\":{},\"showarrow\":false,\"text\":\"Arriva Kent Thameside\",\"x\":0.5,\"xanchor\":\"center\",\"xref\":\"paper\",\"y\":1.0,\"yanchor\":\"bottom\",\"yref\":\"paper\"},{\"font\":{},\"showarrow\":false,\"text\":\"Arriva London North\",\"x\":0.7040000000000002,\"xanchor\":\"center\",\"xref\":\"paper\",\"y\":1.0,\"yanchor\":\"bottom\",\"yref\":\"paper\"},{\"font\":{},\"showarrow\":false,\"text\":\"Arriva London South\",\"x\":0.908,\"xanchor\":\"center\",\"xref\":\"paper\",\"y\":1.0,\"yanchor\":\"bottom\",\"yref\":\"paper\"}],\"legend\":{\"tracegroupgap\":0},\"margin\":{\"t\":60},\"title\":{\"text\":\"Evolution of Accidents by Operator Over Time\",\"x\":0.5},\"width\":1000,\"height\":800,\"bargap\":0.2},                        {\"responsive\": true}                    ).then(function(){\n",
       "                            \n",
       "var gd = document.getElementById('c7a7bd10-2de5-4c9c-afca-56f9baeb9118');\n",
       "var x = new MutationObserver(function (mutations, observer) {{\n",
       "        var display = window.getComputedStyle(gd).display;\n",
       "        if (!display || display === 'none') {{\n",
       "            console.log([gd, 'removed!']);\n",
       "            Plotly.purge(gd);\n",
       "            observer.disconnect();\n",
       "        }}\n",
       "}});\n",
       "\n",
       "// Listen for the removal of the full notebook cells\n",
       "var notebookContainer = gd.closest('#notebook-container');\n",
       "if (notebookContainer) {{\n",
       "    x.observe(notebookContainer, {childList: true});\n",
       "}}\n",
       "\n",
       "// Listen for the clearing of the current output cell\n",
       "var outputEl = gd.closest('.output');\n",
       "if (outputEl) {{\n",
       "    x.observe(outputEl, {childList: true});\n",
       "}}\n",
       "\n",
       "                        })                };                });            </script>        </div>"
      ]
     },
     "metadata": {},
     "output_type": "display_data"
    }
   ],
   "source": [
    "# Plot\n",
    "ax = px.line(p9, x = 'Date Of Incident', y = 'Total Number of Victims', facet_col = 'Operator', facet_col_wrap = 5)\n",
    "\n",
    "# Adicione um título geral\n",
    "ax.update_layout(title = 'Evolution of Accidents by Operator Over Time', title_x = 0.5)\n",
    "\n",
    "# Ajustando tamanho da figura\n",
    "ax.update_layout(width = 1000, height = 800, bargap = 0.2)\n",
    "\n",
    "# Removendo as legendas dos eixos X e Y\n",
    "ax.update_xaxes(title_text=None)\n",
    "ax.update_yaxes(title_text=None)\n",
    "\n",
    "# Ajustando os títulos de cada gráfico\n",
    "ax.for_each_annotation(lambda a: a.update(text=a.text.split(\"=\")[-1]))\n",
    "\n",
    "ax.show()"
   ]
  },
  {
   "cell_type": "markdown",
   "id": "4903f5bb",
   "metadata": {},
   "source": [
    "**Qual o tipo de incidente mais comum com ciclistas?**"
   ]
  },
  {
   "cell_type": "code",
   "execution_count": 50,
   "id": "58d8b0a5",
   "metadata": {},
   "outputs": [
    {
     "data": {
      "image/png": "[encoded data removed]",
      "text/plain": [
       "<Figure size 640x480 with 1 Axes>"
      ]
     },
     "metadata": {},
     "output_type": "display_data"
    }
   ],
   "source": [
    "# Filtrando dados\n",
    "p10 = df[df['Victim Category'] == 'Cyclist']\n",
    "\n",
    "ax = sns.countplot(x = p10['Incident Event Type'].sort_values())\n",
    "plt.title('Most Frequent Types of Accidents Among Cyclists', fontsize = 16, y = 1.11, loc = 'left', fontweight = 'bold', alpha = 0.95)\n",
    "\n",
    "# Removendo a legenda dos eixos x e y\n",
    "ax.set(xlabel = None, ylabel = None)\n",
    "\n",
    "# Ajustando o eixo y\n",
    "ax.set_ylim(0, 300)\n",
    "\n",
    "# Adicione números nas barras\n",
    "for p in plt.gca().patches:\n",
    "    plt.gca().annotate(f'{int(p.get_height())}', (p.get_x() + p.get_width() / 2., p.get_height()), \n",
    "                        ha = 'center', va = 'center', fontsize = 9, color = 'black', xytext=(0, 5),\n",
    "                        alpha = 0.75, textcoords = 'offset points')\n",
    "    \n",
    "ax.text(x = -0.5, \n",
    "        y = 311,\n",
    "        s = 'The vast majority of accidents are caused by collisions, around 92% of recorded \\naccidents.',\n",
    "        fontsize = 9.5, \n",
    "        alpha = .90);\n",
    "\n",
    "plt.show()"
   ]
  },
  {
   "cell_type": "code",
   "execution_count": 48,
   "id": "82b1c83e",
   "metadata": {},
   "outputs": [
    {
     "data": {
      "text/plain": [
       "Incident Event Type\n",
       "Collision Incident    0.93\n",
       "Personal Injury       0.03\n",
       "Slip Trip Fall        0.03\n",
       "Onboard Injuries      0.01\n",
       "Name: proportion, dtype: float64"
      ]
     },
     "execution_count": 48,
     "metadata": {},
     "output_type": "execute_result"
    }
   ],
   "source": [
    "p10['Incident Event Type'].value_counts(normalize=True).round(2)"
   ]
  },
  {
   "cell_type": "code",
   "execution_count": null,
   "id": "abf1abdc",
   "metadata": {},
   "outputs": [],
   "source": []
  }
 ],
 "metadata": {
  "kernelspec": {
   "display_name": "Python 3 (ipykernel)",
   "language": "python",
   "name": "python3"
  },
  "language_info": {
   "codemirror_mode": {
    "name": "ipython",
    "version": 3
   },
   "file_extension": ".py",
   "mimetype": "text/x-python",
   "name": "python",
   "nbconvert_exporter": "python",
   "pygments_lexer": "ipython3",
   "version": "3.9.13"
  }
 },
 "nbformat": 4,
 "nbformat_minor": 5
}
