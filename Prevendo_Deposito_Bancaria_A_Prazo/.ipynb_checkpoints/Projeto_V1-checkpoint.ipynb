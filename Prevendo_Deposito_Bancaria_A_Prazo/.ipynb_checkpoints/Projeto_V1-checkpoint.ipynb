{
 "cells": [
  {
   "cell_type": "markdown",
   "id": "7df5b8f4",
   "metadata": {},
   "source": [
    "# Análise de Classificação"
   ]
  },
  {
   "cell_type": "markdown",
   "id": "c942b900",
   "metadata": {},
   "source": [
    "Este projeto é exclusivamente para fins educacionais com intuito de aprimorar minhas habilidades como cientista de dados."
   ]
  },
  {
   "cell_type": "markdown",
   "id": "6b95e074",
   "metadata": {},
   "source": [
    "Neste jupyter iremos trabalhar:\n",
    "\n",
    "* **Limpeza e Transformação:** Um tratamento dos dados para que eles estejam estruturados o suficiente para análise (caso seja necessário).\n",
    "* **Análise Exploratória:** Com intuito de entender melhor os dados que estamos trabalhando e observar como estão distribuidos.\n",
    "* **Engenharia de Atributos:** Usaremos técnicas como One Hot Encoding, Label Encoding com intuito de preparar os dados para os modelos de regressão.\n",
    "* **Seleção de Variáveis:**"
   ]
  },
  {
   "cell_type": "markdown",
   "id": "b9709183",
   "metadata": {},
   "source": [
    "## Definindo o Problema de Negócio"
   ]
  },
  {
   "cell_type": "markdown",
   "id": "4af0832f",
   "metadata": {},
   "source": [
    "Os dados são de campanhas de marketing direto de uma instituição bancária. As campanhas foram baseadas em ligações telefônicas.\n",
    "Muitas vezes era necessário mais do que um contacto com o mesmo cliente, para saber se depósito a prazo bancário seria ('sim') ou não ('não'). O objetivo desse projeto é prever se o cliente irá realizar (sim/não) um depósito a prazo (variável y).\n",
    "\n",
    "Link do dataset: https://archive.ics.uci.edu/dataset/222/bank+marketing"
   ]
  },
  {
   "cell_type": "markdown",
   "id": "f1950810",
   "metadata": {},
   "source": [
    "## Carregando Pacotes"
   ]
  },
  {
   "cell_type": "code",
   "execution_count": 1,
   "id": "67561846",
   "metadata": {},
   "outputs": [],
   "source": [
    "import pandas as pd\n",
    "import numpy as np\n",
    "import seaborn as sns\n",
    "import matplotlib.pyplot as plt"
   ]
  },
  {
   "cell_type": "markdown",
   "id": "335321a5",
   "metadata": {},
   "source": [
    "Importando dataset."
   ]
  },
  {
   "cell_type": "code",
   "execution_count": 2,
   "id": "d6b30b51",
   "metadata": {},
   "outputs": [
    {
     "data": {
      "text/html": [
       "<div>\n",
       "<style scoped>\n",
       "    .dataframe tbody tr th:only-of-type {\n",
       "        vertical-align: middle;\n",
       "    }\n",
       "\n",
       "    .dataframe tbody tr th {\n",
       "        vertical-align: top;\n",
       "    }\n",
       "\n",
       "    .dataframe thead th {\n",
       "        text-align: right;\n",
       "    }\n",
       "</style>\n",
       "<table border=\"1\" class=\"dataframe\">\n",
       "  <thead>\n",
       "    <tr style=\"text-align: right;\">\n",
       "      <th></th>\n",
       "      <th>age</th>\n",
       "      <th>job</th>\n",
       "      <th>marital</th>\n",
       "      <th>education</th>\n",
       "      <th>default</th>\n",
       "      <th>balance</th>\n",
       "      <th>housing</th>\n",
       "      <th>loan</th>\n",
       "      <th>contact</th>\n",
       "      <th>day</th>\n",
       "      <th>month</th>\n",
       "      <th>duration</th>\n",
       "      <th>campaign</th>\n",
       "      <th>pdays</th>\n",
       "      <th>previous</th>\n",
       "      <th>poutcome</th>\n",
       "      <th>y</th>\n",
       "    </tr>\n",
       "  </thead>\n",
       "  <tbody>\n",
       "    <tr>\n",
       "      <th>0</th>\n",
       "      <td>58</td>\n",
       "      <td>management</td>\n",
       "      <td>married</td>\n",
       "      <td>tertiary</td>\n",
       "      <td>no</td>\n",
       "      <td>2143</td>\n",
       "      <td>yes</td>\n",
       "      <td>no</td>\n",
       "      <td>unknown</td>\n",
       "      <td>5</td>\n",
       "      <td>may</td>\n",
       "      <td>261</td>\n",
       "      <td>1</td>\n",
       "      <td>-1</td>\n",
       "      <td>0</td>\n",
       "      <td>unknown</td>\n",
       "      <td>no</td>\n",
       "    </tr>\n",
       "    <tr>\n",
       "      <th>1</th>\n",
       "      <td>44</td>\n",
       "      <td>technician</td>\n",
       "      <td>single</td>\n",
       "      <td>secondary</td>\n",
       "      <td>no</td>\n",
       "      <td>29</td>\n",
       "      <td>yes</td>\n",
       "      <td>no</td>\n",
       "      <td>unknown</td>\n",
       "      <td>5</td>\n",
       "      <td>may</td>\n",
       "      <td>151</td>\n",
       "      <td>1</td>\n",
       "      <td>-1</td>\n",
       "      <td>0</td>\n",
       "      <td>unknown</td>\n",
       "      <td>no</td>\n",
       "    </tr>\n",
       "    <tr>\n",
       "      <th>2</th>\n",
       "      <td>33</td>\n",
       "      <td>entrepreneur</td>\n",
       "      <td>married</td>\n",
       "      <td>secondary</td>\n",
       "      <td>no</td>\n",
       "      <td>2</td>\n",
       "      <td>yes</td>\n",
       "      <td>yes</td>\n",
       "      <td>unknown</td>\n",
       "      <td>5</td>\n",
       "      <td>may</td>\n",
       "      <td>76</td>\n",
       "      <td>1</td>\n",
       "      <td>-1</td>\n",
       "      <td>0</td>\n",
       "      <td>unknown</td>\n",
       "      <td>no</td>\n",
       "    </tr>\n",
       "    <tr>\n",
       "      <th>3</th>\n",
       "      <td>47</td>\n",
       "      <td>blue-collar</td>\n",
       "      <td>married</td>\n",
       "      <td>unknown</td>\n",
       "      <td>no</td>\n",
       "      <td>1506</td>\n",
       "      <td>yes</td>\n",
       "      <td>no</td>\n",
       "      <td>unknown</td>\n",
       "      <td>5</td>\n",
       "      <td>may</td>\n",
       "      <td>92</td>\n",
       "      <td>1</td>\n",
       "      <td>-1</td>\n",
       "      <td>0</td>\n",
       "      <td>unknown</td>\n",
       "      <td>no</td>\n",
       "    </tr>\n",
       "    <tr>\n",
       "      <th>4</th>\n",
       "      <td>33</td>\n",
       "      <td>unknown</td>\n",
       "      <td>single</td>\n",
       "      <td>unknown</td>\n",
       "      <td>no</td>\n",
       "      <td>1</td>\n",
       "      <td>no</td>\n",
       "      <td>no</td>\n",
       "      <td>unknown</td>\n",
       "      <td>5</td>\n",
       "      <td>may</td>\n",
       "      <td>198</td>\n",
       "      <td>1</td>\n",
       "      <td>-1</td>\n",
       "      <td>0</td>\n",
       "      <td>unknown</td>\n",
       "      <td>no</td>\n",
       "    </tr>\n",
       "  </tbody>\n",
       "</table>\n",
       "</div>"
      ],
      "text/plain": [
       "   age           job  marital  education default  balance housing loan  \\\n",
       "0   58    management  married   tertiary      no     2143     yes   no   \n",
       "1   44    technician   single  secondary      no       29     yes   no   \n",
       "2   33  entrepreneur  married  secondary      no        2     yes  yes   \n",
       "3   47   blue-collar  married    unknown      no     1506     yes   no   \n",
       "4   33       unknown   single    unknown      no        1      no   no   \n",
       "\n",
       "   contact  day month  duration  campaign  pdays  previous poutcome   y  \n",
       "0  unknown    5   may       261         1     -1         0  unknown  no  \n",
       "1  unknown    5   may       151         1     -1         0  unknown  no  \n",
       "2  unknown    5   may        76         1     -1         0  unknown  no  \n",
       "3  unknown    5   may        92         1     -1         0  unknown  no  \n",
       "4  unknown    5   may       198         1     -1         0  unknown  no  "
      ]
     },
     "execution_count": 2,
     "metadata": {},
     "output_type": "execute_result"
    }
   ],
   "source": [
    "# df = pd.read_csv('dados/bank.csv', sep = ';')\n",
    "df = pd.read_csv('dados/bank-full.csv', sep = ';')\n",
    "df.head()"
   ]
  },
  {
   "cell_type": "markdown",
   "id": "02a34dd6",
   "metadata": {},
   "source": [
    "## Data Wrangling"
   ]
  },
  {
   "cell_type": "markdown",
   "id": "19f71b49",
   "metadata": {},
   "source": [
    "Agora iremos analizar e entender melhor os dados, para posteriormente fazer algumas manipulações e a engenharia de atributos."
   ]
  },
  {
   "cell_type": "code",
   "execution_count": 3,
   "id": "a3039b2a",
   "metadata": {},
   "outputs": [
    {
     "data": {
      "text/plain": [
       "(45211, 17)"
      ]
     },
     "execution_count": 3,
     "metadata": {},
     "output_type": "execute_result"
    }
   ],
   "source": [
    "# Verificando o número de linhas e colunas\n",
    "df.shape"
   ]
  },
  {
   "cell_type": "code",
   "execution_count": 4,
   "id": "e2bd64df",
   "metadata": {},
   "outputs": [
    {
     "data": {
      "text/plain": [
       "age          0\n",
       "job          0\n",
       "marital      0\n",
       "education    0\n",
       "default      0\n",
       "balance      0\n",
       "housing      0\n",
       "loan         0\n",
       "contact      0\n",
       "day          0\n",
       "month        0\n",
       "duration     0\n",
       "campaign     0\n",
       "pdays        0\n",
       "previous     0\n",
       "poutcome     0\n",
       "y            0\n",
       "dtype: int64"
      ]
     },
     "execution_count": 4,
     "metadata": {},
     "output_type": "execute_result"
    }
   ],
   "source": [
    "# Verificando se há valores nulos\n",
    "df.isna().sum()"
   ]
  },
  {
   "cell_type": "markdown",
   "id": "380ed327",
   "metadata": {},
   "source": [
    "Sem dados faltantes."
   ]
  },
  {
   "cell_type": "code",
   "execution_count": 5,
   "id": "60548372",
   "metadata": {},
   "outputs": [
    {
     "name": "stdout",
     "output_type": "stream",
     "text": [
      "<class 'pandas.core.frame.DataFrame'>\n",
      "RangeIndex: 45211 entries, 0 to 45210\n",
      "Data columns (total 17 columns):\n",
      " #   Column     Non-Null Count  Dtype \n",
      "---  ------     --------------  ----- \n",
      " 0   age        45211 non-null  int64 \n",
      " 1   job        45211 non-null  object\n",
      " 2   marital    45211 non-null  object\n",
      " 3   education  45211 non-null  object\n",
      " 4   default    45211 non-null  object\n",
      " 5   balance    45211 non-null  int64 \n",
      " 6   housing    45211 non-null  object\n",
      " 7   loan       45211 non-null  object\n",
      " 8   contact    45211 non-null  object\n",
      " 9   day        45211 non-null  int64 \n",
      " 10  month      45211 non-null  object\n",
      " 11  duration   45211 non-null  int64 \n",
      " 12  campaign   45211 non-null  int64 \n",
      " 13  pdays      45211 non-null  int64 \n",
      " 14  previous   45211 non-null  int64 \n",
      " 15  poutcome   45211 non-null  object\n",
      " 16  y          45211 non-null  object\n",
      "dtypes: int64(7), object(10)\n",
      "memory usage: 5.9+ MB\n"
     ]
    }
   ],
   "source": [
    "# Verificando o tipo das variáveis\n",
    "df.info()"
   ]
  },
  {
   "cell_type": "code",
   "execution_count": 6,
   "id": "48065e88",
   "metadata": {},
   "outputs": [
    {
     "data": {
      "text/plain": [
       "0"
      ]
     },
     "execution_count": 6,
     "metadata": {},
     "output_type": "execute_result"
    }
   ],
   "source": [
    "# Verificando se há registros duplicados.\n",
    "df.duplicated().sum()"
   ]
  },
  {
   "cell_type": "markdown",
   "id": "3dcd9386",
   "metadata": {},
   "source": [
    "## EDA"
   ]
  },
  {
   "cell_type": "markdown",
   "id": "71729ccc",
   "metadata": {},
   "source": [
    "Nesta etapa iremos plotar alguns gráficos para visualizar melhor a distribuição das variáveis."
   ]
  },
  {
   "cell_type": "markdown",
   "id": "b7fe15e5",
   "metadata": {},
   "source": [
    "**A variável target (y) está balanceada?**"
   ]
  },
  {
   "cell_type": "code",
   "execution_count": 7,
   "id": "bdf89790",
   "metadata": {},
   "outputs": [
    {
     "data": {
      "image/png": "[encoded data removed]",
      "text/plain": [
       "<Figure size 640x480 with 1 Axes>"
      ]
     },
     "metadata": {},
     "output_type": "display_data"
    }
   ],
   "source": [
    "sns.countplot(df, x= 'y')\n",
    "plt.show()"
   ]
  },
  {
   "cell_type": "markdown",
   "id": "5c21bda2",
   "metadata": {},
   "source": [
    "Será necessário aplicar uma técnica de balançeamento na variável target."
   ]
  },
  {
   "cell_type": "markdown",
   "id": "5f2a7cce",
   "metadata": {},
   "source": [
    "**Qual a variação da idade dos clisntes?**"
   ]
  },
  {
   "cell_type": "code",
   "execution_count": 8,
   "id": "49e112de",
   "metadata": {},
   "outputs": [
    {
     "data": {
      "image/png": "[encoded data removed]",
      "text/plain": [
       "<Figure size 640x480 with 1 Axes>"
      ]
     },
     "metadata": {},
     "output_type": "display_data"
    }
   ],
   "source": [
    "sns.histplot(data= df, x= 'age', binwidth= 3)\n",
    "plt.show()"
   ]
  },
  {
   "cell_type": "markdown",
   "id": "55ddcc41",
   "metadata": {},
   "source": [
    "Observamos uma grande quantidade de clientes entre 30 e 40 anos."
   ]
  },
  {
   "cell_type": "markdown",
   "id": "eb0c8983",
   "metadata": {},
   "source": [
    "**Qual é o nível de escolaridade dos clientes?**"
   ]
  },
  {
   "cell_type": "code",
   "execution_count": 9,
   "id": "aca8bb99",
   "metadata": {},
   "outputs": [
    {
     "data": {
      "image/png": "[encoded data removed]",
      "text/plain": [
       "<Figure size 640x480 with 1 Axes>"
      ]
     },
     "metadata": {},
     "output_type": "display_data"
    }
   ],
   "source": [
    "# Variável para ordernar o gráfico\n",
    "ordem = df['education'].value_counts().index\n",
    "\n",
    "# Plot\n",
    "sns.countplot(df, x= 'education', order= ordem)\n",
    "\n",
    "# Rotacionando os valores do eixo X\n",
    "plt.xticks(rotation= 30, ha= 'right')\n",
    "plt.show()"
   ]
  },
  {
   "cell_type": "markdown",
   "id": "1298b0b1",
   "metadata": {},
   "source": [
    "**Qual nível de escolaridade teve mais deposito a prazo?**"
   ]
  },
  {
   "cell_type": "code",
   "execution_count": 10,
   "id": "866b2dfa",
   "metadata": {},
   "outputs": [
    {
     "data": {
      "text/html": [
       "<div>\n",
       "<style scoped>\n",
       "    .dataframe tbody tr th:only-of-type {\n",
       "        vertical-align: middle;\n",
       "    }\n",
       "\n",
       "    .dataframe tbody tr th {\n",
       "        vertical-align: top;\n",
       "    }\n",
       "\n",
       "    .dataframe thead th {\n",
       "        text-align: right;\n",
       "    }\n",
       "</style>\n",
       "<table border=\"1\" class=\"dataframe\">\n",
       "  <thead>\n",
       "    <tr style=\"text-align: right;\">\n",
       "      <th></th>\n",
       "      <th>education</th>\n",
       "      <th>y</th>\n",
       "      <th>proportion</th>\n",
       "    </tr>\n",
       "  </thead>\n",
       "  <tbody>\n",
       "    <tr>\n",
       "      <th>0</th>\n",
       "      <td>primary</td>\n",
       "      <td>no</td>\n",
       "      <td>1.0</td>\n",
       "    </tr>\n",
       "    <tr>\n",
       "      <th>1</th>\n",
       "      <td>primary</td>\n",
       "      <td>yes</td>\n",
       "      <td>1.0</td>\n",
       "    </tr>\n",
       "    <tr>\n",
       "      <th>2</th>\n",
       "      <td>secondary</td>\n",
       "      <td>no</td>\n",
       "      <td>1.0</td>\n",
       "    </tr>\n",
       "    <tr>\n",
       "      <th>3</th>\n",
       "      <td>secondary</td>\n",
       "      <td>yes</td>\n",
       "      <td>1.0</td>\n",
       "    </tr>\n",
       "    <tr>\n",
       "      <th>4</th>\n",
       "      <td>tertiary</td>\n",
       "      <td>no</td>\n",
       "      <td>1.0</td>\n",
       "    </tr>\n",
       "    <tr>\n",
       "      <th>5</th>\n",
       "      <td>tertiary</td>\n",
       "      <td>yes</td>\n",
       "      <td>1.0</td>\n",
       "    </tr>\n",
       "    <tr>\n",
       "      <th>6</th>\n",
       "      <td>unknown</td>\n",
       "      <td>no</td>\n",
       "      <td>1.0</td>\n",
       "    </tr>\n",
       "    <tr>\n",
       "      <th>7</th>\n",
       "      <td>unknown</td>\n",
       "      <td>yes</td>\n",
       "      <td>1.0</td>\n",
       "    </tr>\n",
       "  </tbody>\n",
       "</table>\n",
       "</div>"
      ],
      "text/plain": [
       "   education    y  proportion\n",
       "0    primary   no         1.0\n",
       "1    primary  yes         1.0\n",
       "2  secondary   no         1.0\n",
       "3  secondary  yes         1.0\n",
       "4   tertiary   no         1.0\n",
       "5   tertiary  yes         1.0\n",
       "6    unknown   no         1.0\n",
       "7    unknown  yes         1.0"
      ]
     },
     "execution_count": 10,
     "metadata": {},
     "output_type": "execute_result"
    }
   ],
   "source": [
    "var = df.groupby(['education', 'y'])['y'].value_counts(normalize= True).reset_index()\n",
    "var"
   ]
  },
  {
   "cell_type": "markdown",
   "id": "308308a2",
   "metadata": {},
   "source": [
    "**O trabalho do cliente enfluencia no deposito a prazo?**"
   ]
  },
  {
   "cell_type": "markdown",
   "id": "765e9c5b",
   "metadata": {},
   "source": [
    "Observações: \n",
    "\n",
    "* Será necessário aplicar **One Hot Encodin** nas seguintes colunas: marital, education e contact.\n",
    "* Será necessário aplicar **Label Enconder** nas seguintes colunas: default, housing, loane e a variável target (y).\n",
    "* Na coluna month, iremos agrupar por trimestre e semestre.\n",
    "* Precisaremos analisar a correlação das colunas campaign, pdays e previous com a variável target (y)."
   ]
  },
  {
   "cell_type": "markdown",
   "id": "4cf730f4",
   "metadata": {},
   "source": [
    "## Feature Engineering"
   ]
  },
  {
   "cell_type": "code",
   "execution_count": 11,
   "id": "47909169",
   "metadata": {},
   "outputs": [],
   "source": [
    "df_copy = df.copy()"
   ]
  },
  {
   "cell_type": "markdown",
   "id": "b5a5bd9a",
   "metadata": {},
   "source": [
    "Primeiro vamos aplicar a **One Hot Encoding**."
   ]
  },
  {
   "cell_type": "code",
   "execution_count": 12,
   "id": "4557126a",
   "metadata": {},
   "outputs": [],
   "source": [
    "df_copy = pd.get_dummies(df_copy, columns= ['marital', 'education', 'contact', 'poutcome'], dtype= 'int')"
   ]
  },
  {
   "cell_type": "markdown",
   "id": "a5116a09",
   "metadata": {},
   "source": [
    "Agora a **Label Enconder**."
   ]
  },
  {
   "cell_type": "code",
   "execution_count": 13,
   "id": "97b66027",
   "metadata": {},
   "outputs": [],
   "source": [
    "label = ['default', 'housing', 'loan', 'y']\n",
    "df_copy[label] = np.where(df_copy[label] == 'yes', 1, 0)"
   ]
  },
  {
   "cell_type": "markdown",
   "id": "d4ec2557",
   "metadata": {},
   "source": [
    "Agora vamos separar os meses por Trimestre."
   ]
  },
  {
   "cell_type": "code",
   "execution_count": 14,
   "id": "7069fe00",
   "metadata": {},
   "outputs": [],
   "source": [
    "# Dicionário para mapeamento\n",
    "trimestres = {\n",
    "    'jan': 1, 'fev': 1, 'mar': 1,\n",
    "    'apr': 2, 'may': 2, 'jun': 2,\n",
    "    'jul': 3, 'aug': 3, 'sep': 3,\n",
    "    'oct': 4, 'nov': 4, 'dec': 4\n",
    "}\n",
    "\n",
    "df_copy['Quarter'] = df_copy['month'].map(trimestres).round(0)\n",
    "\n",
    "# Aplicando One Hot Encoding\n",
    "df_copy = pd.get_dummies(df_copy, columns= ['Quarter'], dtype= 'int')"
   ]
  },
  {
   "cell_type": "code",
   "execution_count": 15,
   "id": "c8c2e17a",
   "metadata": {},
   "outputs": [],
   "source": [
    "# Dicionário de Mapeamento\n",
    "semestres = {\n",
    "    'jan': 1, 'fev': 1, 'mar': 1,\n",
    "    'apr': 1, 'may': 1, 'jun': 1,\n",
    "    'jul': 2, 'aug': 2, 'sep': 2,\n",
    "    'oct': 2, 'nov': 2, 'dec': 2\n",
    "}\n",
    "\n",
    "# Aplicando One Hot Encoding\n",
    "df_copy['Semester'] = df_copy['month'].map(semestres)"
   ]
  },
  {
   "cell_type": "code",
   "execution_count": 16,
   "id": "7e585910",
   "metadata": {},
   "outputs": [],
   "source": [
    "# Excluindo a coluna de meses\n",
    "df_copy.drop(columns = ['month', 'Semester'], inplace= True)"
   ]
  },
  {
   "cell_type": "code",
   "execution_count": null,
   "id": "dfef8b82",
   "metadata": {},
   "outputs": [],
   "source": []
  }
 ],
 "metadata": {
  "kernelspec": {
   "display_name": "Python 3 (ipykernel)",
   "language": "python",
   "name": "python3"
  },
  "language_info": {
   "codemirror_mode": {
    "name": "ipython",
    "version": 3
   },
   "file_extension": ".py",
   "mimetype": "text/x-python",
   "name": "python",
   "nbconvert_exporter": "python",
   "pygments_lexer": "ipython3",
   "version": "3.9.13"
  }
 },
 "nbformat": 4,
 "nbformat_minor": 5
}
