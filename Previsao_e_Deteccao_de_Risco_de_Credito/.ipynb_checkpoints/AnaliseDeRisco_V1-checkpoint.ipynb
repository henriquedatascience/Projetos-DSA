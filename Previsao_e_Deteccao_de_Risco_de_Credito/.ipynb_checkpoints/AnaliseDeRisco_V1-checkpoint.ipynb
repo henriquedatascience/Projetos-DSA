{
 "cells": [
  {
   "cell_type": "markdown",
   "id": "1fbf9370",
   "metadata": {},
   "source": [
    "# Análise de Classificação - Previsão e Detecção de Risco de Crédito"
   ]
  },
  {
   "cell_type": "markdown",
   "id": "36e426a7",
   "metadata": {},
   "source": [
    "Este projeto tem como objetivo apenas para fins educacionais, com intuito de praticar todo o conhecimento adquirido no curso de Machine Learning da formação Cientista de Dados, ministrado pela Data Science Academy. Este projeto foi fornecido como exemplo em linguagem R durante o curso, e fiz a conversão para linguagem Python para praticar. Neste exemplo, foi ensinado apenas a regressão logística, porém, nesse jupyter notebook conterá todo o conhecimento adquirido por mim durante o curso."
   ]
  },
  {
   "cell_type": "markdown",
   "id": "55d243c8",
   "metadata": {},
   "source": [
    "## Definindo o Problema de Negócio"
   ]
  },
  {
   "cell_type": "markdown",
   "id": "9b357500",
   "metadata": {},
   "source": [
    "O objetivo deste projeto é desenvolver um sistema de Previsão e Detecção de Risco de Crédito que possa auxiliar instituições financeiras na avaliação de pedidos de empréstimos baseado nas informações contidas no dataset. Baseado nessas informações, o modelo irá avaliar se aprovará o emprestimo (sim - 1) ou não aprovará o emprestimo (não - 0)\n",
    "\n",
    "O dataset foi disponibilizado pela Data Sciende Academy."
   ]
  },
  {
   "cell_type": "markdown",
   "id": "072908cd",
   "metadata": {},
   "source": [
    "## Carregando pacotes e Dataset"
   ]
  },
  {
   "cell_type": "code",
   "execution_count": 106,
   "id": "4526c897",
   "metadata": {},
   "outputs": [],
   "source": [
    "# Importando pacotes\n",
    "\n",
    "import pandas as pd\n",
    "import numpy as np\n",
    "import matplotlib.pyplot as plt\n",
    "import matplotlib as mpl\n",
    "import seaborn as sns\n",
    "from collections import Counter\n",
    "from imblearn.over_sampling import SMOTE\n",
    "from sklearn.preprocessing import StandardScaler\n",
    "from sklearn.model_selection import train_test_split, RepeatedStratifiedKFold, cross_val_score, GridSearchCV\n",
    "from sklearn.feature_selection import RFECV\n",
    "from sklearn.tree import DecisionTreeClassifier\n",
    "from sklearn.linear_model import LogisticRegression\n",
    "from sklearn.neighbors import KNeighborsClassifier\n",
    "from sklearn.naive_bayes import BernoulliNB\n",
    "from sklearn.ensemble import RandomForestClassifier, BaggingClassifier, ExtraTreesClassifier\n",
    "from sklearn.ensemble import AdaBoostClassifier, GradientBoostingClassifier\n",
    "from sklearn.metrics import accuracy_score, classification_report, confusion_matrix, make_scorer\n",
    "from skopt import BayesSearchCV\n",
    "from skopt.space import Real, Categorical, Integer\n",
    "import warnings\n",
    "\n",
    "warnings.filterwarnings(\"ignore\")\n",
    "%matplotlib inline "
   ]
  },
  {
   "cell_type": "code",
   "execution_count": 2,
   "id": "ced70c87",
   "metadata": {},
   "outputs": [
    {
     "data": {
      "text/html": [
       "<div>\n",
       "<style scoped>\n",
       "    .dataframe tbody tr th:only-of-type {\n",
       "        vertical-align: middle;\n",
       "    }\n",
       "\n",
       "    .dataframe tbody tr th {\n",
       "        vertical-align: top;\n",
       "    }\n",
       "\n",
       "    .dataframe thead th {\n",
       "        text-align: right;\n",
       "    }\n",
       "</style>\n",
       "<table border=\"1\" class=\"dataframe\">\n",
       "  <thead>\n",
       "    <tr style=\"text-align: right;\">\n",
       "      <th></th>\n",
       "      <th>credit.rating</th>\n",
       "      <th>account.balance</th>\n",
       "      <th>credit.duration.months</th>\n",
       "      <th>previous.credit.payment.status</th>\n",
       "      <th>credit.purpose</th>\n",
       "      <th>credit.amount</th>\n",
       "      <th>savings</th>\n",
       "      <th>employment.duration</th>\n",
       "      <th>installment.rate</th>\n",
       "      <th>marital.status</th>\n",
       "      <th>...</th>\n",
       "      <th>residence.duration</th>\n",
       "      <th>current.assets</th>\n",
       "      <th>age</th>\n",
       "      <th>other.credits</th>\n",
       "      <th>apartment.type</th>\n",
       "      <th>bank.credits</th>\n",
       "      <th>occupation</th>\n",
       "      <th>dependents</th>\n",
       "      <th>telephone</th>\n",
       "      <th>foreign.worker</th>\n",
       "    </tr>\n",
       "  </thead>\n",
       "  <tbody>\n",
       "    <tr>\n",
       "      <th>0</th>\n",
       "      <td>1</td>\n",
       "      <td>1</td>\n",
       "      <td>18</td>\n",
       "      <td>3</td>\n",
       "      <td>2</td>\n",
       "      <td>1049</td>\n",
       "      <td>1</td>\n",
       "      <td>1</td>\n",
       "      <td>4</td>\n",
       "      <td>1</td>\n",
       "      <td>...</td>\n",
       "      <td>4</td>\n",
       "      <td>2</td>\n",
       "      <td>21</td>\n",
       "      <td>2</td>\n",
       "      <td>1</td>\n",
       "      <td>1</td>\n",
       "      <td>3</td>\n",
       "      <td>1</td>\n",
       "      <td>1</td>\n",
       "      <td>1</td>\n",
       "    </tr>\n",
       "    <tr>\n",
       "      <th>1</th>\n",
       "      <td>1</td>\n",
       "      <td>1</td>\n",
       "      <td>9</td>\n",
       "      <td>3</td>\n",
       "      <td>4</td>\n",
       "      <td>2799</td>\n",
       "      <td>1</td>\n",
       "      <td>2</td>\n",
       "      <td>2</td>\n",
       "      <td>3</td>\n",
       "      <td>...</td>\n",
       "      <td>2</td>\n",
       "      <td>1</td>\n",
       "      <td>36</td>\n",
       "      <td>2</td>\n",
       "      <td>1</td>\n",
       "      <td>2</td>\n",
       "      <td>3</td>\n",
       "      <td>2</td>\n",
       "      <td>1</td>\n",
       "      <td>1</td>\n",
       "    </tr>\n",
       "    <tr>\n",
       "      <th>2</th>\n",
       "      <td>1</td>\n",
       "      <td>2</td>\n",
       "      <td>12</td>\n",
       "      <td>2</td>\n",
       "      <td>4</td>\n",
       "      <td>841</td>\n",
       "      <td>2</td>\n",
       "      <td>3</td>\n",
       "      <td>2</td>\n",
       "      <td>1</td>\n",
       "      <td>...</td>\n",
       "      <td>4</td>\n",
       "      <td>1</td>\n",
       "      <td>23</td>\n",
       "      <td>2</td>\n",
       "      <td>1</td>\n",
       "      <td>1</td>\n",
       "      <td>2</td>\n",
       "      <td>1</td>\n",
       "      <td>1</td>\n",
       "      <td>1</td>\n",
       "    </tr>\n",
       "    <tr>\n",
       "      <th>3</th>\n",
       "      <td>1</td>\n",
       "      <td>1</td>\n",
       "      <td>12</td>\n",
       "      <td>3</td>\n",
       "      <td>4</td>\n",
       "      <td>2122</td>\n",
       "      <td>1</td>\n",
       "      <td>2</td>\n",
       "      <td>3</td>\n",
       "      <td>3</td>\n",
       "      <td>...</td>\n",
       "      <td>2</td>\n",
       "      <td>1</td>\n",
       "      <td>39</td>\n",
       "      <td>2</td>\n",
       "      <td>1</td>\n",
       "      <td>2</td>\n",
       "      <td>2</td>\n",
       "      <td>2</td>\n",
       "      <td>1</td>\n",
       "      <td>2</td>\n",
       "    </tr>\n",
       "    <tr>\n",
       "      <th>4</th>\n",
       "      <td>1</td>\n",
       "      <td>1</td>\n",
       "      <td>12</td>\n",
       "      <td>3</td>\n",
       "      <td>4</td>\n",
       "      <td>2171</td>\n",
       "      <td>1</td>\n",
       "      <td>2</td>\n",
       "      <td>4</td>\n",
       "      <td>3</td>\n",
       "      <td>...</td>\n",
       "      <td>4</td>\n",
       "      <td>2</td>\n",
       "      <td>38</td>\n",
       "      <td>1</td>\n",
       "      <td>2</td>\n",
       "      <td>2</td>\n",
       "      <td>2</td>\n",
       "      <td>1</td>\n",
       "      <td>1</td>\n",
       "      <td>2</td>\n",
       "    </tr>\n",
       "  </tbody>\n",
       "</table>\n",
       "<p>5 rows × 21 columns</p>\n",
       "</div>"
      ],
      "text/plain": [
       "   credit.rating  account.balance  credit.duration.months  \\\n",
       "0              1                1                      18   \n",
       "1              1                1                       9   \n",
       "2              1                2                      12   \n",
       "3              1                1                      12   \n",
       "4              1                1                      12   \n",
       "\n",
       "   previous.credit.payment.status  credit.purpose  credit.amount  savings  \\\n",
       "0                               3               2           1049        1   \n",
       "1                               3               4           2799        1   \n",
       "2                               2               4            841        2   \n",
       "3                               3               4           2122        1   \n",
       "4                               3               4           2171        1   \n",
       "\n",
       "   employment.duration  installment.rate  marital.status  ...  \\\n",
       "0                    1                 4               1  ...   \n",
       "1                    2                 2               3  ...   \n",
       "2                    3                 2               1  ...   \n",
       "3                    2                 3               3  ...   \n",
       "4                    2                 4               3  ...   \n",
       "\n",
       "   residence.duration  current.assets  age  other.credits  apartment.type  \\\n",
       "0                   4               2   21              2               1   \n",
       "1                   2               1   36              2               1   \n",
       "2                   4               1   23              2               1   \n",
       "3                   2               1   39              2               1   \n",
       "4                   4               2   38              1               2   \n",
       "\n",
       "   bank.credits  occupation  dependents  telephone  foreign.worker  \n",
       "0             1           3           1          1               1  \n",
       "1             2           3           2          1               1  \n",
       "2             1           2           1          1               1  \n",
       "3             2           2           2          1               2  \n",
       "4             2           2           1          1               2  \n",
       "\n",
       "[5 rows x 21 columns]"
      ]
     },
     "execution_count": 2,
     "metadata": {},
     "output_type": "execute_result"
    }
   ],
   "source": [
    "# Carregando dataset\n",
    "df = pd.read_csv('dados/credit_dataset_final.csv')\n",
    "df.head()"
   ]
  },
  {
   "cell_type": "code",
   "execution_count": 3,
   "id": "4adc3be6",
   "metadata": {},
   "outputs": [],
   "source": [
    "# Coletando X e y\n",
    "X = df.iloc[:, 1:]\n",
    "y = df['credit.rating']\n",
    "\n",
    "# Gerando número de observações e variáveis\n",
    "observasoes = len(df)\n",
    "variaveis = df.columns[1:]"
   ]
  },
  {
   "cell_type": "markdown",
   "id": "c937d670",
   "metadata": {},
   "source": [
    "## Análise Exploratória"
   ]
  },
  {
   "cell_type": "markdown",
   "id": "fbbd3fa0",
   "metadata": {},
   "source": [
    "Nesa etapa iremos plotar alguns gráficos para entender melhor os dados, realizar algumas análises e observar como estão distribuidos."
   ]
  },
  {
   "cell_type": "markdown",
   "id": "af9cc8f1",
   "metadata": {},
   "source": [
    "**A variável target está banaceada?**\n",
    "\n",
    "Não, Será necessário aplicar alguma técnica de balanceamento na variável target."
   ]
  },
  {
   "cell_type": "code",
   "execution_count": 4,
   "id": "046744f6",
   "metadata": {},
   "outputs": [
    {
     "data": {
      "image/png": "[encoded data removed]",
      "text/plain": [
       "<Figure size 640x480 with 1 Axes>"
      ]
     },
     "metadata": {},
     "output_type": "display_data"
    }
   ],
   "source": [
    "sns.countplot(df, x= 'credit.rating')\n",
    "plt.show()"
   ]
  },
  {
   "cell_type": "markdown",
   "id": "07b9b3a1",
   "metadata": {},
   "source": [
    "## Balanceamento da Variável Target"
   ]
  },
  {
   "cell_type": "code",
   "execution_count": 5,
   "id": "ad9547e3",
   "metadata": {},
   "outputs": [
    {
     "name": "stdout",
     "output_type": "stream",
     "text": [
      "Shape do dataset Counter({1: 700, 0: 700})\n"
     ]
    }
   ],
   "source": [
    "# Gerando dados sintéticos da classe minoritária\n",
    "smote = SMOTE(random_state= 42)\n",
    "X, y = smote.fit_resample(X, y)\n",
    "\n",
    "# Shape\n",
    "print('Shape do dataset %s' % Counter(y))"
   ]
  },
  {
   "cell_type": "markdown",
   "id": "8b0d2a42",
   "metadata": {},
   "source": [
    "## Feature Scaling"
   ]
  },
  {
   "cell_type": "markdown",
   "id": "d66194f3",
   "metadata": {},
   "source": [
    "Usaremos a técnica de **padronização** para deixar os dados numéricos contínuos na mesma escala."
   ]
  },
  {
   "cell_type": "code",
   "execution_count": 6,
   "id": "6b9c3afe",
   "metadata": {},
   "outputs": [],
   "source": [
    "# Selecionando as variáveis numéricas contínuas\n",
    "var_num = ['credit.duration.months', 'age', 'credit.amount']\n",
    "\n",
    "# Aplicando padronização\n",
    "scaler = StandardScaler()\n",
    "# X[var_num] = scaler.fit_transform(X[var_num])\n",
    "X = scaler.fit_transform(X)"
   ]
  },
  {
   "cell_type": "markdown",
   "id": "d9f40b01",
   "metadata": {},
   "source": [
    "## Seleção de Variáveis"
   ]
  },
  {
   "cell_type": "markdown",
   "id": "9af86dc7",
   "metadata": {},
   "source": [
    "Nesta etapa vamos criar um gráfico para visualizarmos se há forte correlação entre as variáveis, e logo em seguida, avaliaremos se há variáveis com multicolinearidade utilizando autovalores e autovetores. Também utilizaremos o RandomForest para verificar quais variáveis são as mais importantes para o modelo."
   ]
  },
  {
   "cell_type": "markdown",
   "id": "242b3188",
   "metadata": {},
   "source": [
    "### Análise de Correlação"
   ]
  },
  {
   "cell_type": "code",
   "execution_count": 7,
   "id": "13b669e3",
   "metadata": {},
   "outputs": [
    {
     "ename": "AttributeError",
     "evalue": "'numpy.ndarray' object has no attribute 'corr'",
     "output_type": "error",
     "traceback": [
      "\u001b[1;31m---------------------------------------------------------------------------\u001b[0m",
      "\u001b[1;31mAttributeError\u001b[0m                            Traceback (most recent call last)",
      "\u001b[1;32m~\\AppData\\Local\\Temp\\ipykernel_9128\\4261822494.py\u001b[0m in \u001b[0;36m<module>\u001b[1;34m\u001b[0m\n\u001b[0;32m      1\u001b[0m \u001b[1;31m# Criando matriz de correlação\u001b[0m\u001b[1;33m\u001b[0m\u001b[1;33m\u001b[0m\u001b[0m\n\u001b[1;32m----> 2\u001b[1;33m \u001b[0mmatriz_corr\u001b[0m \u001b[1;33m=\u001b[0m \u001b[0mX\u001b[0m\u001b[1;33m.\u001b[0m\u001b[0mcorr\u001b[0m\u001b[1;33m(\u001b[0m\u001b[1;33m)\u001b[0m\u001b[1;33m\u001b[0m\u001b[1;33m\u001b[0m\u001b[0m\n\u001b[0m\u001b[0;32m      3\u001b[0m \u001b[1;33m\u001b[0m\u001b[0m\n\u001b[0;32m      4\u001b[0m \u001b[1;31m# Definindo tamanho do gráfico\u001b[0m\u001b[1;33m\u001b[0m\u001b[1;33m\u001b[0m\u001b[0m\n\u001b[0;32m      5\u001b[0m \u001b[0mplt\u001b[0m\u001b[1;33m.\u001b[0m\u001b[0mfigure\u001b[0m\u001b[1;33m(\u001b[0m\u001b[0mfigsize\u001b[0m\u001b[1;33m=\u001b[0m \u001b[1;33m(\u001b[0m\u001b[1;36m15\u001b[0m\u001b[1;33m,\u001b[0m \u001b[1;36m15\u001b[0m\u001b[1;33m)\u001b[0m\u001b[1;33m)\u001b[0m\u001b[1;33m\u001b[0m\u001b[1;33m\u001b[0m\u001b[0m\n",
      "\u001b[1;31mAttributeError\u001b[0m: 'numpy.ndarray' object has no attribute 'corr'"
     ]
    }
   ],
   "source": [
    "# Criando matriz de correlação\n",
    "matriz_corr = X.corr()\n",
    "\n",
    "# Definindo tamanho do gráfico\n",
    "plt.figure(figsize= (15, 15))\n",
    "\n",
    "# Plot\n",
    "sns.heatmap(matriz_corr, annot= True)\n",
    "plt.show()"
   ]
  },
  {
   "cell_type": "code",
   "execution_count": 8,
   "id": "a42bd510",
   "metadata": {},
   "outputs": [],
   "source": [
    "# Gerando autovalores e autovetores\n",
    "corr = np.corrcoef(X, rowvar = 0)\n",
    "autovalores, autovetores = np.linalg.eig(corr)"
   ]
  },
  {
   "cell_type": "code",
   "execution_count": 9,
   "id": "402e3d59",
   "metadata": {},
   "outputs": [
    {
     "name": "stdout",
     "output_type": "stream",
     "text": [
      "[2.7490527  2.15060181 1.38957148 0.25832588 1.30851882 1.19700823\n",
      " 1.14010534 1.11198316 0.47259932 0.51136472 0.52796821 0.60028429\n",
      " 0.98631114 0.95170869 0.66728539 0.69214294 0.86405228 0.77405565\n",
      " 0.8285285  0.81853144]\n"
     ]
    }
   ],
   "source": [
    "print(autovalores)"
   ]
  },
  {
   "cell_type": "code",
   "execution_count": 10,
   "id": "1a156f73",
   "metadata": {},
   "outputs": [
    {
     "name": "stdout",
     "output_type": "stream",
     "text": [
      "[ 0.00158099  0.56302539 -0.06802126 -0.01731543 -0.7283358   0.02217316\n",
      " -0.04002728 -0.31556196  0.03887058  0.01388291 -0.03078003  0.07126339\n",
      "  0.09510484 -0.00093242 -0.02852861  0.06199382  0.07300098 -0.0163896\n",
      "  0.12804425  0.05001419]\n"
     ]
    }
   ],
   "source": [
    "print(autovetores[:,3])"
   ]
  },
  {
   "cell_type": "code",
   "execution_count": 11,
   "id": "43f63495",
   "metadata": {},
   "outputs": [
    {
     "name": "stdout",
     "output_type": "stream",
     "text": [
      "credit.duration.months credit.amount installment.rate\n"
     ]
    }
   ],
   "source": [
    "print(variaveis[1], variaveis[4], variaveis[7])"
   ]
  },
  {
   "cell_type": "markdown",
   "id": "a0eb49fb",
   "metadata": {},
   "source": [
    "As variáveis **credit.duration.months, credit.amount e installment.rate** são responsáveis pela multicoliniaridade no dataset."
   ]
  },
  {
   "cell_type": "markdown",
   "id": "4306e9f1",
   "metadata": {},
   "source": [
    "### Random Forest"
   ]
  },
  {
   "cell_type": "code",
   "execution_count": 14,
   "id": "17c1ad8d",
   "metadata": {},
   "outputs": [
    {
     "ename": "AttributeError",
     "evalue": "'numpy.ndarray' object has no attribute 'columns'",
     "output_type": "error",
     "traceback": [
      "\u001b[1;31m---------------------------------------------------------------------------\u001b[0m",
      "\u001b[1;31mAttributeError\u001b[0m                            Traceback (most recent call last)",
      "\u001b[1;32m~\\AppData\\Local\\Temp\\ipykernel_9128\\4089475260.py\u001b[0m in \u001b[0;36m<module>\u001b[1;34m\u001b[0m\n\u001b[0;32m     10\u001b[0m \u001b[1;33m\u001b[0m\u001b[0m\n\u001b[0;32m     11\u001b[0m \u001b[1;31m# Buscando os nomes das colunas\u001b[0m\u001b[1;33m\u001b[0m\u001b[1;33m\u001b[0m\u001b[0m\n\u001b[1;32m---> 12\u001b[1;33m \u001b[0mlabels\u001b[0m \u001b[1;33m=\u001b[0m \u001b[0mX\u001b[0m\u001b[1;33m.\u001b[0m\u001b[0mcolumns\u001b[0m\u001b[1;33m\u001b[0m\u001b[1;33m\u001b[0m\u001b[0m\n\u001b[0m\u001b[0;32m     13\u001b[0m \u001b[1;33m\u001b[0m\u001b[0m\n\u001b[0;32m     14\u001b[0m \u001b[1;31m# Obtém os índices\u001b[0m\u001b[1;33m\u001b[0m\u001b[1;33m\u001b[0m\u001b[0m\n",
      "\u001b[1;31mAttributeError\u001b[0m: 'numpy.ndarray' object has no attribute 'columns'"
     ]
    }
   ],
   "source": [
    "# Criando o modelo\n",
    "selec_feature = RandomForestClassifier(n_estimators= 100)\n",
    "\n",
    "# Treinando o modelo\n",
    "selec_feature.fit(X, y)\n",
    "\n",
    "# Extraindo a importância\n",
    "importances = selec_feature.feature_importances_\n",
    "indices = np.argsort(importances)\n",
    "\n",
    "# Buscando os nomes das colunas\n",
    "labels = X.columns\n",
    "\n",
    "# Obtém os índices\n",
    "ind = []\n",
    "\n",
    "for i in indices:\n",
    "    ind.append(labels[i])"
   ]
  },
  {
   "cell_type": "code",
   "execution_count": 15,
   "id": "688a6bc5",
   "metadata": {},
   "outputs": [
    {
     "ename": "NameError",
     "evalue": "name 'ind' is not defined",
     "output_type": "error",
     "traceback": [
      "\u001b[1;31m---------------------------------------------------------------------------\u001b[0m",
      "\u001b[1;31mNameError\u001b[0m                                 Traceback (most recent call last)",
      "\u001b[1;32m~\\AppData\\Local\\Temp\\ipykernel_9128\\392578354.py\u001b[0m in \u001b[0;36m<module>\u001b[1;34m\u001b[0m\n\u001b[0;32m      3\u001b[0m \u001b[0mplt\u001b[0m\u001b[1;33m.\u001b[0m\u001b[0mtitle\u001b[0m\u001b[1;33m(\u001b[0m\u001b[1;34m'Importância dos Atributos'\u001b[0m\u001b[1;33m)\u001b[0m\u001b[1;33m\u001b[0m\u001b[1;33m\u001b[0m\u001b[0m\n\u001b[0;32m      4\u001b[0m \u001b[0mplt\u001b[0m\u001b[1;33m.\u001b[0m\u001b[0mbarh\u001b[0m\u001b[1;33m(\u001b[0m\u001b[0mrange\u001b[0m\u001b[1;33m(\u001b[0m\u001b[0mlen\u001b[0m\u001b[1;33m(\u001b[0m\u001b[0mindices\u001b[0m\u001b[1;33m)\u001b[0m\u001b[1;33m)\u001b[0m\u001b[1;33m,\u001b[0m \u001b[0mimportances\u001b[0m\u001b[1;33m[\u001b[0m\u001b[0mindices\u001b[0m\u001b[1;33m]\u001b[0m\u001b[1;33m,\u001b[0m \u001b[0mcolor\u001b[0m\u001b[1;33m=\u001b[0m \u001b[1;34m'b'\u001b[0m\u001b[1;33m,\u001b[0m \u001b[0malign\u001b[0m\u001b[1;33m=\u001b[0m \u001b[1;34m'center'\u001b[0m\u001b[1;33m)\u001b[0m\u001b[1;33m\u001b[0m\u001b[1;33m\u001b[0m\u001b[0m\n\u001b[1;32m----> 5\u001b[1;33m \u001b[0mplt\u001b[0m\u001b[1;33m.\u001b[0m\u001b[0myticks\u001b[0m\u001b[1;33m(\u001b[0m\u001b[0mrange\u001b[0m\u001b[1;33m(\u001b[0m\u001b[0mlen\u001b[0m\u001b[1;33m(\u001b[0m\u001b[0mindices\u001b[0m\u001b[1;33m)\u001b[0m\u001b[1;33m)\u001b[0m\u001b[1;33m,\u001b[0m \u001b[0mind\u001b[0m\u001b[1;33m)\u001b[0m\u001b[1;33m\u001b[0m\u001b[1;33m\u001b[0m\u001b[0m\n\u001b[0m\u001b[0;32m      6\u001b[0m \u001b[0mplt\u001b[0m\u001b[1;33m.\u001b[0m\u001b[0mxlabel\u001b[0m\u001b[1;33m(\u001b[0m\u001b[1;34m'Importância Relativa'\u001b[0m\u001b[1;33m)\u001b[0m\u001b[1;33m\u001b[0m\u001b[1;33m\u001b[0m\u001b[0m\n\u001b[0;32m      7\u001b[0m \u001b[0mplt\u001b[0m\u001b[1;33m.\u001b[0m\u001b[0mshow\u001b[0m\u001b[1;33m(\u001b[0m\u001b[1;33m)\u001b[0m\u001b[1;33m\u001b[0m\u001b[1;33m\u001b[0m\u001b[0m\n",
      "\u001b[1;31mNameError\u001b[0m: name 'ind' is not defined"
     ]
    },
    {
     "data": {
      "image/png": "[encoded data removed]",
      "text/plain": [
       "<Figure size 640x480 with 1 Axes>"
      ]
     },
     "metadata": {},
     "output_type": "display_data"
    }
   ],
   "source": [
    "# Plot da Importância dos Atributos\n",
    "plt.figure(1)\n",
    "plt.title('Importância dos Atributos')\n",
    "plt.barh(range(len(indices)), importances[indices], color= 'b', align= 'center')\n",
    "plt.yticks(range(len(indices)), ind)\n",
    "plt.xlabel('Importância Relativa')\n",
    "plt.show()"
   ]
  },
  {
   "cell_type": "markdown",
   "id": "3bf8ee3e",
   "metadata": {},
   "source": [
    "## Treinamento do Modelo"
   ]
  },
  {
   "cell_type": "markdown",
   "id": "56676e35",
   "metadata": {},
   "source": [
    "* 1º Dataset: conterá todas as variáveis.\n",
    "* 2º Dataset: Será removido as variáveis foreign.worker, dependents, guarantor, telephone, occupation e installment.rate."
   ]
  },
  {
   "cell_type": "code",
   "execution_count": 16,
   "id": "7561e3db",
   "metadata": {},
   "outputs": [
    {
     "ename": "AttributeError",
     "evalue": "'numpy.ndarray' object has no attribute 'drop'",
     "output_type": "error",
     "traceback": [
      "\u001b[1;31m---------------------------------------------------------------------------\u001b[0m",
      "\u001b[1;31mAttributeError\u001b[0m                            Traceback (most recent call last)",
      "\u001b[1;32m~\\AppData\\Local\\Temp\\ipykernel_9128\\1830960259.py\u001b[0m in \u001b[0;36m<module>\u001b[1;34m\u001b[0m\n\u001b[0;32m      3\u001b[0m \u001b[1;33m\u001b[0m\u001b[0m\n\u001b[0;32m      4\u001b[0m \u001b[1;31m# 2º Dataset\u001b[0m\u001b[1;33m\u001b[0m\u001b[1;33m\u001b[0m\u001b[0m\n\u001b[1;32m----> 5\u001b[1;33m \u001b[0mX\u001b[0m \u001b[1;33m=\u001b[0m \u001b[0mX\u001b[0m\u001b[1;33m.\u001b[0m\u001b[0mdrop\u001b[0m\u001b[1;33m(\u001b[0m\u001b[0mcolumns\u001b[0m\u001b[1;33m=\u001b[0m \u001b[1;33m[\u001b[0m\u001b[1;34m'foreign.worker'\u001b[0m\u001b[1;33m,\u001b[0m \u001b[1;34m'dependents'\u001b[0m\u001b[1;33m,\u001b[0m \u001b[1;34m'guarantor'\u001b[0m\u001b[1;33m,\u001b[0m \u001b[1;34m'telephone'\u001b[0m\u001b[1;33m,\u001b[0m \u001b[1;34m'occupation'\u001b[0m\u001b[1;33m,\u001b[0m \u001b[1;34m'installment.rate'\u001b[0m\u001b[1;33m,\u001b[0m \u001b[1;34m'bank.credits'\u001b[0m\u001b[1;33m,\u001b[0m \u001b[1;34m'apartment.type'\u001b[0m\u001b[1;33m,\u001b[0m \u001b[1;34m'other.credits'\u001b[0m\u001b[1;33m]\u001b[0m\u001b[1;33m)\u001b[0m\u001b[1;33m\u001b[0m\u001b[1;33m\u001b[0m\u001b[0m\n\u001b[0m",
      "\u001b[1;31mAttributeError\u001b[0m: 'numpy.ndarray' object has no attribute 'drop'"
     ]
    }
   ],
   "source": [
    "# 1º Dataset\n",
    "# X = X.copy()\n",
    "\n",
    "# 2º Dataset\n",
    "X = X.drop(columns= ['foreign.worker', 'dependents', 'guarantor', 'telephone', 'occupation', 'installment.rate', 'bank.credits', 'apartment.type', 'other.credits'])"
   ]
  },
  {
   "cell_type": "markdown",
   "id": "2ae2e9c2",
   "metadata": {},
   "source": [
    "### Regressão Logística"
   ]
  },
  {
   "cell_type": "code",
   "execution_count": 17,
   "id": "87934bc0",
   "metadata": {},
   "outputs": [
    {
     "name": "stdout",
     "output_type": "stream",
     "text": [
      "Acurácia: 0.8119047619047619\n",
      "Matriz de Confusão:\n",
      "[[175  35]\n",
      " [ 44 166]]\n",
      "Relatório de Classificação:\n",
      "              precision    recall  f1-score   support\n",
      "\n",
      "           0       0.80      0.83      0.82       210\n",
      "           1       0.83      0.79      0.81       210\n",
      "\n",
      "    accuracy                           0.81       420\n",
      "   macro avg       0.81      0.81      0.81       420\n",
      "weighted avg       0.81      0.81      0.81       420\n",
      "\n"
     ]
    }
   ],
   "source": [
    "# Divisão de treino e teste\n",
    "X_train, X_test, y_train, y_test = train_test_split(X, y, test_size= 0.3)\n",
    "\n",
    "# Treinando o modelo\n",
    "modelo_lr_v1 = LogisticRegression()\n",
    "modelo_lr_v1.fit(X_train, y_train)\n",
    "\n",
    "# Previsões\n",
    "y_pred = modelo_lr_v1.predict(X_test)\n",
    "\n",
    "# Avaliação do modelo\n",
    "accuracy = accuracy_score(y_test, y_pred)\n",
    "conf_matrix = confusion_matrix(y_test, y_pred)\n",
    "classification_rep = classification_report(y_test, y_pred)\n",
    "\n",
    "print(f'Acurácia: {accuracy}')\n",
    "print(f'Matriz de Confusão:\\n{conf_matrix}')\n",
    "print(f'Relatório de Classificação:\\n{classification_rep}')"
   ]
  },
  {
   "cell_type": "markdown",
   "id": "a21ba7d6",
   "metadata": {},
   "source": [
    "## K-Nearest Neighbor"
   ]
  },
  {
   "cell_type": "code",
   "execution_count": 18,
   "id": "44a80bde",
   "metadata": {},
   "outputs": [],
   "source": [
    "# Divisão em dados de treino e de teste\n",
    "X_train, X_test, y_train, y_test = train_test_split(X, y, test_size = 0.20)"
   ]
  },
  {
   "cell_type": "code",
   "execution_count": 19,
   "id": "1a92e38f",
   "metadata": {},
   "outputs": [],
   "source": [
    "# Divisão dos dados de treino em dados de treino e dados de validação\n",
    "X_train, X_val, y_train, y_val = train_test_split(X_train, y_train, test_size = 0.1)"
   ]
  },
  {
   "cell_type": "code",
   "execution_count": 20,
   "id": "bfb96885",
   "metadata": {},
   "outputs": [
    {
     "name": "stdout",
     "output_type": "stream",
     "text": [
      "Registros de Treino: 1008\n",
      "Registros de Validação: 112\n",
      "Registros de Teste: 280\n"
     ]
    }
   ],
   "source": [
    "# Número de registros em cada dataset\n",
    "print(\"Registros de Treino: {}\".format(len(X_train)))\n",
    "print(\"Registros de Validação: {}\".format(len(X_val)))\n",
    "print(\"Registros de Teste: {}\".format(len(X_test)))"
   ]
  },
  {
   "cell_type": "code",
   "execution_count": 21,
   "id": "8c8c3e81",
   "metadata": {},
   "outputs": [
    {
     "name": "stdout",
     "output_type": "stream",
     "text": [
      "Com valor de k = 1, a acurácia é = 81.25%\n",
      "Com valor de k = 3, a acurácia é = 80.36%\n",
      "Com valor de k = 5, a acurácia é = 75.89%\n",
      "Com valor de k = 7, a acurácia é = 74.11%\n",
      "Com valor de k = 9, a acurácia é = 76.79%\n",
      "Com valor de k = 11, a acurácia é = 77.68%\n",
      "Com valor de k = 13, a acurácia é = 75.00%\n",
      "Com valor de k = 15, a acurácia é = 76.79%\n",
      "Com valor de k = 17, a acurácia é = 75.00%\n",
      "Com valor de k = 19, a acurácia é = 74.11%\n",
      "Com valor de k = 21, a acurácia é = 73.21%\n",
      "Com valor de k = 23, a acurácia é = 74.11%\n",
      "Com valor de k = 25, a acurácia é = 76.79%\n",
      "Com valor de k = 27, a acurácia é = 78.57%\n",
      "Com valor de k = 29, a acurácia é = 76.79%\n"
     ]
    }
   ],
   "source": [
    "# Range de valores de k\n",
    "kVals = range(1, 30, 2)\n",
    "\n",
    "# Lista para receber o valor de acurácia\n",
    "acuracias = []\n",
    "\n",
    "# Loop em todos os valores de k para testar cada um deles\n",
    "for k in kVals:\n",
    "    \n",
    "    # Treinando o modelo KNN com cada valor de k\n",
    "    modeloKNN = KNeighborsClassifier(n_neighbors = k)\n",
    "    modeloKNN.fit(X_train, y_train)\n",
    "          \n",
    "    # Avaliando o modelo e atualizando a lista de acurácias\n",
    "    score = modeloKNN.score(X_val, y_val)\n",
    "    print(\"Com valor de k = %d, a acurácia é = %.2f%%\" % (k, score * 100))\n",
    "    acuracias.append(score)"
   ]
  },
  {
   "cell_type": "code",
   "execution_count": 22,
   "id": "99d363e8",
   "metadata": {},
   "outputs": [
    {
     "name": "stdout",
     "output_type": "stream",
     "text": [
      "O valor de k = 1 alcançou a mais alta acurácia de 81.25% nos dados de validação!\n"
     ]
    }
   ],
   "source": [
    "# Obtendo o valor de k que apresentou a maior acurácia\n",
    "i = np.argmax(acuracias)\n",
    "print(\"O valor de k = %d alcançou a mais alta acurácia de %.2f%% nos dados de validação!\" % (kVals[i], \n",
    "                                                                                             acuracias[i] * 100))"
   ]
  },
  {
   "cell_type": "markdown",
   "id": "6d4f64f9",
   "metadata": {},
   "source": [
    "**Primeira Versão**"
   ]
  },
  {
   "cell_type": "code",
   "execution_count": 23,
   "id": "1bc236ac",
   "metadata": {},
   "outputs": [
    {
     "name": "stdout",
     "output_type": "stream",
     "text": [
      "Acurácia: 0.7821428571428571\n",
      "Matriz de Confusão:\n",
      "[[113  26]\n",
      " [ 35 106]]\n",
      "Relatório de Classificação:\n",
      "              precision    recall  f1-score   support\n",
      "\n",
      "           0       0.76      0.81      0.79       139\n",
      "           1       0.80      0.75      0.78       141\n",
      "\n",
      "    accuracy                           0.78       280\n",
      "   macro avg       0.78      0.78      0.78       280\n",
      "weighted avg       0.78      0.78      0.78       280\n",
      "\n"
     ]
    }
   ],
   "source": [
    "# Criando a versão final do modelo com o maior valor de k\n",
    "modelo_knn_v1 = KNeighborsClassifier(n_neighbors = kVals[i])\n",
    "\n",
    "# Treinamento do modelo\n",
    "modelo_knn_v1.fit(X_train, y_train)\n",
    "\n",
    "# Previsões com os dados de teste\n",
    "y_pred = modelo_knn_v1.predict(X_test)\n",
    "\n",
    "# Avaliação do modelo\n",
    "accuracy = accuracy_score(y_test, y_pred)\n",
    "conf_matrix = confusion_matrix(y_test, y_pred)\n",
    "classification_rep = classification_report(y_test, y_pred)\n",
    "\n",
    "print(f'Acurácia: {accuracy}')\n",
    "print(f'Matriz de Confusão:\\n{conf_matrix}')\n",
    "print(f'Relatório de Classificação:\\n{classification_rep}')"
   ]
  },
  {
   "cell_type": "markdown",
   "id": "b17371e7",
   "metadata": {},
   "source": [
    "**Segunda Versão**"
   ]
  },
  {
   "cell_type": "code",
   "execution_count": 24,
   "id": "0700da15",
   "metadata": {},
   "outputs": [
    {
     "name": "stdout",
     "output_type": "stream",
     "text": [
      "Melhores hiperparâmetros encontrados: {'metric': 'minkowski', 'p': 1, 'weights': 'uniform'}\n",
      "Acurácia: 0.8428571428571429\n",
      "Matriz de Confusão:\n",
      "[[124  15]\n",
      " [ 29 112]]\n",
      "Relatório de Classificação:\n",
      "              precision    recall  f1-score   support\n",
      "\n",
      "           0       0.81      0.89      0.85       139\n",
      "           1       0.88      0.79      0.84       141\n",
      "\n",
      "    accuracy                           0.84       280\n",
      "   macro avg       0.85      0.84      0.84       280\n",
      "weighted avg       0.85      0.84      0.84       280\n",
      "\n"
     ]
    }
   ],
   "source": [
    "# Criando a versão final do modelo com o maior valor de k\n",
    "modelo_knn_v2 = KNeighborsClassifier(n_neighbors = kVals[i])\n",
    "\n",
    "param = {'weights': ['uniform', 'distance'], \n",
    "         'p': [1, 2, 3, 4, 5], \n",
    "         'metric': ['euclidean', 'manhattam', 'minkowski']}\n",
    "\n",
    "grid_search = GridSearchCV(modelo_knn_v2, param_grid= param, cv= 5, scoring= 'accuracy', n_jobs= 3)\n",
    "\n",
    "# Treinando o modelo com GridSearchCV\n",
    "grid_search.fit(X_train, y_train)\n",
    "\n",
    "# Os melhores parâmetros\n",
    "top_param = grid_search.best_params_\n",
    "print(\"Melhores hiperparâmetros encontrados:\", top_param)\n",
    "\n",
    "# Treinando com o melhor modelo\n",
    "modelo_knn_v2 = grid_search.best_estimator_\n",
    "\n",
    "# Previsões com os dados de teste\n",
    "y_pred = modelo_knn_v2.predict(X_test)\n",
    "\n",
    "# Avaliação do modelo\n",
    "accuracy = accuracy_score(y_test, y_pred)\n",
    "conf_matrix = confusion_matrix(y_test, y_pred)\n",
    "classification_rep = classification_report(y_test, y_pred)\n",
    "\n",
    "print(f'Acurácia: {accuracy}')\n",
    "print(f'Matriz de Confusão:\\n{conf_matrix}')\n",
    "print(f'Relatório de Classificação:\\n{classification_rep}')"
   ]
  },
  {
   "cell_type": "markdown",
   "id": "35f3aff2",
   "metadata": {},
   "source": [
    "### Naive Bayes BernoulliNB"
   ]
  },
  {
   "cell_type": "code",
   "execution_count": 25,
   "id": "cd587a34",
   "metadata": {},
   "outputs": [
    {
     "name": "stdout",
     "output_type": "stream",
     "text": [
      "Acurácia: 0.780952380952381\n",
      "Matriz de Confusão:\n",
      "[[161  46]\n",
      " [ 46 167]]\n",
      "Relatório de Classificação:\n",
      "              precision    recall  f1-score   support\n",
      "\n",
      "           0       0.78      0.78      0.78       207\n",
      "           1       0.78      0.78      0.78       213\n",
      "\n",
      "    accuracy                           0.78       420\n",
      "   macro avg       0.78      0.78      0.78       420\n",
      "weighted avg       0.78      0.78      0.78       420\n",
      "\n"
     ]
    }
   ],
   "source": [
    "# Divisão de treino e teste\n",
    "X_train, X_test, y_train, y_test = train_test_split(X, y, test_size= 0.3)\n",
    "\n",
    "# Treinando o modelo\n",
    "modelo_nb_v1 = BernoulliNB()\n",
    "modelo_nb_v1.fit(X_train, y_train)\n",
    "\n",
    "# Previsões com os dados de teste\n",
    "y_pred = modelo_nb_v1.predict(X_test)\n",
    "\n",
    "# Avaliação do modelo\n",
    "accuracy = accuracy_score(y_test, y_pred)\n",
    "conf_matrix = confusion_matrix(y_test, y_pred)\n",
    "classification_rep = classification_report(y_test, y_pred)\n",
    "\n",
    "print(f'Acurácia: {accuracy}')\n",
    "print(f'Matriz de Confusão:\\n{conf_matrix}')\n",
    "print(f'Relatório de Classificação:\\n{classification_rep}')"
   ]
  },
  {
   "cell_type": "markdown",
   "id": "7517598a",
   "metadata": {},
   "source": [
    "### Decision Tree Classifier"
   ]
  },
  {
   "cell_type": "code",
   "execution_count": 26,
   "id": "0aad8535",
   "metadata": {},
   "outputs": [
    {
     "name": "stdout",
     "output_type": "stream",
     "text": [
      "Acurácia: 0.7452380952380953\n",
      "Matriz de Confusão:\n",
      "[[160  47]\n",
      " [ 60 153]]\n",
      "Relatório de Classificação:\n",
      "              precision    recall  f1-score   support\n",
      "\n",
      "           0       0.73      0.77      0.75       207\n",
      "           1       0.77      0.72      0.74       213\n",
      "\n",
      "    accuracy                           0.75       420\n",
      "   macro avg       0.75      0.75      0.75       420\n",
      "weighted avg       0.75      0.75      0.75       420\n",
      "\n"
     ]
    }
   ],
   "source": [
    "# Instânciando o modelo\n",
    "modelo_decisionTree_v1 = DecisionTreeClassifier(max_depth = None, \n",
    "                                                max_features = None, \n",
    "                                                criterion = 'gini', \n",
    "                                                min_samples_leaf = 1, \n",
    "                                                min_samples_split = 2)\n",
    "\n",
    "# Treinando o modelo\n",
    "modelo_decisionTree_v1.fit(X_train, y_train)\n",
    "\n",
    "# Previsões com os dados de teste\n",
    "y_pred = modelo_decisionTree_v1.predict(X_test)\n",
    "\n",
    "# Avaliação do modelo\n",
    "accuracy = accuracy_score(y_test, y_pred)\n",
    "conf_matrix = confusion_matrix(y_test, y_pred)\n",
    "classification_rep = classification_report(y_test, y_pred)\n",
    "\n",
    "print(f'Acurácia: {accuracy}')\n",
    "print(f'Matriz de Confusão:\\n{conf_matrix}')\n",
    "print(f'Relatório de Classificação:\\n{classification_rep}')"
   ]
  },
  {
   "cell_type": "markdown",
   "id": "4a3a3185",
   "metadata": {},
   "source": [
    "### Random Forest Classifier"
   ]
  },
  {
   "cell_type": "markdown",
   "id": "23673626",
   "metadata": {},
   "source": [
    "**Primeira Versão**"
   ]
  },
  {
   "cell_type": "code",
   "execution_count": 54,
   "id": "a68d2bec",
   "metadata": {},
   "outputs": [
    {
     "name": "stdout",
     "output_type": "stream",
     "text": [
      "Acurácia: 0.8357142857142857\n",
      "Matriz de Confusão:\n",
      "[[184  23]\n",
      " [ 46 167]]\n",
      "Relatório de Classificação:\n",
      "              precision    recall  f1-score   support\n",
      "\n",
      "           0       0.80      0.89      0.84       207\n",
      "           1       0.88      0.78      0.83       213\n",
      "\n",
      "    accuracy                           0.84       420\n",
      "   macro avg       0.84      0.84      0.84       420\n",
      "weighted avg       0.84      0.84      0.84       420\n",
      "\n"
     ]
    }
   ],
   "source": [
    "# Instanciando o modelo\n",
    "modelo_randomForest_v1 = RandomForestClassifier(n_estimators= 1000, \n",
    "                                                max_depth= 5, \n",
    "                                                max_features= 3, \n",
    "                                                criterion= 'gini', \n",
    "                                                min_samples_leaf= 1, \n",
    "                                                min_samples_split= 2, \n",
    "                        )\n",
    "\n",
    "# Treinando o modelo\n",
    "modelo_randomForest_v1.fit(X_train, y_train)\n",
    "\n",
    "# Previsões com os dados de teste\n",
    "y_pred = modelo_randomForest_v1.predict(X_test)\n",
    "\n",
    "# Avaliação do modelo\n",
    "accuracy = accuracy_score(y_test, y_pred)\n",
    "conf_matrix = confusion_matrix(y_test, y_pred)\n",
    "classification_rep = classification_report(y_test, y_pred)\n",
    "\n",
    "print(f'Acurácia: {accuracy}')\n",
    "print(f'Matriz de Confusão:\\n{conf_matrix}')\n",
    "print(f'Relatório de Classificação:\\n{classification_rep}')"
   ]
  },
  {
   "cell_type": "markdown",
   "id": "119d9814",
   "metadata": {},
   "source": [
    "**Segunda Versão**"
   ]
  },
  {
   "cell_type": "code",
   "execution_count": 26,
   "id": "3fcff309",
   "metadata": {},
   "outputs": [
    {
     "name": "stdout",
     "output_type": "stream",
     "text": [
      "Melhores hiperparâmetros encontrados: {'bootstrap': True, 'criterion': 'entropy', 'max_depth': 50, 'max_features': 1, 'min_samples_leaf': 1, 'min_samples_split': 2, 'n_estimators': 300}\n",
      "Acurácia: 0.8071428571428572\n",
      "Matriz de Confusão:\n",
      "[[180  37]\n",
      " [ 44 159]]\n",
      "Relatório de Classificação:\n",
      "              precision    recall  f1-score   support\n",
      "\n",
      "           0       0.80      0.83      0.82       217\n",
      "           1       0.81      0.78      0.80       203\n",
      "\n",
      "    accuracy                           0.81       420\n",
      "   macro avg       0.81      0.81      0.81       420\n",
      "weighted avg       0.81      0.81      0.81       420\n",
      "\n"
     ]
    }
   ],
   "source": [
    "# Instanciando o modelo\n",
    "modelo_randomForest_v2 = RandomForestClassifier()\n",
    "\n",
    "# Definindo os parâmetros\n",
    "param = {'max_depth': [None, 5, 10, 25], \n",
    "         'n_estimators': [300, 500, 1000],\n",
    "         'max_features': ['sqrt', 'log2', None], \n",
    "         'min_samples_leaf': [1, 3, 5], \n",
    "         'min_samples_split': [2, 3, 5],\n",
    "         'bootstrap': [True, False], \n",
    "         'criterion': ['gini', 'entropy']}\n",
    "\n",
    "grid_search = GridSearchCV(modelo_randomForest_v2, param_grid= param, cv= 5, scoring= 'accuracy', n_jobs= 3)\n",
    "\n",
    "# Treinando o modelo com GridSearchCV\n",
    "grid_search.fit(X_train, y_train)\n",
    "\n",
    "# Os melhores parâmetros\n",
    "top_param = grid_search.best_params_\n",
    "print(\"Melhores hiperparâmetros encontrados:\", top_param)\n",
    "\n",
    "# Treinando com o melhor modelo\n",
    "modelo_randomForest_v2 = grid_search.best_estimator_\n",
    "\n",
    "# Previsões com os dados de teste\n",
    "y_pred = modelo_randomForest_v2.predict(X_test)\n",
    "\n",
    "# Avaliação do modelo\n",
    "accuracy = accuracy_score(y_test, y_pred)\n",
    "conf_matrix = confusion_matrix(y_test, y_pred)\n",
    "classification_rep = classification_report(y_test, y_pred)\n",
    "\n",
    "print(f'Acurácia: {accuracy}')\n",
    "print(f'Matriz de Confusão:\\n{conf_matrix}')\n",
    "print(f'Relatório de Classificação:\\n{classification_rep}')"
   ]
  },
  {
   "cell_type": "markdown",
   "id": "bfe4d178",
   "metadata": {},
   "source": [
    "**Terceira Versão**"
   ]
  },
  {
   "cell_type": "code",
   "execution_count": 113,
   "id": "18645648",
   "metadata": {},
   "outputs": [
    {
     "name": "stdout",
     "output_type": "stream",
     "text": [
      "Melhores hiperparâmetros encontrados: OrderedDict([('bootstrap', True), ('class_weight', 'balanced'), ('criterion', 'gini'), ('max_depth', 14), ('max_features', 'sqrt'), ('min_samples_leaf', 2), ('min_samples_split', 2), ('n_estimators', 1196)])\n",
      "Acurácia: 0.8357142857142857\n",
      "Matriz de Confusão:\n",
      "[[180  27]\n",
      " [ 42 171]]\n",
      "Relatório de Classificação:\n",
      "              precision    recall  f1-score   support\n",
      "\n",
      "           0       0.81      0.87      0.84       207\n",
      "           1       0.86      0.80      0.83       213\n",
      "\n",
      "    accuracy                           0.84       420\n",
      "   macro avg       0.84      0.84      0.84       420\n",
      "weighted avg       0.84      0.84      0.84       420\n",
      "\n"
     ]
    }
   ],
   "source": [
    "# Instanciando o modelo\n",
    "modelo_randomForest_v3 = RandomForestClassifier()\n",
    "\n",
    "# Definindo os parâmetros\n",
    "param = {'max_depth': Integer(2, 16), \n",
    "         'n_estimators': Integer(300, 3000),\n",
    "         'max_features': Categorical(['sqrt', 'log2', None]), \n",
    "         'min_samples_leaf': Integer(2, 25), \n",
    "         'min_samples_split': Integer(2, 50),\n",
    "         'bootstrap': Categorical([True, False]), \n",
    "         'criterion': Categorical(['gini', 'entropy', 'log_loss']), \n",
    "         'class_weight': Categorical(['balanced', 'balanced_subsample', None])}\n",
    "\n",
    "bayses_search = BayesSearchCV(modelo_randomForest_v3, param, n_iter= 50, cv= 5, scoring= 'accuracy', n_jobs= 3)\n",
    "\n",
    "# Treinando o modelo com GridSearchCV\n",
    "bayses_search.fit(X_train, y_train)\n",
    "\n",
    "# Os melhores parâmetros\n",
    "top_param = bayses_search.best_params_\n",
    "print(\"Melhores hiperparâmetros encontrados:\", top_param)\n",
    "\n",
    "# Treinando com o melhor modelo\n",
    "modelo_randomForest_v3 = bayses_search.best_estimator_\n",
    "\n",
    "# Previsões com os dados de teste\n",
    "y_pred = modelo_randomForest_v3.predict(X_test)\n",
    "\n",
    "# Avaliação do modelo\n",
    "accuracy = accuracy_score(y_test, y_pred)\n",
    "conf_matrix = confusion_matrix(y_test, y_pred)\n",
    "classification_rep = classification_report(y_test, y_pred)\n",
    "\n",
    "print(f'Acurácia: {accuracy}')\n",
    "print(f'Matriz de Confusão:\\n{conf_matrix}')\n",
    "print(f'Relatório de Classificação:\\n{classification_rep}')"
   ]
  },
  {
   "cell_type": "markdown",
   "id": "bc0dd049",
   "metadata": {},
   "source": [
    "### Bagging Classifier"
   ]
  },
  {
   "cell_type": "markdown",
   "id": "414ee783",
   "metadata": {},
   "source": [
    "**Primeira Versão**"
   ]
  },
  {
   "cell_type": "code",
   "execution_count": 55,
   "id": "fe272e7c",
   "metadata": {},
   "outputs": [
    {
     "name": "stdout",
     "output_type": "stream",
     "text": [
      "Acurácia: 0.8214285714285714\n",
      "Matriz de Confusão:\n",
      "[[177  30]\n",
      " [ 45 168]]\n",
      "Relatório de Classificação:\n",
      "              precision    recall  f1-score   support\n",
      "\n",
      "           0       0.80      0.86      0.83       207\n",
      "           1       0.85      0.79      0.82       213\n",
      "\n",
      "    accuracy                           0.82       420\n",
      "   macro avg       0.82      0.82      0.82       420\n",
      "weighted avg       0.82      0.82      0.82       420\n",
      "\n"
     ]
    }
   ],
   "source": [
    "# Instanciando o modelo\n",
    "modelo_bagging_v1 = BaggingClassifier(KNeighborsClassifier(), n_estimators= 1000, max_samples = 0.5, max_features = 0.5)\n",
    "\n",
    "# Treinando o modelo\n",
    "modelo_bagging_v1.fit(X_train, y_train)\n",
    "\n",
    "# Previsões com os dados de teste\n",
    "y_pred = modelo_bagging_v1.predict(X_test)\n",
    "\n",
    "# Avaliação do modelo\n",
    "accuracy = accuracy_score(y_test, y_pred)\n",
    "conf_matrix = confusion_matrix(y_test, y_pred)\n",
    "classification_rep = classification_report(y_test, y_pred)\n",
    "\n",
    "print(f'Acurácia: {accuracy}')\n",
    "print(f'Matriz de Confusão:\\n{conf_matrix}')\n",
    "print(f'Relatório de Classificação:\\n{classification_rep}')"
   ]
  },
  {
   "cell_type": "markdown",
   "id": "4369d63f",
   "metadata": {},
   "source": [
    "**Segunda Versão**"
   ]
  },
  {
   "cell_type": "code",
   "execution_count": 28,
   "id": "2bca6df7",
   "metadata": {},
   "outputs": [
    {
     "name": "stdout",
     "output_type": "stream",
     "text": [
      "Melhores hiperparâmetros encontrados: {'bootstrap': False, 'max_features': 0.8, 'max_samples': 0.8, 'n_estimators': 1000}\n",
      "Acurácia: 0.8047619047619048\n",
      "Matriz de Confusão:\n",
      "[[183  34]\n",
      " [ 48 155]]\n",
      "Relatório de Classificação:\n",
      "              precision    recall  f1-score   support\n",
      "\n",
      "           0       0.79      0.84      0.82       217\n",
      "           1       0.82      0.76      0.79       203\n",
      "\n",
      "    accuracy                           0.80       420\n",
      "   macro avg       0.81      0.80      0.80       420\n",
      "weighted avg       0.81      0.80      0.80       420\n",
      "\n"
     ]
    }
   ],
   "source": [
    "# Instanciando o modelo\n",
    "modelo_bagging_v2 = BaggingClassifier(KNeighborsClassifier())\n",
    "\n",
    "# Parâmetros\n",
    "param = {'n_estimators': [300, 500, 1000, 3000], \n",
    "       'max_samples': [0.3, 0.5, 0.8], \n",
    "       'max_features': [0.3, 0.5, 0.8], \n",
    "       'bootstrap': [True, False], \n",
    "       }\n",
    "\n",
    "grid_search = GridSearchCV(modelo_bagging_v2, param_grid= param, cv= 5, scoring= 'accuracy', n_jobs= 3)\n",
    "\n",
    "# Treinando o modelo com GridSearchCV\n",
    "grid_search.fit(X_train, y_train)\n",
    "\n",
    "# Os melhores parâmetros\n",
    "top_param = grid_search.best_params_\n",
    "print(\"Melhores hiperparâmetros encontrados:\", top_param)\n",
    "\n",
    "# Treinando com o melhor modelo\n",
    "modelo_bagging_v2 = grid_search.best_estimator_\n",
    "\n",
    "# Previsões com os dados de teste\n",
    "y_pred = modelo_bagging_v2.predict(X_test)\n",
    "\n",
    "# Avaliação do modelo\n",
    "accuracy = accuracy_score(y_test, y_pred)\n",
    "conf_matrix = confusion_matrix(y_test, y_pred)\n",
    "classification_rep = classification_report(y_test, y_pred)\n",
    "\n",
    "print(f'Acurácia: {accuracy}')\n",
    "print(f'Matriz de Confusão:\\n{conf_matrix}')\n",
    "print(f'Relatório de Classificação:\\n{classification_rep}')"
   ]
  },
  {
   "cell_type": "markdown",
   "id": "73d32a6f",
   "metadata": {},
   "source": [
    "**Terceira Versão**"
   ]
  },
  {
   "cell_type": "code",
   "execution_count": 29,
   "id": "63a77ad8",
   "metadata": {},
   "outputs": [
    {
     "name": "stdout",
     "output_type": "stream",
     "text": [
      "Melhores hiperparâmetros encontrados: {'base_estimator__metric': 'manhattan', 'base_estimator__n_neighbors': 7, 'base_estimator__p': 1, 'base_estimator__weights': 'distance', 'bootstrap': False, 'max_features': 0.3, 'max_samples': 0.7, 'n_estimators': 300}\n",
      "Acurácia: 0.8095238095238095\n",
      "Matriz de Confusão:\n",
      "[[171  46]\n",
      " [ 34 169]]\n",
      "Relatório de Classificação:\n",
      "              precision    recall  f1-score   support\n",
      "\n",
      "           0       0.83      0.79      0.81       217\n",
      "           1       0.79      0.83      0.81       203\n",
      "\n",
      "    accuracy                           0.81       420\n",
      "   macro avg       0.81      0.81      0.81       420\n",
      "weighted avg       0.81      0.81      0.81       420\n",
      "\n"
     ]
    }
   ],
   "source": [
    "# Instanciando o modelo\n",
    "modelo_bagging_v3 = BaggingClassifier(KNeighborsClassifier())\n",
    "\n",
    "# Parâmetros\n",
    "param = {\n",
    "    'n_estimators': [300, 500, 1000, 3000],\n",
    "    'max_samples': [0.3, 0.5, 0.7],\n",
    "    'max_features': [0.3, 0.5, 0.7],\n",
    "    'bootstrap': [True, False],\n",
    "    'base_estimator__n_neighbors': [3, 5, 7],\n",
    "    'base_estimator__weights': ['uniform', 'distance'],\n",
    "    'base_estimator__p': [1, 2],\n",
    "    'base_estimator__metric': ['euclidean', 'manhattan', 'minkowski'],\n",
    "}\n",
    "\n",
    "grid_search = GridSearchCV(modelo_bagging_v3, param_grid= param, cv= 5, scoring= 'accuracy', n_jobs= 3)\n",
    "\n",
    "# Treinando o modelo com GridSearchCV\n",
    "grid_search.fit(X_train, y_train)\n",
    "\n",
    "# Os melhores parâmetros\n",
    "top_param = grid_search.best_params_\n",
    "print(\"Melhores hiperparâmetros encontrados:\", top_param)\n",
    "\n",
    "# Treinando com o melhor modelo\n",
    "modelo_bagging_v3 = grid_search.best_estimator_\n",
    "\n",
    "# Previsões com os dados de teste\n",
    "y_pred = modelo_bagging_v3.predict(X_test)\n",
    "\n",
    "# Avaliação do modelo\n",
    "accuracy = accuracy_score(y_test, y_pred)\n",
    "conf_matrix = confusion_matrix(y_test, y_pred)\n",
    "classification_rep = classification_report(y_test, y_pred)\n",
    "\n",
    "print(f'Acurácia: {accuracy}')\n",
    "print(f'Matriz de Confusão:\\n{conf_matrix}')\n",
    "print(f'Relatório de Classificação:\\n{classification_rep}')"
   ]
  },
  {
   "cell_type": "markdown",
   "id": "2cf37f01",
   "metadata": {},
   "source": [
    "**Quarta Versão**"
   ]
  },
  {
   "cell_type": "code",
   "execution_count": 122,
   "id": "13c071a8",
   "metadata": {},
   "outputs": [
    {
     "name": "stdout",
     "output_type": "stream",
     "text": [
      "Melhores hiperparâmetros encontrados: OrderedDict([('base_estimator__metric', 'minkowski'), ('base_estimator__n_neighbors', 1), ('base_estimator__p', 1), ('base_estimator__weights', 'uniform'), ('bootstrap', True), ('max_features', 0.2), ('max_samples', 0.8), ('n_estimators', 1000)])\n",
      "Acurácia: 0.8452380952380952\n",
      "Matriz de Confusão:\n",
      "[[177  30]\n",
      " [ 35 178]]\n",
      "Relatório de Classificação:\n",
      "              precision    recall  f1-score   support\n",
      "\n",
      "           0       0.83      0.86      0.84       207\n",
      "           1       0.86      0.84      0.85       213\n",
      "\n",
      "    accuracy                           0.85       420\n",
      "   macro avg       0.85      0.85      0.85       420\n",
      "weighted avg       0.85      0.85      0.85       420\n",
      "\n"
     ]
    }
   ],
   "source": [
    "# Instanciando o modelo\n",
    "modelo_bagging_v4 = BaggingClassifier(KNeighborsClassifier())\n",
    "\n",
    "# Parâmetros\n",
    "param = {\n",
    "    'n_estimators': Integer(1000, 5000),\n",
    "    'max_samples': Real(0.2, 0.8),\n",
    "    'max_features': Real(0.2, 0.8),\n",
    "    'bootstrap': Categorical([True, False]),\n",
    "    'base_estimator__n_neighbors': Integer(1, 30),\n",
    "    'base_estimator__weights': Categorical(['uniform', 'distance']),\n",
    "    'base_estimator__p': Integer(1, 25),\n",
    "    'base_estimator__metric': Categorical(['euclidean', 'manhattan', 'minkowski']),\n",
    "}\n",
    "\n",
    "bayses_search = BayesSearchCV(modelo_bagging_v4, param, n_iter=50, cv= 5, scoring= 'accuracy', n_jobs= 3)\n",
    "\n",
    "# Treinando o modelo com GridSearchCV\n",
    "bayses_search.fit(X_train, y_train)\n",
    "\n",
    "# Os melhores parâmetros\n",
    "top_param = bayses_search.best_params_\n",
    "print(\"Melhores hiperparâmetros encontrados:\", top_param)\n",
    "\n",
    "# Treinando com o melhor modelo\n",
    "modelo_bagging_v4 = bayses_search.best_estimator_\n",
    "\n",
    "# Previsões com os dados de teste\n",
    "y_pred = modelo_bagging_v4.predict(X_test)\n",
    "\n",
    "# Avaliação do modelo\n",
    "accuracy = accuracy_score(y_test, y_pred)\n",
    "conf_matrix = confusion_matrix(y_test, y_pred)\n",
    "classification_rep = classification_report(y_test, y_pred)\n",
    "\n",
    "print(f'Acurácia: {accuracy}')\n",
    "print(f'Matriz de Confusão:\\n{conf_matrix}')\n",
    "print(f'Relatório de Classificação:\\n{classification_rep}')"
   ]
  },
  {
   "cell_type": "markdown",
   "id": "4a4089c9",
   "metadata": {},
   "source": [
    "### ExtraTrees Classifier"
   ]
  },
  {
   "cell_type": "code",
   "execution_count": 56,
   "id": "b3f5df42",
   "metadata": {},
   "outputs": [
    {
     "name": "stdout",
     "output_type": "stream",
     "text": [
      "Acuracia: 0.8166666666666667\n",
      "Matris de Confusão:\n",
      "[[178  29]\n",
      " [ 48 165]]\n",
      "Relatório de Classificação:\n",
      "              precision    recall  f1-score   support\n",
      "\n",
      "           0       0.79      0.86      0.82       207\n",
      "           1       0.85      0.77      0.81       213\n",
      "\n",
      "    accuracy                           0.82       420\n",
      "   macro avg       0.82      0.82      0.82       420\n",
      "weighted avg       0.82      0.82      0.82       420\n",
      "\n"
     ]
    }
   ],
   "source": [
    "# Instanciando o modelo\n",
    "modelo_extraTree_v1 = ExtraTreesClassifier(n_estimators = 100, max_depth = 10, min_samples_split = 2)\n",
    "\n",
    "# Treinando o modelo\n",
    "modelo_extraTree_v1.fit(X_train, y_train)\n",
    "\n",
    "# Previsões com dados de teste\n",
    "y_pred = modelo_extraTree_v1.predict(X_test)\n",
    "\n",
    "# Avaliação do modelo\n",
    "accuracy = accuracy_score(y_test, y_pred)\n",
    "conf_matrix = confusion_matrix(y_test, y_pred)\n",
    "classification_rep = classification_report(y_test, y_pred)\n",
    "\n",
    "print(f'Acuracia: {accuracy}')\n",
    "print(f'Matris de Confusão:\\n{conf_matrix}')\n",
    "print(f'Relatório de Classificação:\\n{classification_rep}')"
   ]
  },
  {
   "cell_type": "markdown",
   "id": "c05f296e",
   "metadata": {},
   "source": [
    "### AdaBoost Classifier"
   ]
  },
  {
   "cell_type": "code",
   "execution_count": 57,
   "id": "9c0eb95b",
   "metadata": {},
   "outputs": [
    {
     "name": "stdout",
     "output_type": "stream",
     "text": [
      "Acurácia: 0.7357142857142858\n",
      "Matris de confusão:\n",
      "[[160  47]\n",
      " [ 64 149]]\n",
      "Relatório de Classificação:\n",
      "              precision    recall  f1-score   support\n",
      "\n",
      "           0       0.71      0.77      0.74       207\n",
      "           1       0.76      0.70      0.73       213\n",
      "\n",
      "    accuracy                           0.74       420\n",
      "   macro avg       0.74      0.74      0.74       420\n",
      "weighted avg       0.74      0.74      0.74       420\n",
      "\n"
     ]
    }
   ],
   "source": [
    "# Criando o modelo\n",
    "modelo_adaBoost_v1 = AdaBoostClassifier(base_estimator= modelo_decisionTree_v1, \n",
    "                                        learning_rate= 0.1, \n",
    "                                        n_estimators= 100, \n",
    "                                        algorithm= 'SAMME')\n",
    "\n",
    "# Treinando o modelo\n",
    "modelo_adaBoost_v1.fit(X_train, y_train)\n",
    "\n",
    "# Previsões com dados de teste\n",
    "y_pred = modelo_adaBoost_v1.predict(X_test)\n",
    "\n",
    "# Avaliação do modelo\n",
    "accuracy = accuracy_score(y_test, y_pred)\n",
    "conf_matrix = confusion_matrix(y_test, y_pred)\n",
    "classification_rep = classification_report(y_test, y_pred)\n",
    "\n",
    "print(f'Acurácia: {accuracy}')\n",
    "print(f'Matris de confusão:\\n{conf_matrix}')\n",
    "print(f'Relatório de Classificação:\\n{classification_rep}')"
   ]
  },
  {
   "cell_type": "markdown",
   "id": "179d0eed",
   "metadata": {},
   "source": [
    "### Gradient Boosting Classifier"
   ]
  },
  {
   "cell_type": "markdown",
   "id": "b5c48ae1",
   "metadata": {},
   "source": [
    "**Primeira Versão**"
   ]
  },
  {
   "cell_type": "code",
   "execution_count": 103,
   "id": "7fbfcca2",
   "metadata": {},
   "outputs": [
    {
     "name": "stdout",
     "output_type": "stream",
     "text": [
      "Acurácia: 0.8404761904761905\n",
      "Matriz de Confusão: \n",
      "[[179  28]\n",
      " [ 39 174]]\n",
      "Relatório de Classificação: \n",
      "              precision    recall  f1-score   support\n",
      "\n",
      "           0       0.82      0.86      0.84       207\n",
      "           1       0.86      0.82      0.84       213\n",
      "\n",
      "    accuracy                           0.84       420\n",
      "   macro avg       0.84      0.84      0.84       420\n",
      "weighted avg       0.84      0.84      0.84       420\n",
      "\n"
     ]
    }
   ],
   "source": [
    "# Criando o modelo \n",
    "modelo_gradientBoosting_v1 = GradientBoostingClassifier(n_estimators= 3000, \n",
    "                                                        max_depth= 7, \n",
    "                                                        learning_rate= 000.1, \n",
    "                                                        max_features= 5, \n",
    "                                                        min_samples_leaf= 3, \n",
    "                                                        min_samples_split= 3, \n",
    "                                                        subsample= 0.5)\n",
    "\n",
    "# Treinando o modelo\n",
    "modelo_gradientBoosting_v1.fit(X_train, y_train)\n",
    "\n",
    "# Previsão com dados de teste\n",
    "y_pred = modelo_gradientBoosting_v1.predict(X_test)\n",
    "\n",
    "# Avaliação do modelo\n",
    "accuracy = accuracy_score(y_test, y_pred)\n",
    "conf_matrix = confusion_matrix(y_test, y_pred)\n",
    "classification_rep = classification_report(y_test, y_pred)\n",
    "\n",
    "print(f'Acurácia: {accuracy}')\n",
    "print(f'Matriz de Confusão: \\n{conf_matrix}')\n",
    "print(f'Relatório de Classificação: \\n{classification_rep}')"
   ]
  },
  {
   "cell_type": "markdown",
   "id": "91861433",
   "metadata": {},
   "source": [
    "**Segunda Versão**"
   ]
  },
  {
   "cell_type": "code",
   "execution_count": null,
   "id": "630dcaad",
   "metadata": {},
   "outputs": [],
   "source": [
    "# Criando o modelo \n",
    "modelo_gradientBoosting_v2 = GradientBoostingClassifier()\n",
    "\n",
    "# Parâmetros\n",
    "param = {'learning_rate': [0.1, 0.01, 0.001], \n",
    "         'max_depth': [None, 3, 10, 50, 70], \n",
    "         'max_features': [1, 3, 5],\n",
    "         'min_samples_leaf': [3, 4, 5], \n",
    "         'min_samples_split': [2, 5, 10],\n",
    "         'subsample': [0.3, 0.5, 0.7], \n",
    "         'n_estimators': [400, 700, 1000, 2000, 3000]\n",
    "        }\n",
    "\n",
    "# Aplicando o grid search\n",
    "grid_search = GridSearchCV(modelo_gradientBoosting_v2, param_grid= param, cv= 5, scoring= 'accuracy', n_jobs= 3)\n",
    "\n",
    "# Treinando o modelo com GridSearchCV\n",
    "grid_search.fit(X_train, y_train)\n",
    "\n",
    "# Os melhores parâmetros\n",
    "top_param = grid_search.best_params_\n",
    "print(\"Melhores hiperparâmetros encontrados:\", top_param)\n",
    "\n",
    "# Treinando com o melhor modelo\n",
    "modelo_gradientBoosting_v2 = grid_search.best_estimator_\n",
    "\n",
    "# Previsão com dados de teste\n",
    "y_pred = modelo_gradientBoosting_v2.predict(X_test)\n",
    "\n",
    "# Avaliação do modelo\n",
    "accuracy = accuracy_score(y_test, y_pred)\n",
    "conf_matrix = confusion_matrix(y_test, y_pred)\n",
    "classification_rep = classification_report(y_test, y_pred)\n",
    "\n",
    "print(f'Acurácia: {accuracy}')\n",
    "print(f'Matriz de Confusão: \\n{conf_matrix}')\n",
    "print(f'Relatório de Classificação: \\n{classification_rep}')"
   ]
  },
  {
   "cell_type": "code",
   "execution_count": null,
   "id": "7368cca7",
   "metadata": {},
   "outputs": [],
   "source": []
  }
 ],
 "metadata": {
  "kernelspec": {
   "display_name": "Python 3 (ipykernel)",
   "language": "python",
   "name": "python3"
  },
  "language_info": {
   "codemirror_mode": {
    "name": "ipython",
    "version": 3
   },
   "file_extension": ".py",
   "mimetype": "text/x-python",
   "name": "python",
   "nbconvert_exporter": "python",
   "pygments_lexer": "ipython3",
   "version": "3.9.13"
  }
 },
 "nbformat": 4,
 "nbformat_minor": 5
}
