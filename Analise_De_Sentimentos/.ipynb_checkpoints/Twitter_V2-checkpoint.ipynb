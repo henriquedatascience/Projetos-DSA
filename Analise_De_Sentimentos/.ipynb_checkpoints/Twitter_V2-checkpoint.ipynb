{
 "cells": [
  {
   "cell_type": "markdown",
   "id": "ad98ee5a",
   "metadata": {},
   "source": [
    "# Análise de Sentimentos em Tweets Sobre ChatGPT com PySpark"
   ]
  },
  {
   "cell_type": "markdown",
   "id": "e3963c41",
   "metadata": {},
   "source": [
    "## Importando Pacotes"
   ]
  },
  {
   "cell_type": "code",
   "execution_count": null,
   "id": "1840cc92",
   "metadata": {},
   "outputs": [],
   "source": [
    "import os\n",
    "import sys\n",
    "import numpy as np\n",
    "import pandas as pd\n",
    "# from translate import Translator\n",
    "from textblob import TextBlob\n",
    "from pyspark.sql import SparkSession\n",
    "from pyspark.sql.functions import udf\n",
    "from pyspark.sql.types import StringType\n",
    "\n",
    "os.environ['PYSPARK_PYTHON'] = sys.executable\n",
    "os.environ['PYSPARK_DRIVER_PYTHON'] = sys.executable"
   ]
  },
  {
   "cell_type": "markdown",
   "id": "b66b0b46",
   "metadata": {},
   "source": [
    "Criando uma sessão Spark."
   ]
  },
  {
   "cell_type": "code",
   "execution_count": null,
   "id": "87a65025",
   "metadata": {},
   "outputs": [],
   "source": [
    "spark = SparkSession.builder.appName('Twitter_V2').getOrCreate()"
   ]
  },
  {
   "cell_type": "markdown",
   "id": "0e1bcc74",
   "metadata": {},
   "source": [
    "Importando os dados de Tweets."
   ]
  },
  {
   "cell_type": "code",
   "execution_count": null,
   "id": "2ff6525f",
   "metadata": {},
   "outputs": [],
   "source": [
    "df = spark.read.csv('dados/chatgpt1.csv', header = True, inferSchema = True)"
   ]
  },
  {
   "cell_type": "markdown",
   "id": "c0830509",
   "metadata": {},
   "source": [
    "Agora vamos visualizar os dados e o Schema."
   ]
  },
  {
   "cell_type": "code",
   "execution_count": null,
   "id": "40aaba1f",
   "metadata": {},
   "outputs": [],
   "source": [
    "df.show()"
   ]
  },
  {
   "cell_type": "code",
   "execution_count": null,
   "id": "92f5b212",
   "metadata": {},
   "outputs": [],
   "source": [
    "# Schema\n",
    "df.printSchema()"
   ]
  },
  {
   "cell_type": "markdown",
   "id": "e9a70afb",
   "metadata": {},
   "source": [
    "Agora iremos filtrar somente os dados que utilizaremos para análise, que é os textos dos tweets."
   ]
  },
  {
   "cell_type": "code",
   "execution_count": null,
   "id": "528a180b",
   "metadata": {},
   "outputs": [],
   "source": [
    "# Filtrando somente os textos dos Tweets\n",
    "df = df.select('Text')"
   ]
  },
  {
   "cell_type": "markdown",
   "id": "f4c4ae35",
   "metadata": {},
   "source": [
    "Agora vamos fazer a tradução dos textos, colocaremos tudo em português."
   ]
  },
  {
   "cell_type": "code",
   "execution_count": null,
   "id": "03ab8a2e",
   "metadata": {},
   "outputs": [],
   "source": [
    "# Função para fazer a tradução\n",
    "def traduzir_texto(text):\n",
    "    blob = TextBlob(texto)\n",
    "    traduzido = blob.translate(to=\"pt\")  # \"pt\" representa Português\n",
    "    return str(traduzido)"
   ]
  },
  {
   "cell_type": "code",
   "execution_count": null,
   "id": "3cf32ccd",
   "metadata": {},
   "outputs": [],
   "source": [
    "# Registrando a função personalizada no PySpark\n",
    "traduzir_udf = udf(traduzir_texto, StringType())\n",
    "\n",
    "# Crie um novo DataFrame com a coluna \"Text\" traduzida\n",
    "df = df.withColumn('Texto', traduzir_udf(df['Text']))\n",
    "df.show()"
   ]
  },
  {
   "cell_type": "code",
   "execution_count": null,
   "id": "9b5ae9b2",
   "metadata": {},
   "outputs": [],
   "source": [
    "df.show()"
   ]
  },
  {
   "cell_type": "code",
   "execution_count": null,
   "id": "81a42cb2",
   "metadata": {},
   "outputs": [],
   "source": []
  }
 ],
 "metadata": {
  "kernelspec": {
   "display_name": "Python 3 (ipykernel)",
   "language": "python",
   "name": "python3"
  },
  "language_info": {
   "codemirror_mode": {
    "name": "ipython",
    "version": 3
   },
   "file_extension": ".py",
   "mimetype": "text/x-python",
   "name": "python",
   "nbconvert_exporter": "python",
   "pygments_lexer": "ipython3",
   "version": "3.9.13"
  }
 },
 "nbformat": 4,
 "nbformat_minor": 5
}
