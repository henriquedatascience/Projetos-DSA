{
 "cells": [
  {
   "cell_type": "markdown",
   "id": "713fd08e",
   "metadata": {},
   "source": [
    "# Análise de Sentimentos em Tweets Sobre o ChatGPT com PySpark"
   ]
  },
  {
   "cell_type": "markdown",
   "id": "7e0954c1",
   "metadata": {},
   "source": [
    "O objetivo desse projeto é capturar todos os posts do Twitter relacionado ao ChatGPT e classifica-los como **positivo, negativo ou neutro*"
   ]
  },
  {
   "cell_type": "markdown",
   "id": "23ba4256",
   "metadata": {},
   "source": [
    "## Carregando Pacotes"
   ]
  },
  {
   "cell_type": "code",
   "execution_count": null,
   "id": "f90f8e8f",
   "metadata": {},
   "outputs": [],
   "source": [
    "import pandas as pd\n",
    "import numpy as np"
   ]
  }
 ],
 "metadata": {
  "kernelspec": {
   "display_name": "Python 3 (ipykernel)",
   "language": "python",
   "name": "python3"
  },
  "language_info": {
   "codemirror_mode": {
    "name": "ipython",
    "version": 3
   },
   "file_extension": ".py",
   "mimetype": "text/x-python",
   "name": "python",
   "nbconvert_exporter": "python",
   "pygments_lexer": "ipython3",
   "version": "3.9.13"
  }
 },
 "nbformat": 4,
 "nbformat_minor": 5
}
