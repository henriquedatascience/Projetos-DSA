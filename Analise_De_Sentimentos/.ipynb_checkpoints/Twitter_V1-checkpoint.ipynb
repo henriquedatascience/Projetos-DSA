{
 "cells": [
  {
   "cell_type": "markdown",
   "id": "713fd08e",
   "metadata": {},
   "source": [
    "# Análise de Sentimentos em Tweets Sobre o ChatGPT com PySpark"
   ]
  },
  {
   "cell_type": "markdown",
   "id": "7e0954c1",
   "metadata": {},
   "source": [
    "O objetivo desse projeto é capturar todos os posts do Twitter relacionado ao ChatGPT e classifica-los como **positivo, negativo ou neutro.**"
   ]
  },
  {
   "cell_type": "markdown",
   "id": "23ba4256",
   "metadata": {},
   "source": [
    "## Carregando Pacotes"
   ]
  },
  {
   "cell_type": "code",
   "execution_count": 1,
   "id": "f90f8e8f",
   "metadata": {},
   "outputs": [],
   "source": [
    "import pandas as pd\n",
    "import numpy as np\n",
    "import tweepy\n",
    "import config\n",
    "import requests\n",
    "import os\n",
    "import json\n",
    "from pyspark.ml.feature import StopWordsRemover, Tokenizer"
   ]
  },
  {
   "cell_type": "code",
   "execution_count": 2,
   "id": "22f2c9ed",
   "metadata": {},
   "outputs": [],
   "source": [
    "BEATER_TOKEN = 'AAAAAAAAAAAAAAAAAAAAAFMdpwEAAAAAoHu%2FIgpb26ZpjnyQk9OoHFe4tFE%3DQl3tI4FbClttyjKoLi8YKv4wCWINW1q086AakFf9e6hihEQoLh'\n",
    "\n",
    "bearer_token = os.environ.get(\"BEARER_TOKEN\")"
   ]
  },
  {
   "cell_type": "code",
   "execution_count": 3,
   "id": "c33aa964",
   "metadata": {},
   "outputs": [],
   "source": [
    "search_url = \"https://api.twitter.com/2/tweets/search/recent\""
   ]
  },
  {
   "cell_type": "code",
   "execution_count": 4,
   "id": "d03ed11d",
   "metadata": {},
   "outputs": [],
   "source": [
    "query_params = {'query': 'ChatGPT -is:retweet','tweet.fields': 'author_id', 'max_results': 100}"
   ]
  },
  {
   "cell_type": "markdown",
   "id": "0a367800",
   "metadata": {},
   "source": [
    "##  Autenticando Twitter"
   ]
  },
  {
   "cell_type": "markdown",
   "id": "78aa1200",
   "metadata": {},
   "source": [
    "Vamos receber as variáveis de autenticação (chaves) disponibilizadas no portal do desenvolvedor."
   ]
  },
  {
   "cell_type": "code",
   "execution_count": null,
   "id": "fa8301f3",
   "metadata": {},
   "outputs": [],
   "source": [
    "consumer_key = '20qUXZsp2uJvPGmGLjcXbRtEb'\n",
    "consumer_secret = 'wGIvqr5YuCUSduKmaaMe6Ohz158kxFoqT69Vq2JhdQDV8OJmo5'\n",
    "\n",
    "bearer_token = 'AAAAAAAAAAAAAAAAAAAAAFMdpwEAAAAAoHu%2FIgpb26ZpjnyQk9OoHFe4tFE%3DQl3tI4FbClttyjKoLi8YKv4wCWINW1q086AakFf9e6hihEQoLh'\n",
    "\n",
    "access_token = '1107159373653204993-56D8FspzPrQVnFku076Lw4xijjJxNK'\n",
    "access_token_secret = 'XNFb2Dv2VlKi1uKdfB9lMZScfDDLOeVfthGgTxmzGheZ0'"
   ]
  },
  {
   "cell_type": "markdown",
   "id": "2ec53ae5",
   "metadata": {},
   "source": [
    "Criando conecção com a API do Twitter."
   ]
  },
  {
   "cell_type": "code",
   "execution_count": null,
   "id": "43b3de00",
   "metadata": {},
   "outputs": [],
   "source": [
    "# Authenticate to Twitter\n",
    "auth = tweepy.OAuthHandler(consumer_key, consumer_secret)\n",
    "auth.set_access_token(access_token,access_token_secret)\n",
    " \n",
    "api = tweepy.API(auth)\n",
    " \n",
    "try:\n",
    "    api.verify_credentials()\n",
    "    print('Successful Authentication')\n",
    "except:\n",
    "    print('Failed authentication')"
   ]
  },
  {
   "cell_type": "code",
   "execution_count": null,
   "id": "39dd53fe",
   "metadata": {},
   "outputs": [],
   "source": [
    "client = tweepy.Client(bearer_token, wait_on_rate_limit=True)"
   ]
  },
  {
   "cell_type": "markdown",
   "id": "e6015add",
   "metadata": {},
   "source": [
    "Agora iremos buscar os Tweets relacionados ao ChatGPT."
   ]
  },
  {
   "cell_type": "code",
   "execution_count": null,
   "id": "17df5c8d",
   "metadata": {},
   "outputs": [],
   "source": [
    "# Definindo palavra chave\n",
    "keyword = \"ChatGPT\"\n",
    "geocode = \"-14.2350,-51.9253,1000km\"  # Coordenadas do centro do Brasil e raio de 1000 km\n",
    "language = \"pt\"  # Idioma dos tweets (português)\n",
    "tweets = api.search_tweets(q = keyword, geocode = geocode, lang = language, count = 10)  # Buscar 10 tweets com a palavra-chave\n",
    "for tweet in tweets:\n",
    "    print(tweet.text)"
   ]
  },
  {
   "cell_type": "code",
   "execution_count": null,
   "id": "2e9aa833",
   "metadata": {},
   "outputs": [],
   "source": [
    "tweet = client.search_recent_tweets(query = keyword, max_results = 10)"
   ]
  }
 ],
 "metadata": {
  "kernelspec": {
   "display_name": "Python 3 (ipykernel)",
   "language": "python",
   "name": "python3"
  },
  "language_info": {
   "codemirror_mode": {
    "name": "ipython",
    "version": 3
   },
   "file_extension": ".py",
   "mimetype": "text/x-python",
   "name": "python",
   "nbconvert_exporter": "python",
   "pygments_lexer": "ipython3",
   "version": "3.9.13"
  }
 },
 "nbformat": 4,
 "nbformat_minor": 5
}
