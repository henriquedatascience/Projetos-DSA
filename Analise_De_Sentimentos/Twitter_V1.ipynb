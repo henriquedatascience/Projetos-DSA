{
 "cells": [
  {
   "cell_type": "markdown",
   "id": "713fd08e",
   "metadata": {},
   "source": [
    "# Análise de Sentimentos em Tweets Sobre o ChatGPT com PySpark"
   ]
  },
  {
   "cell_type": "markdown",
   "id": "7e0954c1",
   "metadata": {},
   "source": [
    "O objetivo desse projeto é capturar todos os posts do Twitter relacionado ao ChatGPT e classifica-los como **positivo, negativo ou neutro.**"
   ]
  },
  {
   "cell_type": "markdown",
   "id": "23ba4256",
   "metadata": {},
   "source": [
    "## Carregando Pacotes"
   ]
  },
  {
   "cell_type": "code",
   "execution_count": null,
   "id": "f90f8e8f",
   "metadata": {},
   "outputs": [],
   "source": [
    "import pandas as pd\n",
    "import numpy as np\n",
    "import tweepy\n",
    "from pyspark.ml.feature import StopWordsRemover, Tokenizer"
   ]
  },
  {
   "cell_type": "markdown",
   "id": "0a367800",
   "metadata": {},
   "source": [
    "##  Autenticando Twitter"
   ]
  },
  {
   "cell_type": "markdown",
   "id": "78aa1200",
   "metadata": {},
   "source": [
    "Vamos receber as variáveis de autenticação (chaves) disponibilizadas no portal do desenvolvedor."
   ]
  },
  {
   "cell_type": "code",
   "execution_count": null,
   "id": "fa8301f3",
   "metadata": {},
   "outputs": [],
   "source": [
    "consumer_key = '20qUXZsp2uJvPGmGLjcXbRtEb'\n",
    "consumer_secret = 'wGIvqr5YuCUSduKmaaMe6Ohz158kxFoqT69Vq2JhdQDV8OJmo5'\n",
    "\n",
    "access_token = '1107159373653204993-56D8FspzPrQVnFku076Lw4xijjJxNK'\n",
    "access_token_secret = 'XNFb2Dv2VlKi1uKdfB9lMZScfDDLOeVfthGgTxmzGheZ0'"
   ]
  },
  {
   "cell_type": "markdown",
   "id": "2ec53ae5",
   "metadata": {},
   "source": [
    "Criando conecção com a API do Twitter."
   ]
  },
  {
   "cell_type": "code",
   "execution_count": null,
   "id": "9ec01a5b",
   "metadata": {},
   "outputs": [],
   "source": [
    "auth = tweepy.OAuthHandler(consumer_key,consumer_secret)\n",
    "auth.set_access_token(access_token,access_token_secret)\n",
    "\n",
    "api = tweepy.API(auth)"
   ]
  },
  {
   "cell_type": "code",
   "execution_count": null,
   "id": "a51b3fd5",
   "metadata": {},
   "outputs": [],
   "source": [
    "auth = tweepy.OAuth2BearerHandler(\"AAAAAAAAAAAAAAAAAAAAAFMdpwEAAAAAoHu%2FIgpb26ZpjnyQk9OoHFe4tFE%3DQl3tI4FbClttyjKoLi8YKv4wCWINW1q086AakFf9e6hihEQoLh\")\n",
    "api = tweepy.API(auth)"
   ]
  },
  {
   "cell_type": "code",
   "execution_count": null,
   "id": "d815414e",
   "metadata": {},
   "outputs": [],
   "source": [
    "oauth2_user_handler = tweepy.OAuth2UserHandler(\n",
    "    client_id = \"27729235\",\n",
    "    redirect_uri=\"Callback / Redirect URI / URL here\",\n",
    "    scope=[\"Scope here\", \"Scope here\"],\n",
    "    # Client Secret is only necessary if using a confidential client\n",
    "    client_secret=\"Client Secret here\""
   ]
  },
  {
   "cell_type": "markdown",
   "id": "e6015add",
   "metadata": {},
   "source": [
    "Agora iremos buscar os Tweets relacionados ao ChatGPT."
   ]
  },
  {
   "cell_type": "code",
   "execution_count": null,
   "id": "17df5c8d",
   "metadata": {},
   "outputs": [],
   "source": [
    "# Definindo palavra chave\n",
    "keyword = \"ChatGPT\"\n",
    "geocode = \"-14.2350,-51.9253,1000km\"  # Coordenadas do centro do Brasil e raio de 1000 km\n",
    "language = \"pt\"  # Idioma dos tweets (português)\n",
    "tweets = api.search_tweets(q = keyword, geocode = geocode, lang = language, count = 10)  # Buscar 10 tweets com a palavra-chave\n",
    "for tweet in tweets:\n",
    "    print(tweet.text)"
   ]
  },
  {
   "cell_type": "code",
   "execution_count": null,
   "id": "2e9aa833",
   "metadata": {},
   "outputs": [],
   "source": []
  }
 ],
 "metadata": {
  "kernelspec": {
   "display_name": "Python 3 (ipykernel)",
   "language": "python",
   "name": "python3"
  },
  "language_info": {
   "codemirror_mode": {
    "name": "ipython",
    "version": 3
   },
   "file_extension": ".py",
   "mimetype": "text/x-python",
   "name": "python",
   "nbconvert_exporter": "python",
   "pygments_lexer": "ipython3",
   "version": "3.9.13"
  }
 },
 "nbformat": 4,
 "nbformat_minor": 5
}
