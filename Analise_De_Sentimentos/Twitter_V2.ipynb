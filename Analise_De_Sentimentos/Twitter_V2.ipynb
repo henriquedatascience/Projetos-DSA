{
 "cells": [
  {
   "cell_type": "markdown",
   "id": "ad98ee5a",
   "metadata": {},
   "source": [
    "# Análise de Sentimentos em Tweets Sobre ChatGPT com PySpark"
   ]
  },
  {
   "cell_type": "markdown",
   "id": "e3963c41",
   "metadata": {},
   "source": [
    "## Importando Pacotes"
   ]
  },
  {
   "cell_type": "code",
   "execution_count": 1,
   "id": "1840cc92",
   "metadata": {},
   "outputs": [],
   "source": [
    "import os\n",
    "import sys\n",
    "import numpy as np\n",
    "import pandas as pd\n",
    "# from translate import Translator\n",
    "from textblob import TextBlob\n",
    "from pyspark.sql import SparkSession\n",
    "from pyspark.sql.functions import udf\n",
    "from pyspark.sql.types import StringType\n",
    "\n",
    "os.environ['PYSPARK_PYTHON'] = sys.executable\n",
    "os.environ['PYSPARK_DRIVER_PYTHON'] = sys.executable"
   ]
  },
  {
   "cell_type": "markdown",
   "id": "b66b0b46",
   "metadata": {},
   "source": [
    "Criando uma sessão Spark."
   ]
  },
  {
   "cell_type": "code",
   "execution_count": 2,
   "id": "87a65025",
   "metadata": {},
   "outputs": [],
   "source": [
    "spark = SparkSession.builder.appName('Twitter_V2').getOrCreate()"
   ]
  },
  {
   "cell_type": "markdown",
   "id": "0e1bcc74",
   "metadata": {},
   "source": [
    "Importando os dados de Tweets."
   ]
  },
  {
   "cell_type": "code",
   "execution_count": 3,
   "id": "2ff6525f",
   "metadata": {},
   "outputs": [],
   "source": [
    "df = spark.read.csv('dados/chatgpt1.csv', header = True, inferSchema = True)"
   ]
  },
  {
   "cell_type": "markdown",
   "id": "c0830509",
   "metadata": {},
   "source": [
    "Agora vamos visualizar os dados e o Schema."
   ]
  },
  {
   "cell_type": "code",
   "execution_count": 4,
   "id": "40aaba1f",
   "metadata": {},
   "outputs": [
    {
     "name": "stdout",
     "output_type": "stream",
     "text": [
      "+----------------------------------------+-------------------+---------------------------+--------------------+--------------------+--------------------+--------------------+--------------------+----------+------------+-------------------+----------+--------------------+--------------------+--------------------+--------------------+--------------------+--------------------+-------+-------------+\n",
      "|                                Datetime|           Tweet Id|                       Text|            Username|           Permalink|                User|            Outlinks|          CountLinks|ReplyCount|RetweetCount|          LikeCount|QuoteCount|      ConversationId|            Language|              Source|               Media|         QuotedTweet|      MentionedUsers|hashtag|hastag_counts|\n",
      "+----------------------------------------+-------------------+---------------------------+--------------------+--------------------+--------------------+--------------------+--------------------+----------+------------+-------------------+----------+--------------------+--------------------+--------------------+--------------------+--------------------+--------------------+-------+-------------+\n",
      "|                    2023-01-22 13:44:...|1617156270871699456|ChatGPTで遊ぶの忘れてた！！|                null|                null|                null|                null|                null|      null|        null|               null|      null|                null|                null|                null|                null|                null|                null|   null|         null|\n",
      "|    書類作るコード書いてみてほしいのと、|               null|                       null|                null|                null|                null|                null|                null|      null|        null|               null|      null|                null|                null|                null|                null|                null|                null|   null|         null|\n",
      "|どこまで思考整理付き合ってくれるのかと、|               null|                       null|                null|                null|                null|                null|                null|      null|        null|               null|      null|                null|                null|                null|                null|                null|                null|   null|         null|\n",
      "|          ウミガメのスープやってみたい。|               null|                       null|                null|                null|                null|                null|                null|      null|        null|               null|      null|                null|                null|                null|                null|                null|                null|   null|         null|\n",
      "|                  あとは調べ物してくれ。|               null|                       null|                null|                null|                null|                null|                null|      null|        null|               null|      null|                null|                null|                null|                null|                null|                null|   null|         null|\n",
      "|   事務所でちょいといじったが、とりあ...|        mochico0123|       https://twitter.c...|https://twitter.c...|                null|                null|                   1|                   0|         5|           0|1617156270871699456|        ja|\"<a href=\"\"http:/...|                null|                null|                null|                  []|                   0|   null|         null|\n",
      "|                    2023-01-22 13:44:...|1617156291046133761|       @AlexandrovnaIng ...|     Caput_LupinumSG|https://twitter.c...|https://twitter.c...|                null|                null|         1|           0|                  5|         0| 1617148639993806848|                  en|\"<a href=\"\"http:/...|                null|                null|[User(username='A...|     []|            0|\n",
      "|                    2023-01-22 13:44:...|1617156308926349312|       Schaut Euch an, w...|                null|                null|                null|                null|                null|      null|        null|               null|      null|                null|                null|                null|                null|                null|                null|   null|         null|\n",
      "|                    Morgen startet @r...|               null|                       null|                null|                null|                null|                null|                null|      null|        null|               null|      null|                null|                null|                null|                null|                null|                null|   null|         null|\n",
      "|                    https://t.co/Dsoe...|              ciffi|       https://twitter.c...|https://twitter.c...|['https://us02web...|['https://t.co/Ds...|                   0|                   0|         4|           0|1617156308926349312|        de|\"<a href=\"\"http:/...|[Photo(previewUrl...|https://twitter.c...|[User(username='f...|        ['#ChatGPT']|                   1|   null|         null|\n",
      "|                    2023-01-22 13:44:...|1617156332297256961|       Bow down to chatG...|       Vishwasrisiri|https://twitter.c...|https://twitter.c...|['https://twitter...|['https://t.co/EN...|         0|           0|                  2|         0| 1617156332297256961|                  en|\"<a href=\"\"http:/...|                null|https://twitter.c...|                null|     []|            0|\n",
      "|                    2023-01-22 13:44:...|1617156345064570880|       Profilinde vatan,...|      0xGenetikciniz|https://twitter.c...|https://twitter.c...|                null|                null|         0|           0|                  4|         0| 1617156345064570880|                  tr|\"<a href=\"\"http:/...|                null|                null|                null|     []|            0|\n",
      "|                    2023-01-22 13:45:...|1617156376983207937|       ChatGPT’nin bilin...|                null|                null|                null|                null|                null|      null|        null|               null|      null|                null|                null|                null|                null|                null|                null|   null|         null|\n",
      "|                    Çeviri: Evrim Şaşmaz|               null|                       null|                null|                null|                null|                null|                null|      null|        null|               null|      null|                null|                null|                null|                null|                null|                null|   null|         null|\n",
      "|                    https://t.co/daAy...|      GazeteKarinca|       https://twitter.c...|https://twitter.c...|['https://gazetek...|['https://t.co/da...|                   0|                   0|         1|           0|1617156376983207937|        tr|\"<a href=\"\"https:...|                null|                null|                null|                  []|                   0|   null|         null|\n",
      "|                    2023-01-22 13:45:...|1617156389217894400|       ChatGPT runs 10K ...|      FierceElectron|https://twitter.c...|https://twitter.c...|['https://www.fie...|['https://t.co/Uh...|         0|           0|                  0|         0| 1617156389217894400|                  en|\"<a href=\"\"https:...|                null|                null|                null|     []|            0|\n",
      "|                    2023-01-22 13:45:...|1617156393898745858|       @SWENGDAD There i...|          xlr8harder|https://twitter.c...|https://twitter.c...|                null|                null|         1|           0|                  3|         0| 1617149595901104130|                  en|\"<a href=\"\"https:...|                null|                null|[User(username='S...|     []|            0|\n",
      "|                    2023-01-22 13:45:...|1617156404137295878|       I created a ficti...|                null|                null|                null|                null|                null|      null|        null|               null|      null|                null|                null|                null|                null|                null|                null|   null|         null|\n",
      "|                    https://t.co/gtWd...|               null|                       null|                null|                null|                null|                null|                null|      null|        null|               null|      null|                null|                null|                null|                null|                null|                null|   null|         null|\n",
      "|                    #ChatGPT #midjour...|        Kosuke_dazo|       https://twitter.c...|https://twitter.c...|['https://oriori....|['https://t.co/gt...|                   0|                   1|         2|           1|1617156404137295878|        en|\"<a href=\"\"http:/...|[Photo(previewUrl...|                null|                null|['#ChatGPT', '#mi...|                   2|   null|         null|\n",
      "+----------------------------------------+-------------------+---------------------------+--------------------+--------------------+--------------------+--------------------+--------------------+----------+------------+-------------------+----------+--------------------+--------------------+--------------------+--------------------+--------------------+--------------------+-------+-------------+\n",
      "only showing top 20 rows\n",
      "\n"
     ]
    }
   ],
   "source": [
    "df.show()"
   ]
  },
  {
   "cell_type": "code",
   "execution_count": 5,
   "id": "92f5b212",
   "metadata": {},
   "outputs": [
    {
     "name": "stdout",
     "output_type": "stream",
     "text": [
      "root\n",
      " |-- Datetime: string (nullable = true)\n",
      " |-- Tweet Id: string (nullable = true)\n",
      " |-- Text: string (nullable = true)\n",
      " |-- Username: string (nullable = true)\n",
      " |-- Permalink: string (nullable = true)\n",
      " |-- User: string (nullable = true)\n",
      " |-- Outlinks: string (nullable = true)\n",
      " |-- CountLinks: string (nullable = true)\n",
      " |-- ReplyCount: string (nullable = true)\n",
      " |-- RetweetCount: string (nullable = true)\n",
      " |-- LikeCount: string (nullable = true)\n",
      " |-- QuoteCount: string (nullable = true)\n",
      " |-- ConversationId: string (nullable = true)\n",
      " |-- Language: string (nullable = true)\n",
      " |-- Source: string (nullable = true)\n",
      " |-- Media: string (nullable = true)\n",
      " |-- QuotedTweet: string (nullable = true)\n",
      " |-- MentionedUsers: string (nullable = true)\n",
      " |-- hashtag: string (nullable = true)\n",
      " |-- hastag_counts: string (nullable = true)\n",
      "\n"
     ]
    }
   ],
   "source": [
    "# Schema\n",
    "df.printSchema()"
   ]
  },
  {
   "cell_type": "markdown",
   "id": "e9a70afb",
   "metadata": {},
   "source": [
    "Agora iremos filtrar somente os dados que utilizaremos para análise, que é os textos dos tweets."
   ]
  },
  {
   "cell_type": "code",
   "execution_count": 6,
   "id": "528a180b",
   "metadata": {},
   "outputs": [],
   "source": [
    "# Filtrando somente os textos dos Tweets\n",
    "df = df.select('Text')"
   ]
  },
  {
   "cell_type": "markdown",
   "id": "f4c4ae35",
   "metadata": {},
   "source": [
    "Agora vamos fazer a tradução dos textos, colocaremos tudo em português."
   ]
  },
  {
   "cell_type": "code",
   "execution_count": 7,
   "id": "03ab8a2e",
   "metadata": {},
   "outputs": [],
   "source": [
    "# Função para fazer a tradução\n",
    "def traduzir_texto(text):\n",
    "    blob = TextBlob(texto)\n",
    "    traduzido = blob.translate(to=\"pt\")  # \"pt\" representa Português\n",
    "    return str(traduzido)"
   ]
  },
  {
   "cell_type": "code",
   "execution_count": 8,
   "id": "3cf32ccd",
   "metadata": {},
   "outputs": [
    {
     "ename": "PythonException",
     "evalue": "\n  An exception was thrown from the Python worker. Please see the stack trace below.\nTraceback (most recent call last):\n  File \"C:\\Users\\Matheus\\AppData\\Local\\Temp\\ipykernel_5772\\1373874203.py\", line 3, in traduzir_texto\nNameError: name 'texto' is not defined\n",
     "output_type": "error",
     "traceback": [
      "\u001b[1;31m---------------------------------------------------------------------------\u001b[0m",
      "\u001b[1;31mPythonException\u001b[0m                           Traceback (most recent call last)",
      "\u001b[1;32m~\\AppData\\Local\\Temp\\ipykernel_5772\\359309697.py\u001b[0m in \u001b[0;36m<module>\u001b[1;34m\u001b[0m\n\u001b[0;32m      4\u001b[0m \u001b[1;31m# Crie um novo DataFrame com a coluna \"Text\" traduzida\u001b[0m\u001b[1;33m\u001b[0m\u001b[1;33m\u001b[0m\u001b[0m\n\u001b[0;32m      5\u001b[0m \u001b[0mdf\u001b[0m \u001b[1;33m=\u001b[0m \u001b[0mdf\u001b[0m\u001b[1;33m.\u001b[0m\u001b[0mwithColumn\u001b[0m\u001b[1;33m(\u001b[0m\u001b[1;34m'Texto'\u001b[0m\u001b[1;33m,\u001b[0m \u001b[0mtraduzir_udf\u001b[0m\u001b[1;33m(\u001b[0m\u001b[0mdf\u001b[0m\u001b[1;33m[\u001b[0m\u001b[1;34m'Text'\u001b[0m\u001b[1;33m]\u001b[0m\u001b[1;33m)\u001b[0m\u001b[1;33m)\u001b[0m\u001b[1;33m\u001b[0m\u001b[1;33m\u001b[0m\u001b[0m\n\u001b[1;32m----> 6\u001b[1;33m \u001b[0mdf\u001b[0m\u001b[1;33m.\u001b[0m\u001b[0mshow\u001b[0m\u001b[1;33m(\u001b[0m\u001b[1;33m)\u001b[0m\u001b[1;33m\u001b[0m\u001b[1;33m\u001b[0m\u001b[0m\n\u001b[0m",
      "\u001b[1;32m~\\anaconda3\\lib\\site-packages\\pyspark\\sql\\dataframe.py\u001b[0m in \u001b[0;36mshow\u001b[1;34m(self, n, truncate, vertical)\u001b[0m\n\u001b[0;32m    897\u001b[0m \u001b[1;33m\u001b[0m\u001b[0m\n\u001b[0;32m    898\u001b[0m         \u001b[1;32mif\u001b[0m \u001b[0misinstance\u001b[0m\u001b[1;33m(\u001b[0m\u001b[0mtruncate\u001b[0m\u001b[1;33m,\u001b[0m \u001b[0mbool\u001b[0m\u001b[1;33m)\u001b[0m \u001b[1;32mand\u001b[0m \u001b[0mtruncate\u001b[0m\u001b[1;33m:\u001b[0m\u001b[1;33m\u001b[0m\u001b[1;33m\u001b[0m\u001b[0m\n\u001b[1;32m--> 899\u001b[1;33m             \u001b[0mprint\u001b[0m\u001b[1;33m(\u001b[0m\u001b[0mself\u001b[0m\u001b[1;33m.\u001b[0m\u001b[0m_jdf\u001b[0m\u001b[1;33m.\u001b[0m\u001b[0mshowString\u001b[0m\u001b[1;33m(\u001b[0m\u001b[0mn\u001b[0m\u001b[1;33m,\u001b[0m \u001b[1;36m20\u001b[0m\u001b[1;33m,\u001b[0m \u001b[0mvertical\u001b[0m\u001b[1;33m)\u001b[0m\u001b[1;33m)\u001b[0m\u001b[1;33m\u001b[0m\u001b[1;33m\u001b[0m\u001b[0m\n\u001b[0m\u001b[0;32m    900\u001b[0m         \u001b[1;32melse\u001b[0m\u001b[1;33m:\u001b[0m\u001b[1;33m\u001b[0m\u001b[1;33m\u001b[0m\u001b[0m\n\u001b[0;32m    901\u001b[0m             \u001b[1;32mtry\u001b[0m\u001b[1;33m:\u001b[0m\u001b[1;33m\u001b[0m\u001b[1;33m\u001b[0m\u001b[0m\n",
      "\u001b[1;32m~\\anaconda3\\lib\\site-packages\\py4j\\java_gateway.py\u001b[0m in \u001b[0;36m__call__\u001b[1;34m(self, *args)\u001b[0m\n\u001b[0;32m   1320\u001b[0m \u001b[1;33m\u001b[0m\u001b[0m\n\u001b[0;32m   1321\u001b[0m         \u001b[0manswer\u001b[0m \u001b[1;33m=\u001b[0m \u001b[0mself\u001b[0m\u001b[1;33m.\u001b[0m\u001b[0mgateway_client\u001b[0m\u001b[1;33m.\u001b[0m\u001b[0msend_command\u001b[0m\u001b[1;33m(\u001b[0m\u001b[0mcommand\u001b[0m\u001b[1;33m)\u001b[0m\u001b[1;33m\u001b[0m\u001b[1;33m\u001b[0m\u001b[0m\n\u001b[1;32m-> 1322\u001b[1;33m         return_value = get_return_value(\n\u001b[0m\u001b[0;32m   1323\u001b[0m             answer, self.gateway_client, self.target_id, self.name)\n\u001b[0;32m   1324\u001b[0m \u001b[1;33m\u001b[0m\u001b[0m\n",
      "\u001b[1;32m~\\anaconda3\\lib\\site-packages\\pyspark\\errors\\exceptions\\captured.py\u001b[0m in \u001b[0;36mdeco\u001b[1;34m(*a, **kw)\u001b[0m\n\u001b[0;32m    173\u001b[0m                 \u001b[1;31m# Hide where the exception came from that shows a non-Pythonic\u001b[0m\u001b[1;33m\u001b[0m\u001b[1;33m\u001b[0m\u001b[0m\n\u001b[0;32m    174\u001b[0m                 \u001b[1;31m# JVM exception message.\u001b[0m\u001b[1;33m\u001b[0m\u001b[1;33m\u001b[0m\u001b[0m\n\u001b[1;32m--> 175\u001b[1;33m                 \u001b[1;32mraise\u001b[0m \u001b[0mconverted\u001b[0m \u001b[1;32mfrom\u001b[0m \u001b[1;32mNone\u001b[0m\u001b[1;33m\u001b[0m\u001b[1;33m\u001b[0m\u001b[0m\n\u001b[0m\u001b[0;32m    176\u001b[0m             \u001b[1;32melse\u001b[0m\u001b[1;33m:\u001b[0m\u001b[1;33m\u001b[0m\u001b[1;33m\u001b[0m\u001b[0m\n\u001b[0;32m    177\u001b[0m                 \u001b[1;32mraise\u001b[0m\u001b[1;33m\u001b[0m\u001b[1;33m\u001b[0m\u001b[0m\n",
      "\u001b[1;31mPythonException\u001b[0m: \n  An exception was thrown from the Python worker. Please see the stack trace below.\nTraceback (most recent call last):\n  File \"C:\\Users\\Matheus\\AppData\\Local\\Temp\\ipykernel_5772\\1373874203.py\", line 3, in traduzir_texto\nNameError: name 'texto' is not defined\n"
     ]
    }
   ],
   "source": [
    "# Registrando a função personalizada no PySpark\n",
    "traduzir_udf = udf(traduzir_texto, StringType())\n",
    "\n",
    "# Crie um novo DataFrame com a coluna \"Text\" traduzida\n",
    "df = df.withColumn('Texto', traduzir_udf(df['Text']))\n",
    "df.show()"
   ]
  },
  {
   "cell_type": "code",
   "execution_count": null,
   "id": "9b5ae9b2",
   "metadata": {},
   "outputs": [],
   "source": [
    "df.show()"
   ]
  },
  {
   "cell_type": "code",
   "execution_count": null,
   "id": "81a42cb2",
   "metadata": {},
   "outputs": [],
   "source": []
  }
 ],
 "metadata": {
  "kernelspec": {
   "display_name": "Python 3 (ipykernel)",
   "language": "python",
   "name": "python3"
  },
  "language_info": {
   "codemirror_mode": {
    "name": "ipython",
    "version": 3
   },
   "file_extension": ".py",
   "mimetype": "text/x-python",
   "name": "python",
   "nbconvert_exporter": "python",
   "pygments_lexer": "ipython3",
   "version": "3.9.13"
  }
 },
 "nbformat": 4,
 "nbformat_minor": 5
}
