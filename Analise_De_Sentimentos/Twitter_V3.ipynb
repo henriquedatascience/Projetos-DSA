{
 "cells": [
  {
   "cell_type": "markdown",
   "id": "82981223",
   "metadata": {},
   "source": [
    "## Importando Pacotes"
   ]
  },
  {
   "cell_type": "code",
   "execution_count": null,
   "id": "d2fe412e",
   "metadata": {},
   "outputs": [],
   "source": [
    "import numpy as np\n",
    "import pandas as pd\n",
    "import re\n",
    "from textblob import TextBlob\n",
    "from translate import Translator"
   ]
  },
  {
   "cell_type": "code",
   "execution_count": null,
   "id": "6b4ee896",
   "metadata": {},
   "outputs": [],
   "source": [
    "df = pd.read_csv('dados/chatgpt1.csv')\n",
    "df.head()"
   ]
  },
  {
   "cell_type": "code",
   "execution_count": null,
   "id": "95de28ea",
   "metadata": {},
   "outputs": [],
   "source": [
    "tweets = df['Text'].astype(str)"
   ]
  },
  {
   "cell_type": "code",
   "execution_count": null,
   "id": "5a2b7ec0",
   "metadata": {},
   "outputs": [],
   "source": [
    "def remover_palavras(texto):\n",
    "    texto_limpo = re.sub(r'@\\S+|#\\S+|https\\S+', '', texto) # Removendo #, @ e https dos textos\n",
    "    texto_limpo = re.sub(r'[^\\x00-\\x7F]+', '', texto_limpo) # Removendo emojis dos textos\n",
    "    texto_limpo = re.sub(r'\\s+', ' ', texto_limpo).strip() # Removendo espaços indesejados\n",
    "    return texto_limpo"
   ]
  },
  {
   "cell_type": "code",
   "execution_count": null,
   "id": "7c67f966",
   "metadata": {},
   "outputs": [],
   "source": [
    "tweets = tweets.apply(remover_palavras)\n",
    "tweets.head()"
   ]
  },
  {
   "cell_type": "code",
   "execution_count": null,
   "id": "f2a0f13d",
   "metadata": {},
   "outputs": [],
   "source": []
  }
 ],
 "metadata": {
  "kernelspec": {
   "display_name": "Python 3 (ipykernel)",
   "language": "python",
   "name": "python3"
  },
  "language_info": {
   "codemirror_mode": {
    "name": "ipython",
    "version": 3
   },
   "file_extension": ".py",
   "mimetype": "text/x-python",
   "name": "python",
   "nbconvert_exporter": "python",
   "pygments_lexer": "ipython3",
   "version": "3.9.13"
  }
 },
 "nbformat": 4,
 "nbformat_minor": 5
}
